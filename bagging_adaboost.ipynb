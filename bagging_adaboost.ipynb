{
 "cells": [
  {
   "cell_type": "markdown",
   "metadata": {},
   "source": [
    "# 基于集成学习的 Amazon 用户评论质量预测"
   ]
  },
  {
   "cell_type": "markdown",
   "metadata": {},
   "source": [
    "## 一、案例简介\n",
    "\n",
    "随着电商平台的兴起，以及疫情的持续影响，线上购物在我们的日常生活中扮演着越来越重要的角色。在进行线上商品挑选时，评论往往是我们十分关注的一个方面。然而目前电商网站的评论质量参差不齐，甚至有水军刷好评或者恶意差评的情况出现，严重影响了顾客的购物体验。因此，对于评论质量的预测成为电商平台越来越关注的话题，如果能自动对评论质量进行评估，就能根据预测结果避免展现低质量的评论。本案例中我们将基于集成学习的方法对 Amazon 现实场景中的评论质量进行预测。\n",
    "\n",
    "通过手动实现两种集成学习算法（Bagging、AdaBoost.M1）领会集成学习的基本思路，其中基分类器要求使用 SVM 和决策树两种。"
   ]
  },
  {
   "cell_type": "markdown",
   "metadata": {},
   "source": [
    "## 二、数据概览"
   ]
  },
  {
   "cell_type": "code",
   "execution_count": 241,
   "metadata": {},
   "outputs": [],
   "source": [
    "import pandas as pd \n",
    "train_df = pd.read_csv('./data/train.csv', sep='\\t')\n",
    "test_df = pd.read_csv('./data/test.csv', sep='\\t')\n",
    "test_label_df = pd.read_csv('./groundTruth.csv', sep=',')"
   ]
  },
  {
   "cell_type": "code",
   "execution_count": 242,
   "metadata": {},
   "outputs": [
    {
     "data": {
      "text/html": [
       "<div>\n",
       "<style scoped>\n",
       "    .dataframe tbody tr th:only-of-type {\n",
       "        vertical-align: middle;\n",
       "    }\n",
       "\n",
       "    .dataframe tbody tr th {\n",
       "        vertical-align: top;\n",
       "    }\n",
       "\n",
       "    .dataframe thead th {\n",
       "        text-align: right;\n",
       "    }\n",
       "</style>\n",
       "<table border=\"1\" class=\"dataframe\">\n",
       "  <thead>\n",
       "    <tr style=\"text-align: right;\">\n",
       "      <th></th>\n",
       "      <th>reviewerID</th>\n",
       "      <th>asin</th>\n",
       "      <th>reviewText</th>\n",
       "      <th>overall</th>\n",
       "      <th>votes_up</th>\n",
       "      <th>votes_all</th>\n",
       "      <th>label</th>\n",
       "    </tr>\n",
       "  </thead>\n",
       "  <tbody>\n",
       "    <tr>\n",
       "      <th>0</th>\n",
       "      <td>7885</td>\n",
       "      <td>3901</td>\n",
       "      <td>First off, allow me to correct a common mistak...</td>\n",
       "      <td>5.0</td>\n",
       "      <td>6</td>\n",
       "      <td>7</td>\n",
       "      <td>0</td>\n",
       "    </tr>\n",
       "    <tr>\n",
       "      <th>1</th>\n",
       "      <td>52087</td>\n",
       "      <td>47978</td>\n",
       "      <td>I am really troubled by this Story and Enterta...</td>\n",
       "      <td>3.0</td>\n",
       "      <td>99</td>\n",
       "      <td>134</td>\n",
       "      <td>0</td>\n",
       "    </tr>\n",
       "    <tr>\n",
       "      <th>2</th>\n",
       "      <td>5701</td>\n",
       "      <td>3667</td>\n",
       "      <td>A near-perfect film version of a downright glo...</td>\n",
       "      <td>4.0</td>\n",
       "      <td>14</td>\n",
       "      <td>14</td>\n",
       "      <td>1</td>\n",
       "    </tr>\n",
       "    <tr>\n",
       "      <th>3</th>\n",
       "      <td>47191</td>\n",
       "      <td>40892</td>\n",
       "      <td>Keep your expectations low.  Really really low...</td>\n",
       "      <td>1.0</td>\n",
       "      <td>4</td>\n",
       "      <td>7</td>\n",
       "      <td>0</td>\n",
       "    </tr>\n",
       "    <tr>\n",
       "      <th>4</th>\n",
       "      <td>40957</td>\n",
       "      <td>15367</td>\n",
       "      <td>\"they dont make em like this no more...\"well.....</td>\n",
       "      <td>5.0</td>\n",
       "      <td>3</td>\n",
       "      <td>6</td>\n",
       "      <td>0</td>\n",
       "    </tr>\n",
       "  </tbody>\n",
       "</table>\n",
       "</div>"
      ],
      "text/plain": [
       "   reviewerID   asin                                         reviewText  \\\n",
       "0        7885   3901  First off, allow me to correct a common mistak...   \n",
       "1       52087  47978  I am really troubled by this Story and Enterta...   \n",
       "2        5701   3667  A near-perfect film version of a downright glo...   \n",
       "3       47191  40892  Keep your expectations low.  Really really low...   \n",
       "4       40957  15367  \"they dont make em like this no more...\"well.....   \n",
       "\n",
       "   overall  votes_up  votes_all  label  \n",
       "0      5.0         6          7      0  \n",
       "1      3.0        99        134      0  \n",
       "2      4.0        14         14      1  \n",
       "3      1.0         4          7      0  \n",
       "4      5.0         3          6      0  "
      ]
     },
     "execution_count": 242,
     "metadata": {},
     "output_type": "execute_result"
    }
   ],
   "source": [
    "train_df.head()"
   ]
  },
  {
   "cell_type": "code",
   "execution_count": 111,
   "metadata": {},
   "outputs": [
    {
     "data": {
      "text/html": [
       "<div>\n",
       "<style scoped>\n",
       "    .dataframe tbody tr th:only-of-type {\n",
       "        vertical-align: middle;\n",
       "    }\n",
       "\n",
       "    .dataframe tbody tr th {\n",
       "        vertical-align: top;\n",
       "    }\n",
       "\n",
       "    .dataframe thead th {\n",
       "        text-align: right;\n",
       "    }\n",
       "</style>\n",
       "<table border=\"1\" class=\"dataframe\">\n",
       "  <thead>\n",
       "    <tr style=\"text-align: right;\">\n",
       "      <th></th>\n",
       "      <th>Id</th>\n",
       "      <th>reviewerID</th>\n",
       "      <th>asin</th>\n",
       "      <th>reviewText</th>\n",
       "      <th>overall</th>\n",
       "    </tr>\n",
       "  </thead>\n",
       "  <tbody>\n",
       "    <tr>\n",
       "      <th>0</th>\n",
       "      <td>0</td>\n",
       "      <td>82947</td>\n",
       "      <td>37386</td>\n",
       "      <td>I REALLY wanted this series but I am in SHOCK ...</td>\n",
       "      <td>1.0</td>\n",
       "    </tr>\n",
       "    <tr>\n",
       "      <th>1</th>\n",
       "      <td>1</td>\n",
       "      <td>10154</td>\n",
       "      <td>23543</td>\n",
       "      <td>I have to say that this is a work of art for m...</td>\n",
       "      <td>4.0</td>\n",
       "    </tr>\n",
       "    <tr>\n",
       "      <th>2</th>\n",
       "      <td>2</td>\n",
       "      <td>5789</td>\n",
       "      <td>5724</td>\n",
       "      <td>Alien 3 is certainly the most controversal fil...</td>\n",
       "      <td>3.0</td>\n",
       "    </tr>\n",
       "    <tr>\n",
       "      <th>3</th>\n",
       "      <td>3</td>\n",
       "      <td>9198</td>\n",
       "      <td>5909</td>\n",
       "      <td>I love this film...preachy?  Well, of course i...</td>\n",
       "      <td>5.0</td>\n",
       "    </tr>\n",
       "    <tr>\n",
       "      <th>4</th>\n",
       "      <td>4</td>\n",
       "      <td>33252</td>\n",
       "      <td>21214</td>\n",
       "      <td>Even though I previously bought the Gamera Dou...</td>\n",
       "      <td>5.0</td>\n",
       "    </tr>\n",
       "  </tbody>\n",
       "</table>\n",
       "</div>"
      ],
      "text/plain": [
       "   Id  reviewerID   asin                                         reviewText  \\\n",
       "0   0       82947  37386  I REALLY wanted this series but I am in SHOCK ...   \n",
       "1   1       10154  23543  I have to say that this is a work of art for m...   \n",
       "2   2        5789   5724  Alien 3 is certainly the most controversal fil...   \n",
       "3   3        9198   5909  I love this film...preachy?  Well, of course i...   \n",
       "4   4       33252  21214  Even though I previously bought the Gamera Dou...   \n",
       "\n",
       "   overall  \n",
       "0      1.0  \n",
       "1      4.0  \n",
       "2      3.0  \n",
       "3      5.0  \n",
       "4      5.0  "
      ]
     },
     "execution_count": 111,
     "metadata": {},
     "output_type": "execute_result"
    }
   ],
   "source": [
    "test_df.head()"
   ]
  },
  {
   "cell_type": "code",
   "execution_count": 116,
   "metadata": {},
   "outputs": [
    {
     "data": {
      "text/html": [
       "<div>\n",
       "<style scoped>\n",
       "    .dataframe tbody tr th:only-of-type {\n",
       "        vertical-align: middle;\n",
       "    }\n",
       "\n",
       "    .dataframe tbody tr th {\n",
       "        vertical-align: top;\n",
       "    }\n",
       "\n",
       "    .dataframe thead th {\n",
       "        text-align: right;\n",
       "    }\n",
       "</style>\n",
       "<table border=\"1\" class=\"dataframe\">\n",
       "  <thead>\n",
       "    <tr style=\"text-align: right;\">\n",
       "      <th></th>\n",
       "      <th>Id</th>\n",
       "      <th>Expected</th>\n",
       "    </tr>\n",
       "  </thead>\n",
       "  <tbody>\n",
       "    <tr>\n",
       "      <th>0</th>\n",
       "      <td>0</td>\n",
       "      <td>0</td>\n",
       "    </tr>\n",
       "    <tr>\n",
       "      <th>1</th>\n",
       "      <td>1</td>\n",
       "      <td>0</td>\n",
       "    </tr>\n",
       "    <tr>\n",
       "      <th>2</th>\n",
       "      <td>2</td>\n",
       "      <td>0</td>\n",
       "    </tr>\n",
       "    <tr>\n",
       "      <th>3</th>\n",
       "      <td>3</td>\n",
       "      <td>0</td>\n",
       "    </tr>\n",
       "    <tr>\n",
       "      <th>4</th>\n",
       "      <td>4</td>\n",
       "      <td>0</td>\n",
       "    </tr>\n",
       "  </tbody>\n",
       "</table>\n",
       "</div>"
      ],
      "text/plain": [
       "   Id  Expected\n",
       "0   0         0\n",
       "1   1         0\n",
       "2   2         0\n",
       "3   3         0\n",
       "4   4         0"
      ]
     },
     "execution_count": 116,
     "metadata": {},
     "output_type": "execute_result"
    }
   ],
   "source": [
    "test_label_df.head()"
   ]
  },
  {
   "cell_type": "markdown",
   "metadata": {},
   "source": [
    "本次数据来源于 Amazon 电商平台，包含超过 50,000 条用户在购买商品后留下的评论，各列的含义如下：\n",
    "\n",
    "* reviewerID：用户 ID\n",
    "* asin：商品 ID\n",
    "* reviewText：英文评论文本\n",
    "* overall：用户对商品的打分（1-5）\n",
    "* votes_up：认为评论有用的点赞数（只在训练集出现）\n",
    "* votes_all：该评论得到的总评价数（只在训练集出现）\n",
    "* label：评论质量的 label，1 表示高质量，0 表示低质量（只在训练集出现）\n",
    "\n",
    "评论质量的 label 来自于其他用户对评论的 votes，votes_up/votes_all ≥ 0.9 的作为高质量评论。此外测试集包含一个额外的列 ID，标识了每一个测试的样例。"
   ]
  },
  {
   "cell_type": "markdown",
   "metadata": {},
   "source": [
    "Base model: AUC > 0.65\n",
    "\n",
    "Ensemble model: AUC > 0.7"
   ]
  },
  {
   "cell_type": "markdown",
   "metadata": {},
   "source": [
    "一些tips:\n",
    "1. 处理文本特征：sklearn.feature_extraction.text.TfidfVectorizer\n",
    "2. 大矩阵的处理：scipy.sparse\n",
    "3. SVM的运算速度较慢：用linearSVC代替SVC\n",
    "4. Ensemble的基类方法最好能输出probability而不是二分类结果，便于提升集成效果：sklearn.calibration.CalibratedClassifierCV"
   ]
  },
  {
   "cell_type": "markdown",
   "metadata": {},
   "source": [
    "### 根据数据格式设计特征的表示"
   ]
  },
  {
   "cell_type": "code",
   "execution_count": 191,
   "metadata": {},
   "outputs": [],
   "source": [
    "import numpy as np\n",
    "from sklearn.feature_extraction.text import TfidfVectorizer\n",
    "from sklearn.svm import LinearSVC\n",
    "from sklearn.svm import SVC\n",
    "from sklearn.metrics import roc_auc_score\n",
    "from sklearn.calibration import CalibratedClassifierCV"
   ]
  },
  {
   "cell_type": "code",
   "execution_count": 193,
   "metadata": {},
   "outputs": [],
   "source": [
    "vectorizer = TfidfVectorizer()\n",
    "train_X = vectorizer.fit_transform(train_df['reviewText'][:2000])\n",
    "train_y = np.array(train_df['label'][:2000])\n",
    "test_X = vectorizer.transform(test_df['reviewText'][:200])\n",
    "test_y = np.array(test_label_df['Expected'][:200])"
   ]
  },
  {
   "cell_type": "code",
   "execution_count": 194,
   "metadata": {},
   "outputs": [
    {
     "name": "stdout",
     "output_type": "stream",
     "text": [
      "(2000, 29267)\n",
      "(2000,)\n",
      "(200, 29267)\n",
      "(200,)\n"
     ]
    }
   ],
   "source": [
    "print(train_X.shape)\n",
    "print(train_y.shape)\n",
    "print(test_X.shape)\n",
    "print(test_y.shape)"
   ]
  },
  {
   "cell_type": "markdown",
   "metadata": {},
   "source": [
    "### Bagging + SVM"
   ]
  },
  {
   "cell_type": "code",
   "execution_count": 195,
   "metadata": {},
   "outputs": [],
   "source": [
    "from sklearn.model_selection import train_test_split"
   ]
  },
  {
   "cell_type": "markdown",
   "metadata": {},
   "source": [
    "#### predict 0/1"
   ]
  },
  {
   "cell_type": "code",
   "execution_count": 196,
   "metadata": {},
   "outputs": [],
   "source": [
    "def bagging_svm(num_model, train_X, train_y, num_sample_per, test_X):\n",
    "    predict_result_sum = np.zeros(test_X.shape[0])\n",
    "    for _ in range(num_model):\n",
    "        svm_classifier = LinearSVC()\n",
    "        train_num = len(train_y)\n",
    "        sample_index = np.random.choice(train_num, int(num_sample_per*train_num), replace=True)\n",
    "        sample_X, sample_y = train_X[sample_index],train_y[sample_index]\n",
    "        svm_classifier.fit(sample_X, sample_y)\n",
    "        predict_result = svm_classifier.predict(test_X)\n",
    "        predict_result_sum += predict_result\n",
    "    predict_result_sum /= num_model\n",
    "    return predict_result_sum"
   ]
  },
  {
   "cell_type": "code",
   "execution_count": 197,
   "metadata": {},
   "outputs": [
    {
     "data": {
      "text/plain": [
       "0.6200464267948931"
      ]
     },
     "execution_count": 197,
     "metadata": {},
     "output_type": "execute_result"
    }
   ],
   "source": [
    "predict_bagging_svm = bagging_svm(10,train_X,train_y,0.5,test_X)\n",
    "roc_auc_score(test_y,predict_bagging_svm)"
   ]
  },
  {
   "cell_type": "markdown",
   "metadata": {},
   "source": [
    "#### predict probability"
   ]
  },
  {
   "cell_type": "code",
   "execution_count": 198,
   "metadata": {},
   "outputs": [],
   "source": [
    "def bagging_svm_calib(num_model, train_X, train_y, num_sample_per, test_X):\n",
    "    predict_result_sum = np.zeros(test_X.shape[0])\n",
    "    for _ in range(num_model):\n",
    "        train_num = len(train_y)\n",
    "        sample_index = np.random.choice(train_num, int(num_sample_per*train_num), replace=True)\n",
    "        sample_X, sample_y = train_X[sample_index],train_y[sample_index]\n",
    "        X_train, X_calib, y_train, y_calib = train_test_split(\n",
    "                                             sample_X, sample_y, random_state=42)\n",
    "        \n",
    "        base_clf = LinearSVC()\n",
    "        base_clf.fit(X_train, y_train)\n",
    "        calibrated_clf = CalibratedClassifierCV(\n",
    "                       base_estimator=base_clf,\n",
    "                       cv=\"prefit\"\n",
    "                     )\n",
    "        calibrated_clf.fit(X_calib, y_calib)\n",
    "        \n",
    "        predict_result = calibrated_clf.predict_proba(test_X)[:,1]\n",
    "        predict_result_sum += predict_result\n",
    "    predict_result_sum /= num_model\n",
    "    return predict_result_sum"
   ]
  },
  {
   "cell_type": "code",
   "execution_count": 199,
   "metadata": {},
   "outputs": [
    {
     "data": {
      "text/plain": [
       "0.7410048084894711"
      ]
     },
     "execution_count": 199,
     "metadata": {},
     "output_type": "execute_result"
    }
   ],
   "source": [
    "predict_bagging_svm_calib = bagging_svm_calib(10,train_X,train_y,0.5,test_X)\n",
    "roc_auc_score(test_y,predict_bagging_svm_calib)"
   ]
  },
  {
   "cell_type": "markdown",
   "metadata": {},
   "source": [
    "### Bagging + 决策树"
   ]
  },
  {
   "cell_type": "code",
   "execution_count": 200,
   "metadata": {},
   "outputs": [],
   "source": [
    "from sklearn.tree import DecisionTreeClassifier"
   ]
  },
  {
   "cell_type": "code",
   "execution_count": 201,
   "metadata": {},
   "outputs": [],
   "source": [
    "def bagging_dc_calib(num_model, train_X, train_y, num_sample_per, test_X):\n",
    "    predict_result_sum = np.zeros(test_X.shape[0])\n",
    "    for _ in range(num_model):\n",
    "        train_num = len(train_y)\n",
    "        sample_index = np.random.choice(train_num, int(num_sample_per*train_num), replace=True)\n",
    "        sample_X, sample_y = train_X[sample_index],train_y[sample_index]\n",
    "        X_train, X_calib, y_train, y_calib = train_test_split(\n",
    "                                             sample_X, sample_y, random_state=42)\n",
    "        \n",
    "        base_clf = DecisionTreeClassifier()\n",
    "        base_clf.fit(X_train, y_train)\n",
    "        calibrated_clf = CalibratedClassifierCV(\n",
    "                       base_estimator=base_clf,\n",
    "                       cv=\"prefit\"\n",
    "                     )\n",
    "        calibrated_clf.fit(X_calib, y_calib)\n",
    "        \n",
    "        predict_result = calibrated_clf.predict_proba(test_X)[:,1]\n",
    "        predict_result_sum += predict_result\n",
    "    predict_result_sum /= num_model\n",
    "    return predict_result_sum"
   ]
  },
  {
   "cell_type": "code",
   "execution_count": 202,
   "metadata": {},
   "outputs": [
    {
     "data": {
      "text/plain": [
       "0.6144917924059029"
      ]
     },
     "execution_count": 202,
     "metadata": {},
     "output_type": "execute_result"
    }
   ],
   "source": [
    "predict_bagging_dc_calib = bagging_dc_calib(10,train_X,train_y,0.5,test_X)\n",
    "roc_auc_score(test_y,predict_bagging_dc_calib)"
   ]
  },
  {
   "cell_type": "code",
   "execution_count": 203,
   "metadata": {},
   "outputs": [
    {
     "data": {
      "text/plain": [
       "0.6580998176090203"
      ]
     },
     "execution_count": 203,
     "metadata": {},
     "output_type": "execute_result"
    }
   ],
   "source": [
    "predict_bagging_dc_calib = bagging_dc_calib(20,train_X,train_y,0.1,test_X)\n",
    "roc_auc_score(test_y,predict_bagging_dc_calib)"
   ]
  },
  {
   "cell_type": "markdown",
   "metadata": {},
   "source": [
    "### AdaBoost.M1 + SVM"
   ]
  },
  {
   "cell_type": "code",
   "execution_count": 204,
   "metadata": {},
   "outputs": [],
   "source": [
    "from sklearn.metrics import accuracy_score"
   ]
  },
  {
   "cell_type": "code",
   "execution_count": 225,
   "metadata": {},
   "outputs": [],
   "source": [
    "def adaboost_m1_svm(num_model, train_X, train_y,test_X):    \n",
    "    sample_weights = np.ones(len(train_y)) / len(train_y)\n",
    "    beta_list = []\n",
    "    result_list = []\n",
    "    for _ in range(num_model):   \n",
    "        base_clf = LinearSVC()\n",
    "        base_clf.fit(train_X, train_y,sample_weight=sample_weights)\n",
    "        predict_result = base_clf.predict(train_X)\n",
    "\n",
    "        epsilon = 1- accuracy_score(train_y,predict_result,\n",
    "                                    sample_weight=sample_weights)\n",
    "        if epsilon > 0.5:\n",
    "            print('try a better model')\n",
    "            break\n",
    "            \n",
    "        beta = epsilon/(1-epsilon)\n",
    "        beta_list.append(beta)\n",
    "        error_flag = predict_result != train_y\n",
    "        sample_weights *= (1.0 - error_flag) * beta + error_flag\n",
    "        sample_weights /= np.sum(sample_weights) / len(sample_weights)\n",
    "\n",
    "        predict_result_test = base_clf.predict(test_X)\n",
    "        result_list.append(predict_result_test)\n",
    "\n",
    "    beta_list = np.log(1 / np.array(beta_list))\n",
    "    beta_list /= np.sum(beta_list)\n",
    "    # print(beta_list.shape)\n",
    "\n",
    "    return (np.array(result_list) * beta_list[:, None]).sum(0) "
   ]
  },
  {
   "cell_type": "code",
   "execution_count": 231,
   "metadata": {},
   "outputs": [
    {
     "data": {
      "text/plain": [
       "0.7187033659426298"
      ]
     },
     "execution_count": 231,
     "metadata": {},
     "output_type": "execute_result"
    }
   ],
   "source": [
    "predict_adaboost_m1_svm = adaboost_m1_svm(30, train_X, \n",
    "                                          train_y,test_X)\n",
    "roc_auc_score(test_y,predict_adaboost_m1_svm)"
   ]
  },
  {
   "cell_type": "markdown",
   "metadata": {},
   "source": [
    "### AdaBoost.M1 + 决策树"
   ]
  },
  {
   "cell_type": "code",
   "execution_count": 238,
   "metadata": {},
   "outputs": [],
   "source": [
    "def adaboost_m1_dc(num_model, train_X, train_y,test_X):    \n",
    "    sample_weights = np.ones(len(train_y)) / len(train_y)\n",
    "    beta_list = []\n",
    "    result_list = []\n",
    "    for _ in range(num_model):   \n",
    "        base_clf = DecisionTreeClassifier(max_depth=10, class_weight='balanced')\n",
    "        base_clf.fit(train_X, train_y,sample_weight=sample_weights)\n",
    "        predict_result = base_clf.predict(train_X)\n",
    "\n",
    "        epsilon = 1- accuracy_score(train_y,predict_result,\n",
    "                                    sample_weight=sample_weights)\n",
    "        if epsilon > 0.5:\n",
    "            print('try a better model')\n",
    "            break\n",
    "            \n",
    "        beta = epsilon/(1-epsilon)\n",
    "        beta_list.append(beta)\n",
    "        error_flag = predict_result != train_y\n",
    "        sample_weights *= (1.0 - error_flag) * beta + error_flag\n",
    "        sample_weights /= np.sum(sample_weights) / len(sample_weights)\n",
    "\n",
    "        predict_result_test = base_clf.predict(test_X)\n",
    "        result_list.append(predict_result_test)\n",
    "\n",
    "    beta_list = np.log(1 / np.array(beta_list))\n",
    "    beta_list /= np.sum(beta_list)\n",
    "    # print(beta_list.shape)\n",
    "\n",
    "    return (np.array(result_list) * beta_list[:, None]).sum(0) "
   ]
  },
  {
   "cell_type": "code",
   "execution_count": 240,
   "metadata": {},
   "outputs": [
    {
     "data": {
      "text/plain": [
       "0.664898026861217"
      ]
     },
     "execution_count": 240,
     "metadata": {},
     "output_type": "execute_result"
    }
   ],
   "source": [
    "predict_adaboost_m1_dc = adaboost_m1_dc(10, train_X, \n",
    "                                          train_y,test_X)\n",
    "roc_auc_score(test_y,predict_adaboost_m1_dc)"
   ]
  }
 ],
 "metadata": {
  "kernelspec": {
   "display_name": "Python 3 (ipykernel)",
   "language": "python",
   "name": "python3"
  },
  "language_info": {
   "codemirror_mode": {
    "name": "ipython",
    "version": 3
   },
   "file_extension": ".py",
   "mimetype": "text/x-python",
   "name": "python",
   "nbconvert_exporter": "python",
   "pygments_lexer": "ipython3",
   "version": "3.9.7"
  }
 },
 "nbformat": 4,
 "nbformat_minor": 4
}
