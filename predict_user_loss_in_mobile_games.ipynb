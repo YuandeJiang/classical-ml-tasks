{
 "cells": [
  {
   "cell_type": "markdown",
   "metadata": {
    "id": "C2754D5FDF9E4439B85553754A7BB82C",
    "jupyter": {},
    "notebookId": "63567316694ae1ca0c8ffc3a",
    "scrolled": false,
    "slideshow": {
     "slide_type": "slide"
    },
    "tags": []
   },
   "source": [
    "## 数据概览  \n",
    "  \n",
    "本次使用的是一个休闲类闯关手游的数据，用户在游戏中不断闯关，每一关的基本任务是在限定步数内达到某个目标。每次闯关可能成功也可能失败，一般情况下用户只在完成一关后进入下一关，闯关过程中可以使用道具或提示等帮助。  \n",
    "  \n",
    "对大多数手游来说，用户流失往往发生在早期，因此次周的留存情况是公司关注的一个重点。本次数据选取了 2020.2.1 注册的所有用户在 2.1-2.4 的交互数据，数据经过筛选保证这些注册用户在前四日至少有两日登录。流失的定义则参照次周（2.7-2.13）的登录情况，如果没有登录为流失。  \n",
    "  \n",
    "此数据展现的是更原始的数据记录，更接近公司实际日志的形式，共包含 5 个文件："
   ]
  },
  {
   "cell_type": "markdown",
   "metadata": {
    "id": "B773D27F33C540B89709C6F1D6B61DE2",
    "jupyter": {},
    "notebookId": "63567316694ae1ca0c8ffc3a",
    "scrolled": false,
    "slideshow": {
     "slide_type": "slide"
    },
    "tags": []
   },
   "source": [
    "### train.csv  \n",
    "  \n",
    "训练集用户，包括用户 id（从 1 开始）以及对应是否为流失用户的 label（1：流失，0：留存）。"
   ]
  },
  {
   "cell_type": "code",
   "execution_count": 258,
   "metadata": {
    "id": "D1DA9642182A43F59FB49E20454FD86D",
    "jupyter": {},
    "notebookId": "63567316694ae1ca0c8ffc3a",
    "scrolled": true,
    "slideshow": {
     "slide_type": "slide"
    },
    "tags": []
   },
   "outputs": [
    {
     "data": {
      "text/html": [
       "<div>\n",
       "<style scoped>\n",
       "    .dataframe tbody tr th:only-of-type {\n",
       "        vertical-align: middle;\n",
       "    }\n",
       "\n",
       "    .dataframe tbody tr th {\n",
       "        vertical-align: top;\n",
       "    }\n",
       "\n",
       "    .dataframe thead th {\n",
       "        text-align: right;\n",
       "    }\n",
       "</style>\n",
       "<table border=\"1\" class=\"dataframe\">\n",
       "  <thead>\n",
       "    <tr style=\"text-align: right;\">\n",
       "      <th></th>\n",
       "      <th>0</th>\n",
       "      <th>1</th>\n",
       "      <th>2</th>\n",
       "      <th>3</th>\n",
       "      <th>4</th>\n",
       "      <th>5</th>\n",
       "      <th>6</th>\n",
       "      <th>7</th>\n",
       "      <th>8</th>\n",
       "      <th>9</th>\n",
       "      <th>...</th>\n",
       "      <th>8148</th>\n",
       "      <th>8149</th>\n",
       "      <th>8150</th>\n",
       "      <th>8151</th>\n",
       "      <th>8152</th>\n",
       "      <th>8153</th>\n",
       "      <th>8154</th>\n",
       "      <th>8155</th>\n",
       "      <th>8156</th>\n",
       "      <th>8157</th>\n",
       "    </tr>\n",
       "  </thead>\n",
       "  <tbody>\n",
       "    <tr>\n",
       "      <th>user_id</th>\n",
       "      <td>2774</td>\n",
       "      <td>2775</td>\n",
       "      <td>2776</td>\n",
       "      <td>2777</td>\n",
       "      <td>2778</td>\n",
       "      <td>2779</td>\n",
       "      <td>2780</td>\n",
       "      <td>2781</td>\n",
       "      <td>2782</td>\n",
       "      <td>2783</td>\n",
       "      <td>...</td>\n",
       "      <td>10922</td>\n",
       "      <td>10923</td>\n",
       "      <td>10924</td>\n",
       "      <td>10925</td>\n",
       "      <td>10926</td>\n",
       "      <td>10927</td>\n",
       "      <td>10928</td>\n",
       "      <td>10929</td>\n",
       "      <td>10930</td>\n",
       "      <td>10931</td>\n",
       "    </tr>\n",
       "    <tr>\n",
       "      <th>label</th>\n",
       "      <td>0</td>\n",
       "      <td>0</td>\n",
       "      <td>1</td>\n",
       "      <td>0</td>\n",
       "      <td>1</td>\n",
       "      <td>1</td>\n",
       "      <td>0</td>\n",
       "      <td>0</td>\n",
       "      <td>0</td>\n",
       "      <td>1</td>\n",
       "      <td>...</td>\n",
       "      <td>0</td>\n",
       "      <td>0</td>\n",
       "      <td>0</td>\n",
       "      <td>1</td>\n",
       "      <td>1</td>\n",
       "      <td>1</td>\n",
       "      <td>1</td>\n",
       "      <td>0</td>\n",
       "      <td>1</td>\n",
       "      <td>0</td>\n",
       "    </tr>\n",
       "  </tbody>\n",
       "</table>\n",
       "<p>2 rows × 8158 columns</p>\n",
       "</div>"
      ],
      "text/plain": [
       "         0     1     2     3     4     5     6     7     8     9     ...  \\\n",
       "user_id  2774  2775  2776  2777  2778  2779  2780  2781  2782  2783  ...   \n",
       "label       0     0     1     0     1     1     0     0     0     1  ...   \n",
       "\n",
       "          8148   8149   8150   8151   8152   8153   8154   8155   8156   8157  \n",
       "user_id  10922  10923  10924  10925  10926  10927  10928  10929  10930  10931  \n",
       "label        0      0      0      1      1      1      1      0      1      0  \n",
       "\n",
       "[2 rows x 8158 columns]"
      ]
     },
     "execution_count": 258,
     "metadata": {},
     "output_type": "execute_result"
    }
   ],
   "source": [
    "import pandas as pd\n",
    "import numpy as np\n",
    "\n",
    "train_df = pd.read_csv('data/train.csv', sep='\\t')\n",
    "train_df.T"
   ]
  },
  {
   "cell_type": "code",
   "execution_count": 4,
   "metadata": {
    "id": "09CF34A1B3544585BE28688BFCCBB948",
    "jupyter": {},
    "notebookId": "63567316694ae1ca0c8ffc3a",
    "scrolled": false,
    "slideshow": {
     "slide_type": "slide"
    },
    "tags": []
   },
   "outputs": [
    {
     "data": {
      "text/plain": [
       "0    5428\n",
       "1    2730\n",
       "Name: label, dtype: int64"
      ]
     },
     "execution_count": 4,
     "metadata": {},
     "output_type": "execute_result"
    }
   ],
   "source": [
    "train_df['label'].value_counts()"
   ]
  },
  {
   "cell_type": "markdown",
   "metadata": {
    "id": "B79B5660CF4343DB8E539BE8EE0A5EC6",
    "jupyter": {},
    "notebookId": "63567316694ae1ca0c8ffc3a",
    "scrolled": false,
    "slideshow": {
     "slide_type": "slide"
    },
    "tags": []
   },
   "source": [
    "训练集共 8158 个用户，其中流失用户大约占 1/3，需要注意的是为了匿名化，这里数据都经过一定的非均匀抽样处理，流失率并不反映实际游戏的情况，用户与关卡的 id 同样经过了重编号，但对于流失预测任务来说并没有影响。"
   ]
  },
  {
   "cell_type": "markdown",
   "metadata": {
    "id": "48131901A4E143E4A0619BC49E425A55",
    "jupyter": {},
    "notebookId": "63567316694ae1ca0c8ffc3a",
    "scrolled": false,
    "slideshow": {
     "slide_type": "slide"
    },
    "tags": []
   },
   "source": [
    "### dev.csv  \n",
    "  \n",
    "验证集格式和训练集相同，主要为了方便离线测试与模型选择。"
   ]
  },
  {
   "cell_type": "code",
   "execution_count": 259,
   "metadata": {
    "id": "88F199F996A64E4F8849476BAF8414A4",
    "jupyter": {},
    "notebookId": "63567316694ae1ca0c8ffc3a",
    "scrolled": false,
    "slideshow": {
     "slide_type": "slide"
    },
    "tags": []
   },
   "outputs": [
    {
     "data": {
      "text/html": [
       "<div>\n",
       "<style scoped>\n",
       "    .dataframe tbody tr th:only-of-type {\n",
       "        vertical-align: middle;\n",
       "    }\n",
       "\n",
       "    .dataframe tbody tr th {\n",
       "        vertical-align: top;\n",
       "    }\n",
       "\n",
       "    .dataframe thead th {\n",
       "        text-align: right;\n",
       "    }\n",
       "</style>\n",
       "<table border=\"1\" class=\"dataframe\">\n",
       "  <thead>\n",
       "    <tr style=\"text-align: right;\">\n",
       "      <th></th>\n",
       "      <th>0</th>\n",
       "      <th>1</th>\n",
       "      <th>2</th>\n",
       "      <th>3</th>\n",
       "      <th>4</th>\n",
       "      <th>5</th>\n",
       "      <th>6</th>\n",
       "      <th>7</th>\n",
       "      <th>8</th>\n",
       "      <th>9</th>\n",
       "      <th>...</th>\n",
       "      <th>2648</th>\n",
       "      <th>2649</th>\n",
       "      <th>2650</th>\n",
       "      <th>2651</th>\n",
       "      <th>2652</th>\n",
       "      <th>2653</th>\n",
       "      <th>2654</th>\n",
       "      <th>2655</th>\n",
       "      <th>2656</th>\n",
       "      <th>2657</th>\n",
       "    </tr>\n",
       "  </thead>\n",
       "  <tbody>\n",
       "    <tr>\n",
       "      <th>user_id</th>\n",
       "      <td>10932</td>\n",
       "      <td>10933</td>\n",
       "      <td>10934</td>\n",
       "      <td>10935</td>\n",
       "      <td>10936</td>\n",
       "      <td>10937</td>\n",
       "      <td>10938</td>\n",
       "      <td>10939</td>\n",
       "      <td>10940</td>\n",
       "      <td>10941</td>\n",
       "      <td>...</td>\n",
       "      <td>13580</td>\n",
       "      <td>13581</td>\n",
       "      <td>13582</td>\n",
       "      <td>13583</td>\n",
       "      <td>13584</td>\n",
       "      <td>13585</td>\n",
       "      <td>13586</td>\n",
       "      <td>13587</td>\n",
       "      <td>13588</td>\n",
       "      <td>13589</td>\n",
       "    </tr>\n",
       "    <tr>\n",
       "      <th>label</th>\n",
       "      <td>0</td>\n",
       "      <td>1</td>\n",
       "      <td>0</td>\n",
       "      <td>1</td>\n",
       "      <td>0</td>\n",
       "      <td>0</td>\n",
       "      <td>0</td>\n",
       "      <td>0</td>\n",
       "      <td>0</td>\n",
       "      <td>1</td>\n",
       "      <td>...</td>\n",
       "      <td>0</td>\n",
       "      <td>1</td>\n",
       "      <td>1</td>\n",
       "      <td>0</td>\n",
       "      <td>1</td>\n",
       "      <td>0</td>\n",
       "      <td>0</td>\n",
       "      <td>0</td>\n",
       "      <td>1</td>\n",
       "      <td>0</td>\n",
       "    </tr>\n",
       "  </tbody>\n",
       "</table>\n",
       "<p>2 rows × 2658 columns</p>\n",
       "</div>"
      ],
      "text/plain": [
       "          0      1      2      3      4      5      6      7      8      9     \\\n",
       "user_id  10932  10933  10934  10935  10936  10937  10938  10939  10940  10941   \n",
       "label        0      1      0      1      0      0      0      0      0      1   \n",
       "\n",
       "         ...   2648   2649   2650   2651   2652   2653   2654   2655   2656  \\\n",
       "user_id  ...  13580  13581  13582  13583  13584  13585  13586  13587  13588   \n",
       "label    ...      0      1      1      0      1      0      0      0      1   \n",
       "\n",
       "          2657  \n",
       "user_id  13589  \n",
       "label        0  \n",
       "\n",
       "[2 rows x 2658 columns]"
      ]
     },
     "execution_count": 259,
     "metadata": {},
     "output_type": "execute_result"
    }
   ],
   "source": [
    "dev_df = pd.read_csv('data/dev.csv', sep='\\t')\n",
    "dev_df.T"
   ]
  },
  {
   "cell_type": "markdown",
   "metadata": {
    "id": "48BEB66BD0FD486B81E0C585273AD30A",
    "jupyter": {},
    "notebookId": "63567316694ae1ca0c8ffc3a",
    "scrolled": false,
    "slideshow": {
     "slide_type": "slide"
    },
    "tags": []
   },
   "source": [
    "### test.csv  \n",
    "测试集只包含用户 id，任务就是要预测这些用户的流失概率。"
   ]
  },
  {
   "cell_type": "code",
   "execution_count": 260,
   "metadata": {
    "id": "CEAE2BB0AA3349E39FB49D13B415D5F5",
    "jupyter": {},
    "notebookId": "63567316694ae1ca0c8ffc3a",
    "scrolled": false,
    "slideshow": {
     "slide_type": "slide"
    },
    "tags": []
   },
   "outputs": [
    {
     "data": {
      "text/html": [
       "<div>\n",
       "<style scoped>\n",
       "    .dataframe tbody tr th:only-of-type {\n",
       "        vertical-align: middle;\n",
       "    }\n",
       "\n",
       "    .dataframe tbody tr th {\n",
       "        vertical-align: top;\n",
       "    }\n",
       "\n",
       "    .dataframe thead th {\n",
       "        text-align: right;\n",
       "    }\n",
       "</style>\n",
       "<table border=\"1\" class=\"dataframe\">\n",
       "  <thead>\n",
       "    <tr style=\"text-align: right;\">\n",
       "      <th></th>\n",
       "      <th>0</th>\n",
       "      <th>1</th>\n",
       "      <th>2</th>\n",
       "      <th>3</th>\n",
       "      <th>4</th>\n",
       "      <th>5</th>\n",
       "      <th>6</th>\n",
       "      <th>7</th>\n",
       "      <th>8</th>\n",
       "      <th>9</th>\n",
       "      <th>...</th>\n",
       "      <th>2763</th>\n",
       "      <th>2764</th>\n",
       "      <th>2765</th>\n",
       "      <th>2766</th>\n",
       "      <th>2767</th>\n",
       "      <th>2768</th>\n",
       "      <th>2769</th>\n",
       "      <th>2770</th>\n",
       "      <th>2771</th>\n",
       "      <th>2772</th>\n",
       "    </tr>\n",
       "  </thead>\n",
       "  <tbody>\n",
       "    <tr>\n",
       "      <th>user_id</th>\n",
       "      <td>1</td>\n",
       "      <td>2</td>\n",
       "      <td>3</td>\n",
       "      <td>4</td>\n",
       "      <td>5</td>\n",
       "      <td>6</td>\n",
       "      <td>7</td>\n",
       "      <td>8</td>\n",
       "      <td>9</td>\n",
       "      <td>10</td>\n",
       "      <td>...</td>\n",
       "      <td>2764</td>\n",
       "      <td>2765</td>\n",
       "      <td>2766</td>\n",
       "      <td>2767</td>\n",
       "      <td>2768</td>\n",
       "      <td>2769</td>\n",
       "      <td>2770</td>\n",
       "      <td>2771</td>\n",
       "      <td>2772</td>\n",
       "      <td>2773</td>\n",
       "    </tr>\n",
       "  </tbody>\n",
       "</table>\n",
       "<p>1 rows × 2773 columns</p>\n",
       "</div>"
      ],
      "text/plain": [
       "         0     1     2     3     4     5     6     7     8     9     ...  \\\n",
       "user_id     1     2     3     4     5     6     7     8     9    10  ...   \n",
       "\n",
       "         2763  2764  2765  2766  2767  2768  2769  2770  2771  2772  \n",
       "user_id  2764  2765  2766  2767  2768  2769  2770  2771  2772  2773  \n",
       "\n",
       "[1 rows x 2773 columns]"
      ]
     },
     "execution_count": 260,
     "metadata": {},
     "output_type": "execute_result"
    }
   ],
   "source": [
    "test_df = pd.read_csv('data/test.csv', sep='\\t')\n",
    "test_df.T"
   ]
  },
  {
   "cell_type": "markdown",
   "metadata": {
    "id": "B6ABC0F4AF1D496989A479D5440ADC4F",
    "jupyter": {},
    "notebookId": "63567316694ae1ca0c8ffc3a",
    "scrolled": false,
    "slideshow": {
     "slide_type": "slide"
    },
    "tags": []
   },
   "source": [
    "### level_seq.csv  \n",
    "这个是核心的数据文件，包含用户游玩每个关卡的记录，每一条记录是对某个关卡的一次尝试，具体每列的含义如下：  \n",
    "  \n",
    "* `user_id`：用户 id，和训练、验证、测试集中的可以匹配；  \n",
    "* `level_id`：关卡 id；  \n",
    "* `f_success`：是否通关（1：通关，0：失败）；  \n",
    "* `f_duration`：此次尝试所用的时间（单位 s）；  \n",
    "* `f_reststep`：剩余步数与限定步数之比（失败为 0）；  \n",
    "* `f_help`：是否使用了道具、提示等额外帮助（1：使用，0：未使用）；  \n",
    "* `time`：时间戳。"
   ]
  },
  {
   "cell_type": "code",
   "execution_count": 261,
   "metadata": {
    "id": "2113E226442548CD93A941E9D3C604E4",
    "jupyter": {},
    "notebookId": "63567316694ae1ca0c8ffc3a",
    "scrolled": false,
    "slideshow": {
     "slide_type": "slide"
    },
    "tags": []
   },
   "outputs": [
    {
     "data": {
      "text/html": [
       "<div>\n",
       "<style scoped>\n",
       "    .dataframe tbody tr th:only-of-type {\n",
       "        vertical-align: middle;\n",
       "    }\n",
       "\n",
       "    .dataframe tbody tr th {\n",
       "        vertical-align: top;\n",
       "    }\n",
       "\n",
       "    .dataframe thead th {\n",
       "        text-align: right;\n",
       "    }\n",
       "</style>\n",
       "<table border=\"1\" class=\"dataframe\">\n",
       "  <thead>\n",
       "    <tr style=\"text-align: right;\">\n",
       "      <th></th>\n",
       "      <th>user_id</th>\n",
       "      <th>level_id</th>\n",
       "      <th>f_success</th>\n",
       "      <th>f_duration</th>\n",
       "      <th>f_reststep</th>\n",
       "      <th>f_help</th>\n",
       "      <th>time</th>\n",
       "    </tr>\n",
       "  </thead>\n",
       "  <tbody>\n",
       "    <tr>\n",
       "      <th>0</th>\n",
       "      <td>10932</td>\n",
       "      <td>1</td>\n",
       "      <td>1</td>\n",
       "      <td>127.0</td>\n",
       "      <td>0.500000</td>\n",
       "      <td>0</td>\n",
       "      <td>2020-02-01 00:05:51</td>\n",
       "    </tr>\n",
       "    <tr>\n",
       "      <th>1</th>\n",
       "      <td>10932</td>\n",
       "      <td>2</td>\n",
       "      <td>1</td>\n",
       "      <td>69.0</td>\n",
       "      <td>0.703704</td>\n",
       "      <td>0</td>\n",
       "      <td>2020-02-01 00:08:01</td>\n",
       "    </tr>\n",
       "    <tr>\n",
       "      <th>2</th>\n",
       "      <td>10932</td>\n",
       "      <td>3</td>\n",
       "      <td>1</td>\n",
       "      <td>67.0</td>\n",
       "      <td>0.560000</td>\n",
       "      <td>0</td>\n",
       "      <td>2020-02-01 00:09:50</td>\n",
       "    </tr>\n",
       "    <tr>\n",
       "      <th>3</th>\n",
       "      <td>10932</td>\n",
       "      <td>4</td>\n",
       "      <td>1</td>\n",
       "      <td>58.0</td>\n",
       "      <td>0.700000</td>\n",
       "      <td>0</td>\n",
       "      <td>2020-02-01 00:11:16</td>\n",
       "    </tr>\n",
       "    <tr>\n",
       "      <th>4</th>\n",
       "      <td>10932</td>\n",
       "      <td>5</td>\n",
       "      <td>1</td>\n",
       "      <td>83.0</td>\n",
       "      <td>0.666667</td>\n",
       "      <td>0</td>\n",
       "      <td>2020-02-01 00:13:12</td>\n",
       "    </tr>\n",
       "    <tr>\n",
       "      <th>...</th>\n",
       "      <td>...</td>\n",
       "      <td>...</td>\n",
       "      <td>...</td>\n",
       "      <td>...</td>\n",
       "      <td>...</td>\n",
       "      <td>...</td>\n",
       "      <td>...</td>\n",
       "    </tr>\n",
       "    <tr>\n",
       "      <th>2194346</th>\n",
       "      <td>10931</td>\n",
       "      <td>40</td>\n",
       "      <td>1</td>\n",
       "      <td>111.0</td>\n",
       "      <td>0.250000</td>\n",
       "      <td>1</td>\n",
       "      <td>2020-02-03 16:26:37</td>\n",
       "    </tr>\n",
       "    <tr>\n",
       "      <th>2194347</th>\n",
       "      <td>10931</td>\n",
       "      <td>41</td>\n",
       "      <td>1</td>\n",
       "      <td>76.0</td>\n",
       "      <td>0.277778</td>\n",
       "      <td>0</td>\n",
       "      <td>2020-02-03 16:28:06</td>\n",
       "    </tr>\n",
       "    <tr>\n",
       "      <th>2194348</th>\n",
       "      <td>10931</td>\n",
       "      <td>42</td>\n",
       "      <td>0</td>\n",
       "      <td>121.0</td>\n",
       "      <td>0.000000</td>\n",
       "      <td>1</td>\n",
       "      <td>2020-02-03 16:30:17</td>\n",
       "    </tr>\n",
       "    <tr>\n",
       "      <th>2194349</th>\n",
       "      <td>10931</td>\n",
       "      <td>42</td>\n",
       "      <td>0</td>\n",
       "      <td>115.0</td>\n",
       "      <td>0.000000</td>\n",
       "      <td>0</td>\n",
       "      <td>2020-02-03 16:33:40</td>\n",
       "    </tr>\n",
       "    <tr>\n",
       "      <th>2194350</th>\n",
       "      <td>10931</td>\n",
       "      <td>42</td>\n",
       "      <td>1</td>\n",
       "      <td>91.0</td>\n",
       "      <td>0.181818</td>\n",
       "      <td>0</td>\n",
       "      <td>2020-02-03 16:35:18</td>\n",
       "    </tr>\n",
       "  </tbody>\n",
       "</table>\n",
       "<p>2194351 rows × 7 columns</p>\n",
       "</div>"
      ],
      "text/plain": [
       "         user_id  level_id  f_success  f_duration  f_reststep  f_help  \\\n",
       "0          10932         1          1       127.0    0.500000       0   \n",
       "1          10932         2          1        69.0    0.703704       0   \n",
       "2          10932         3          1        67.0    0.560000       0   \n",
       "3          10932         4          1        58.0    0.700000       0   \n",
       "4          10932         5          1        83.0    0.666667       0   \n",
       "...          ...       ...        ...         ...         ...     ...   \n",
       "2194346    10931        40          1       111.0    0.250000       1   \n",
       "2194347    10931        41          1        76.0    0.277778       0   \n",
       "2194348    10931        42          0       121.0    0.000000       1   \n",
       "2194349    10931        42          0       115.0    0.000000       0   \n",
       "2194350    10931        42          1        91.0    0.181818       0   \n",
       "\n",
       "                        time  \n",
       "0        2020-02-01 00:05:51  \n",
       "1        2020-02-01 00:08:01  \n",
       "2        2020-02-01 00:09:50  \n",
       "3        2020-02-01 00:11:16  \n",
       "4        2020-02-01 00:13:12  \n",
       "...                      ...  \n",
       "2194346  2020-02-03 16:26:37  \n",
       "2194347  2020-02-03 16:28:06  \n",
       "2194348  2020-02-03 16:30:17  \n",
       "2194349  2020-02-03 16:33:40  \n",
       "2194350  2020-02-03 16:35:18  \n",
       "\n",
       "[2194351 rows x 7 columns]"
      ]
     },
     "execution_count": 261,
     "metadata": {},
     "output_type": "execute_result"
    }
   ],
   "source": [
    "seq_df = pd.read_csv('data/level_seq.csv', sep='\\t')\n",
    "seq_df"
   ]
  },
  {
   "cell_type": "markdown",
   "metadata": {
    "id": "B410280B3C87438B968BA5539A14E581",
    "jupyter": {},
    "notebookId": "63567316694ae1ca0c8ffc3a",
    "scrolled": false,
    "slideshow": {
     "slide_type": "slide"
    },
    "tags": []
   },
   "source": [
    "### level_meta.csv  \n",
    "每个关卡的一些统计特征，可用于表示关卡，具体每列的含义如下：  \n",
    "  \n",
    "* `f_avg_duration`：平均每次尝试花费的时间（单位 s，包含成功与失败的尝试）；  \n",
    "* `f_avg_passrate`：平均通关率；  \n",
    "* `f_avg_win_duration`：平均每次通关花费的时间（单位 s，只包含通关的尝试）；  \n",
    "* `f_avg_retrytimes`：平均重试次数（第二次玩同一关算第 1 次重试）；  \n",
    "* `level_id`：关卡 id，可以和 level_seq.csv 中的关卡匹配。"
   ]
  },
  {
   "cell_type": "code",
   "execution_count": 491,
   "metadata": {
    "id": "A8364CFAB2844D51B48EECF323AE3D72",
    "jupyter": {},
    "notebookId": "63567316694ae1ca0c8ffc3a",
    "scrolled": true,
    "slideshow": {
     "slide_type": "slide"
    },
    "tags": []
   },
   "outputs": [
    {
     "data": {
      "text/html": [
       "<div>\n",
       "<style scoped>\n",
       "    .dataframe tbody tr th:only-of-type {\n",
       "        vertical-align: middle;\n",
       "    }\n",
       "\n",
       "    .dataframe tbody tr th {\n",
       "        vertical-align: top;\n",
       "    }\n",
       "\n",
       "    .dataframe thead th {\n",
       "        text-align: right;\n",
       "    }\n",
       "</style>\n",
       "<table border=\"1\" class=\"dataframe\">\n",
       "  <thead>\n",
       "    <tr style=\"text-align: right;\">\n",
       "      <th></th>\n",
       "      <th>f_avg_duration</th>\n",
       "      <th>f_avg_passrate</th>\n",
       "      <th>f_avg_win_duration</th>\n",
       "      <th>f_avg_retrytimes</th>\n",
       "      <th>level_id</th>\n",
       "    </tr>\n",
       "  </thead>\n",
       "  <tbody>\n",
       "    <tr>\n",
       "      <th>0</th>\n",
       "      <td>39.889940</td>\n",
       "      <td>0.944467</td>\n",
       "      <td>35.582757</td>\n",
       "      <td>0.017225</td>\n",
       "      <td>1</td>\n",
       "    </tr>\n",
       "    <tr>\n",
       "      <th>1</th>\n",
       "      <td>60.683975</td>\n",
       "      <td>0.991836</td>\n",
       "      <td>56.715706</td>\n",
       "      <td>0.004638</td>\n",
       "      <td>2</td>\n",
       "    </tr>\n",
       "    <tr>\n",
       "      <th>2</th>\n",
       "      <td>76.947355</td>\n",
       "      <td>0.991232</td>\n",
       "      <td>71.789943</td>\n",
       "      <td>0.004480</td>\n",
       "      <td>3</td>\n",
       "    </tr>\n",
       "    <tr>\n",
       "      <th>3</th>\n",
       "      <td>58.170347</td>\n",
       "      <td>0.993843</td>\n",
       "      <td>54.842882</td>\n",
       "      <td>0.004761</td>\n",
       "      <td>4</td>\n",
       "    </tr>\n",
       "    <tr>\n",
       "      <th>4</th>\n",
       "      <td>101.784577</td>\n",
       "      <td>0.954170</td>\n",
       "      <td>85.650547</td>\n",
       "      <td>0.027353</td>\n",
       "      <td>5</td>\n",
       "    </tr>\n",
       "    <tr>\n",
       "      <th>...</th>\n",
       "      <td>...</td>\n",
       "      <td>...</td>\n",
       "      <td>...</td>\n",
       "      <td>...</td>\n",
       "      <td>...</td>\n",
       "    </tr>\n",
       "    <tr>\n",
       "      <th>1504</th>\n",
       "      <td>594.878788</td>\n",
       "      <td>0.453730</td>\n",
       "      <td>133.625000</td>\n",
       "      <td>3.187500</td>\n",
       "      <td>1505</td>\n",
       "    </tr>\n",
       "    <tr>\n",
       "      <th>1505</th>\n",
       "      <td>486.562500</td>\n",
       "      <td>0.454180</td>\n",
       "      <td>115.906250</td>\n",
       "      <td>3.218750</td>\n",
       "      <td>1506</td>\n",
       "    </tr>\n",
       "    <tr>\n",
       "      <th>1506</th>\n",
       "      <td>325.968750</td>\n",
       "      <td>0.573525</td>\n",
       "      <td>86.250000</td>\n",
       "      <td>2.687500</td>\n",
       "      <td>1507</td>\n",
       "    </tr>\n",
       "    <tr>\n",
       "      <th>1507</th>\n",
       "      <td>793.096774</td>\n",
       "      <td>0.322684</td>\n",
       "      <td>164.000000</td>\n",
       "      <td>5.419355</td>\n",
       "      <td>1508</td>\n",
       "    </tr>\n",
       "    <tr>\n",
       "      <th>1508</th>\n",
       "      <td>423.406250</td>\n",
       "      <td>0.461409</td>\n",
       "      <td>106.833333</td>\n",
       "      <td>2.200000</td>\n",
       "      <td>1509</td>\n",
       "    </tr>\n",
       "  </tbody>\n",
       "</table>\n",
       "<p>1509 rows × 5 columns</p>\n",
       "</div>"
      ],
      "text/plain": [
       "      f_avg_duration  f_avg_passrate  f_avg_win_duration  f_avg_retrytimes  \\\n",
       "0          39.889940        0.944467           35.582757          0.017225   \n",
       "1          60.683975        0.991836           56.715706          0.004638   \n",
       "2          76.947355        0.991232           71.789943          0.004480   \n",
       "3          58.170347        0.993843           54.842882          0.004761   \n",
       "4         101.784577        0.954170           85.650547          0.027353   \n",
       "...              ...             ...                 ...               ...   \n",
       "1504      594.878788        0.453730          133.625000          3.187500   \n",
       "1505      486.562500        0.454180          115.906250          3.218750   \n",
       "1506      325.968750        0.573525           86.250000          2.687500   \n",
       "1507      793.096774        0.322684          164.000000          5.419355   \n",
       "1508      423.406250        0.461409          106.833333          2.200000   \n",
       "\n",
       "      level_id  \n",
       "0            1  \n",
       "1            2  \n",
       "2            3  \n",
       "3            4  \n",
       "4            5  \n",
       "...        ...  \n",
       "1504      1505  \n",
       "1505      1506  \n",
       "1506      1507  \n",
       "1507      1508  \n",
       "1508      1509  \n",
       "\n",
       "[1509 rows x 5 columns]"
      ]
     },
     "execution_count": 491,
     "metadata": {},
     "output_type": "execute_result"
    }
   ],
   "source": [
    "meta_df = pd.read_csv('data/level_meta.csv', sep='\\t')\n",
    "# meta_df.rename(columns={'level_id': 'max_level'}, inplace=True)\n",
    "meta_df"
   ]
  },
  {
   "cell_type": "markdown",
   "metadata": {},
   "source": [
    "# 1. 利用RNN对用户历史序列建模"
   ]
  },
  {
   "cell_type": "code",
   "execution_count": 495,
   "metadata": {},
   "outputs": [],
   "source": [
    "import datetime\n",
    "from tqdm import tqdm\n",
    "import tensorflow as tf\n",
    "from tensorflow.keras.preprocessing.sequence import pad_sequences\n",
    "from keras.utils import to_categorical\n",
    "import pandas as pd\n",
    "from sklearn.preprocessing import MinMaxScaler"
   ]
  },
  {
   "cell_type": "markdown",
   "metadata": {},
   "source": [
    "对seq_df添加column `day` 表示每次关卡尝试的日期"
   ]
  },
  {
   "cell_type": "code",
   "execution_count": 498,
   "metadata": {},
   "outputs": [],
   "source": [
    "day = [0]*len(seq_df)\n",
    "for i in range(len(seq_df)):\n",
    "    day[i] = datetime.datetime.strptime(seq_df['time'][i], \"%Y-%m-%d %H:%M:%S\").day\n",
    "seq_df['day'] = day"
   ]
  },
  {
   "cell_type": "code",
   "execution_count": 499,
   "metadata": {
    "scrolled": true
   },
   "outputs": [
    {
     "data": {
      "text/html": [
       "<div>\n",
       "<style scoped>\n",
       "    .dataframe tbody tr th:only-of-type {\n",
       "        vertical-align: middle;\n",
       "    }\n",
       "\n",
       "    .dataframe tbody tr th {\n",
       "        vertical-align: top;\n",
       "    }\n",
       "\n",
       "    .dataframe thead th {\n",
       "        text-align: right;\n",
       "    }\n",
       "</style>\n",
       "<table border=\"1\" class=\"dataframe\">\n",
       "  <thead>\n",
       "    <tr style=\"text-align: right;\">\n",
       "      <th></th>\n",
       "      <th>user_id</th>\n",
       "      <th>level_id</th>\n",
       "      <th>f_success</th>\n",
       "      <th>f_duration</th>\n",
       "      <th>f_reststep</th>\n",
       "      <th>f_help</th>\n",
       "      <th>time</th>\n",
       "      <th>day</th>\n",
       "    </tr>\n",
       "  </thead>\n",
       "  <tbody>\n",
       "    <tr>\n",
       "      <th>0</th>\n",
       "      <td>10932</td>\n",
       "      <td>1</td>\n",
       "      <td>1</td>\n",
       "      <td>127.0</td>\n",
       "      <td>0.500000</td>\n",
       "      <td>0</td>\n",
       "      <td>2020-02-01 00:05:51</td>\n",
       "      <td>1</td>\n",
       "    </tr>\n",
       "    <tr>\n",
       "      <th>1</th>\n",
       "      <td>10932</td>\n",
       "      <td>2</td>\n",
       "      <td>1</td>\n",
       "      <td>69.0</td>\n",
       "      <td>0.703704</td>\n",
       "      <td>0</td>\n",
       "      <td>2020-02-01 00:08:01</td>\n",
       "      <td>1</td>\n",
       "    </tr>\n",
       "    <tr>\n",
       "      <th>2</th>\n",
       "      <td>10932</td>\n",
       "      <td>3</td>\n",
       "      <td>1</td>\n",
       "      <td>67.0</td>\n",
       "      <td>0.560000</td>\n",
       "      <td>0</td>\n",
       "      <td>2020-02-01 00:09:50</td>\n",
       "      <td>1</td>\n",
       "    </tr>\n",
       "    <tr>\n",
       "      <th>3</th>\n",
       "      <td>10932</td>\n",
       "      <td>4</td>\n",
       "      <td>1</td>\n",
       "      <td>58.0</td>\n",
       "      <td>0.700000</td>\n",
       "      <td>0</td>\n",
       "      <td>2020-02-01 00:11:16</td>\n",
       "      <td>1</td>\n",
       "    </tr>\n",
       "    <tr>\n",
       "      <th>4</th>\n",
       "      <td>10932</td>\n",
       "      <td>5</td>\n",
       "      <td>1</td>\n",
       "      <td>83.0</td>\n",
       "      <td>0.666667</td>\n",
       "      <td>0</td>\n",
       "      <td>2020-02-01 00:13:12</td>\n",
       "      <td>1</td>\n",
       "    </tr>\n",
       "    <tr>\n",
       "      <th>...</th>\n",
       "      <td>...</td>\n",
       "      <td>...</td>\n",
       "      <td>...</td>\n",
       "      <td>...</td>\n",
       "      <td>...</td>\n",
       "      <td>...</td>\n",
       "      <td>...</td>\n",
       "      <td>...</td>\n",
       "    </tr>\n",
       "    <tr>\n",
       "      <th>2194346</th>\n",
       "      <td>10931</td>\n",
       "      <td>40</td>\n",
       "      <td>1</td>\n",
       "      <td>111.0</td>\n",
       "      <td>0.250000</td>\n",
       "      <td>1</td>\n",
       "      <td>2020-02-03 16:26:37</td>\n",
       "      <td>3</td>\n",
       "    </tr>\n",
       "    <tr>\n",
       "      <th>2194347</th>\n",
       "      <td>10931</td>\n",
       "      <td>41</td>\n",
       "      <td>1</td>\n",
       "      <td>76.0</td>\n",
       "      <td>0.277778</td>\n",
       "      <td>0</td>\n",
       "      <td>2020-02-03 16:28:06</td>\n",
       "      <td>3</td>\n",
       "    </tr>\n",
       "    <tr>\n",
       "      <th>2194348</th>\n",
       "      <td>10931</td>\n",
       "      <td>42</td>\n",
       "      <td>0</td>\n",
       "      <td>121.0</td>\n",
       "      <td>0.000000</td>\n",
       "      <td>1</td>\n",
       "      <td>2020-02-03 16:30:17</td>\n",
       "      <td>3</td>\n",
       "    </tr>\n",
       "    <tr>\n",
       "      <th>2194349</th>\n",
       "      <td>10931</td>\n",
       "      <td>42</td>\n",
       "      <td>0</td>\n",
       "      <td>115.0</td>\n",
       "      <td>0.000000</td>\n",
       "      <td>0</td>\n",
       "      <td>2020-02-03 16:33:40</td>\n",
       "      <td>3</td>\n",
       "    </tr>\n",
       "    <tr>\n",
       "      <th>2194350</th>\n",
       "      <td>10931</td>\n",
       "      <td>42</td>\n",
       "      <td>1</td>\n",
       "      <td>91.0</td>\n",
       "      <td>0.181818</td>\n",
       "      <td>0</td>\n",
       "      <td>2020-02-03 16:35:18</td>\n",
       "      <td>3</td>\n",
       "    </tr>\n",
       "  </tbody>\n",
       "</table>\n",
       "<p>2194351 rows × 8 columns</p>\n",
       "</div>"
      ],
      "text/plain": [
       "         user_id  level_id  f_success  f_duration  f_reststep  f_help  \\\n",
       "0          10932         1          1       127.0    0.500000       0   \n",
       "1          10932         2          1        69.0    0.703704       0   \n",
       "2          10932         3          1        67.0    0.560000       0   \n",
       "3          10932         4          1        58.0    0.700000       0   \n",
       "4          10932         5          1        83.0    0.666667       0   \n",
       "...          ...       ...        ...         ...         ...     ...   \n",
       "2194346    10931        40          1       111.0    0.250000       1   \n",
       "2194347    10931        41          1        76.0    0.277778       0   \n",
       "2194348    10931        42          0       121.0    0.000000       1   \n",
       "2194349    10931        42          0       115.0    0.000000       0   \n",
       "2194350    10931        42          1        91.0    0.181818       0   \n",
       "\n",
       "                        time  day  \n",
       "0        2020-02-01 00:05:51    1  \n",
       "1        2020-02-01 00:08:01    1  \n",
       "2        2020-02-01 00:09:50    1  \n",
       "3        2020-02-01 00:11:16    1  \n",
       "4        2020-02-01 00:13:12    1  \n",
       "...                      ...  ...  \n",
       "2194346  2020-02-03 16:26:37    3  \n",
       "2194347  2020-02-03 16:28:06    3  \n",
       "2194348  2020-02-03 16:30:17    3  \n",
       "2194349  2020-02-03 16:33:40    3  \n",
       "2194350  2020-02-03 16:35:18    3  \n",
       "\n",
       "[2194351 rows x 8 columns]"
      ]
     },
     "execution_count": 499,
     "metadata": {},
     "output_type": "execute_result"
    }
   ],
   "source": [
    "seq_df"
   ]
  },
  {
   "cell_type": "markdown",
   "metadata": {},
   "source": [
    "将每个关卡的统计信息merge到seq_df上"
   ]
  },
  {
   "cell_type": "code",
   "execution_count": 500,
   "metadata": {
    "scrolled": true
   },
   "outputs": [
    {
     "data": {
      "text/html": [
       "<div>\n",
       "<style scoped>\n",
       "    .dataframe tbody tr th:only-of-type {\n",
       "        vertical-align: middle;\n",
       "    }\n",
       "\n",
       "    .dataframe tbody tr th {\n",
       "        vertical-align: top;\n",
       "    }\n",
       "\n",
       "    .dataframe thead th {\n",
       "        text-align: right;\n",
       "    }\n",
       "</style>\n",
       "<table border=\"1\" class=\"dataframe\">\n",
       "  <thead>\n",
       "    <tr style=\"text-align: right;\">\n",
       "      <th></th>\n",
       "      <th>user_id</th>\n",
       "      <th>level_id</th>\n",
       "      <th>f_success</th>\n",
       "      <th>f_duration</th>\n",
       "      <th>f_reststep</th>\n",
       "      <th>f_help</th>\n",
       "      <th>time</th>\n",
       "      <th>day</th>\n",
       "      <th>f_avg_duration</th>\n",
       "      <th>f_avg_passrate</th>\n",
       "      <th>f_avg_win_duration</th>\n",
       "      <th>f_avg_retrytimes</th>\n",
       "    </tr>\n",
       "  </thead>\n",
       "  <tbody>\n",
       "    <tr>\n",
       "      <th>0</th>\n",
       "      <td>10932</td>\n",
       "      <td>1</td>\n",
       "      <td>1</td>\n",
       "      <td>127.0</td>\n",
       "      <td>0.500000</td>\n",
       "      <td>0</td>\n",
       "      <td>2020-02-01 00:05:51</td>\n",
       "      <td>1</td>\n",
       "      <td>39.889940</td>\n",
       "      <td>0.944467</td>\n",
       "      <td>35.582757</td>\n",
       "      <td>0.017225</td>\n",
       "    </tr>\n",
       "    <tr>\n",
       "      <th>1</th>\n",
       "      <td>10932</td>\n",
       "      <td>2</td>\n",
       "      <td>1</td>\n",
       "      <td>69.0</td>\n",
       "      <td>0.703704</td>\n",
       "      <td>0</td>\n",
       "      <td>2020-02-01 00:08:01</td>\n",
       "      <td>1</td>\n",
       "      <td>60.683975</td>\n",
       "      <td>0.991836</td>\n",
       "      <td>56.715706</td>\n",
       "      <td>0.004638</td>\n",
       "    </tr>\n",
       "    <tr>\n",
       "      <th>2</th>\n",
       "      <td>10932</td>\n",
       "      <td>3</td>\n",
       "      <td>1</td>\n",
       "      <td>67.0</td>\n",
       "      <td>0.560000</td>\n",
       "      <td>0</td>\n",
       "      <td>2020-02-01 00:09:50</td>\n",
       "      <td>1</td>\n",
       "      <td>76.947355</td>\n",
       "      <td>0.991232</td>\n",
       "      <td>71.789943</td>\n",
       "      <td>0.004480</td>\n",
       "    </tr>\n",
       "    <tr>\n",
       "      <th>3</th>\n",
       "      <td>10932</td>\n",
       "      <td>4</td>\n",
       "      <td>1</td>\n",
       "      <td>58.0</td>\n",
       "      <td>0.700000</td>\n",
       "      <td>0</td>\n",
       "      <td>2020-02-01 00:11:16</td>\n",
       "      <td>1</td>\n",
       "      <td>58.170347</td>\n",
       "      <td>0.993843</td>\n",
       "      <td>54.842882</td>\n",
       "      <td>0.004761</td>\n",
       "    </tr>\n",
       "    <tr>\n",
       "      <th>4</th>\n",
       "      <td>10932</td>\n",
       "      <td>5</td>\n",
       "      <td>1</td>\n",
       "      <td>83.0</td>\n",
       "      <td>0.666667</td>\n",
       "      <td>0</td>\n",
       "      <td>2020-02-01 00:13:12</td>\n",
       "      <td>1</td>\n",
       "      <td>101.784577</td>\n",
       "      <td>0.954170</td>\n",
       "      <td>85.650547</td>\n",
       "      <td>0.027353</td>\n",
       "    </tr>\n",
       "    <tr>\n",
       "      <th>...</th>\n",
       "      <td>...</td>\n",
       "      <td>...</td>\n",
       "      <td>...</td>\n",
       "      <td>...</td>\n",
       "      <td>...</td>\n",
       "      <td>...</td>\n",
       "      <td>...</td>\n",
       "      <td>...</td>\n",
       "      <td>...</td>\n",
       "      <td>...</td>\n",
       "      <td>...</td>\n",
       "      <td>...</td>\n",
       "    </tr>\n",
       "    <tr>\n",
       "      <th>2194346</th>\n",
       "      <td>10931</td>\n",
       "      <td>40</td>\n",
       "      <td>1</td>\n",
       "      <td>111.0</td>\n",
       "      <td>0.250000</td>\n",
       "      <td>1</td>\n",
       "      <td>2020-02-03 16:26:37</td>\n",
       "      <td>3</td>\n",
       "      <td>182.560916</td>\n",
       "      <td>0.747221</td>\n",
       "      <td>95.003516</td>\n",
       "      <td>0.401055</td>\n",
       "    </tr>\n",
       "    <tr>\n",
       "      <th>2194347</th>\n",
       "      <td>10931</td>\n",
       "      <td>41</td>\n",
       "      <td>1</td>\n",
       "      <td>76.0</td>\n",
       "      <td>0.277778</td>\n",
       "      <td>0</td>\n",
       "      <td>2020-02-03 16:28:06</td>\n",
       "      <td>3</td>\n",
       "      <td>154.543525</td>\n",
       "      <td>0.771965</td>\n",
       "      <td>88.825894</td>\n",
       "      <td>0.266800</td>\n",
       "    </tr>\n",
       "    <tr>\n",
       "      <th>2194348</th>\n",
       "      <td>10931</td>\n",
       "      <td>42</td>\n",
       "      <td>0</td>\n",
       "      <td>121.0</td>\n",
       "      <td>0.000000</td>\n",
       "      <td>1</td>\n",
       "      <td>2020-02-03 16:30:17</td>\n",
       "      <td>3</td>\n",
       "      <td>191.543734</td>\n",
       "      <td>0.743398</td>\n",
       "      <td>100.007556</td>\n",
       "      <td>0.423890</td>\n",
       "    </tr>\n",
       "    <tr>\n",
       "      <th>2194349</th>\n",
       "      <td>10931</td>\n",
       "      <td>42</td>\n",
       "      <td>0</td>\n",
       "      <td>115.0</td>\n",
       "      <td>0.000000</td>\n",
       "      <td>0</td>\n",
       "      <td>2020-02-03 16:33:40</td>\n",
       "      <td>3</td>\n",
       "      <td>191.543734</td>\n",
       "      <td>0.743398</td>\n",
       "      <td>100.007556</td>\n",
       "      <td>0.423890</td>\n",
       "    </tr>\n",
       "    <tr>\n",
       "      <th>2194350</th>\n",
       "      <td>10931</td>\n",
       "      <td>42</td>\n",
       "      <td>1</td>\n",
       "      <td>91.0</td>\n",
       "      <td>0.181818</td>\n",
       "      <td>0</td>\n",
       "      <td>2020-02-03 16:35:18</td>\n",
       "      <td>3</td>\n",
       "      <td>191.543734</td>\n",
       "      <td>0.743398</td>\n",
       "      <td>100.007556</td>\n",
       "      <td>0.423890</td>\n",
       "    </tr>\n",
       "  </tbody>\n",
       "</table>\n",
       "<p>2194351 rows × 12 columns</p>\n",
       "</div>"
      ],
      "text/plain": [
       "         user_id  level_id  f_success  f_duration  f_reststep  f_help  \\\n",
       "0          10932         1          1       127.0    0.500000       0   \n",
       "1          10932         2          1        69.0    0.703704       0   \n",
       "2          10932         3          1        67.0    0.560000       0   \n",
       "3          10932         4          1        58.0    0.700000       0   \n",
       "4          10932         5          1        83.0    0.666667       0   \n",
       "...          ...       ...        ...         ...         ...     ...   \n",
       "2194346    10931        40          1       111.0    0.250000       1   \n",
       "2194347    10931        41          1        76.0    0.277778       0   \n",
       "2194348    10931        42          0       121.0    0.000000       1   \n",
       "2194349    10931        42          0       115.0    0.000000       0   \n",
       "2194350    10931        42          1        91.0    0.181818       0   \n",
       "\n",
       "                        time  day  f_avg_duration  f_avg_passrate  \\\n",
       "0        2020-02-01 00:05:51    1       39.889940        0.944467   \n",
       "1        2020-02-01 00:08:01    1       60.683975        0.991836   \n",
       "2        2020-02-01 00:09:50    1       76.947355        0.991232   \n",
       "3        2020-02-01 00:11:16    1       58.170347        0.993843   \n",
       "4        2020-02-01 00:13:12    1      101.784577        0.954170   \n",
       "...                      ...  ...             ...             ...   \n",
       "2194346  2020-02-03 16:26:37    3      182.560916        0.747221   \n",
       "2194347  2020-02-03 16:28:06    3      154.543525        0.771965   \n",
       "2194348  2020-02-03 16:30:17    3      191.543734        0.743398   \n",
       "2194349  2020-02-03 16:33:40    3      191.543734        0.743398   \n",
       "2194350  2020-02-03 16:35:18    3      191.543734        0.743398   \n",
       "\n",
       "         f_avg_win_duration  f_avg_retrytimes  \n",
       "0                 35.582757          0.017225  \n",
       "1                 56.715706          0.004638  \n",
       "2                 71.789943          0.004480  \n",
       "3                 54.842882          0.004761  \n",
       "4                 85.650547          0.027353  \n",
       "...                     ...               ...  \n",
       "2194346           95.003516          0.401055  \n",
       "2194347           88.825894          0.266800  \n",
       "2194348          100.007556          0.423890  \n",
       "2194349          100.007556          0.423890  \n",
       "2194350          100.007556          0.423890  \n",
       "\n",
       "[2194351 rows x 12 columns]"
      ]
     },
     "execution_count": 500,
     "metadata": {},
     "output_type": "execute_result"
    }
   ],
   "source": [
    "merged_seq_df = pd.merge(seq_df, meta_df, on = ['level_id'],how = 'left')\n",
    "merged_seq_df"
   ]
  },
  {
   "cell_type": "markdown",
   "metadata": {},
   "source": [
    "## 1.1 直接对原始历史序列建模"
   ]
  },
  {
   "cell_type": "markdown",
   "metadata": {},
   "source": [
    "删除column`time`"
   ]
  },
  {
   "cell_type": "code",
   "execution_count": 501,
   "metadata": {},
   "outputs": [],
   "source": [
    "merged_seq_df = merged_seq_df.drop(['time'],axis = 1)"
   ]
  },
  {
   "cell_type": "markdown",
   "metadata": {},
   "source": [
    "数据归一化"
   ]
  },
  {
   "cell_type": "code",
   "execution_count": 503,
   "metadata": {
    "scrolled": true
   },
   "outputs": [
    {
     "data": {
      "text/html": [
       "<div>\n",
       "<style scoped>\n",
       "    .dataframe tbody tr th:only-of-type {\n",
       "        vertical-align: middle;\n",
       "    }\n",
       "\n",
       "    .dataframe tbody tr th {\n",
       "        vertical-align: top;\n",
       "    }\n",
       "\n",
       "    .dataframe thead th {\n",
       "        text-align: right;\n",
       "    }\n",
       "</style>\n",
       "<table border=\"1\" class=\"dataframe\">\n",
       "  <thead>\n",
       "    <tr style=\"text-align: right;\">\n",
       "      <th></th>\n",
       "      <th>user_id</th>\n",
       "      <th>level_id</th>\n",
       "      <th>f_success</th>\n",
       "      <th>f_duration</th>\n",
       "      <th>f_reststep</th>\n",
       "      <th>f_help</th>\n",
       "      <th>day</th>\n",
       "      <th>f_avg_duration</th>\n",
       "      <th>f_avg_passrate</th>\n",
       "      <th>f_avg_win_duration</th>\n",
       "      <th>f_avg_retrytimes</th>\n",
       "    </tr>\n",
       "  </thead>\n",
       "  <tbody>\n",
       "    <tr>\n",
       "      <th>0</th>\n",
       "      <td>10932</td>\n",
       "      <td>0.000000</td>\n",
       "      <td>1.0</td>\n",
       "      <td>0.210351</td>\n",
       "      <td>0.500000</td>\n",
       "      <td>0.0</td>\n",
       "      <td>0.000000</td>\n",
       "      <td>0.000000</td>\n",
       "      <td>0.944467</td>\n",
       "      <td>0.000000</td>\n",
       "      <td>0.000176</td>\n",
       "    </tr>\n",
       "    <tr>\n",
       "      <th>1</th>\n",
       "      <td>10932</td>\n",
       "      <td>0.000663</td>\n",
       "      <td>1.0</td>\n",
       "      <td>0.113523</td>\n",
       "      <td>0.703704</td>\n",
       "      <td>0.0</td>\n",
       "      <td>0.000000</td>\n",
       "      <td>0.010069</td>\n",
       "      <td>0.991836</td>\n",
       "      <td>0.041896</td>\n",
       "      <td>0.000047</td>\n",
       "    </tr>\n",
       "    <tr>\n",
       "      <th>2</th>\n",
       "      <td>10932</td>\n",
       "      <td>0.001326</td>\n",
       "      <td>1.0</td>\n",
       "      <td>0.110184</td>\n",
       "      <td>0.560000</td>\n",
       "      <td>0.0</td>\n",
       "      <td>0.000000</td>\n",
       "      <td>0.017945</td>\n",
       "      <td>0.991232</td>\n",
       "      <td>0.071780</td>\n",
       "      <td>0.000046</td>\n",
       "    </tr>\n",
       "    <tr>\n",
       "      <th>3</th>\n",
       "      <td>10932</td>\n",
       "      <td>0.001989</td>\n",
       "      <td>1.0</td>\n",
       "      <td>0.095159</td>\n",
       "      <td>0.700000</td>\n",
       "      <td>0.0</td>\n",
       "      <td>0.000000</td>\n",
       "      <td>0.008852</td>\n",
       "      <td>0.993843</td>\n",
       "      <td>0.038183</td>\n",
       "      <td>0.000049</td>\n",
       "    </tr>\n",
       "    <tr>\n",
       "      <th>4</th>\n",
       "      <td>10932</td>\n",
       "      <td>0.002653</td>\n",
       "      <td>1.0</td>\n",
       "      <td>0.136895</td>\n",
       "      <td>0.666667</td>\n",
       "      <td>0.0</td>\n",
       "      <td>0.000000</td>\n",
       "      <td>0.029972</td>\n",
       "      <td>0.954170</td>\n",
       "      <td>0.099259</td>\n",
       "      <td>0.000279</td>\n",
       "    </tr>\n",
       "    <tr>\n",
       "      <th>...</th>\n",
       "      <td>...</td>\n",
       "      <td>...</td>\n",
       "      <td>...</td>\n",
       "      <td>...</td>\n",
       "      <td>...</td>\n",
       "      <td>...</td>\n",
       "      <td>...</td>\n",
       "      <td>...</td>\n",
       "      <td>...</td>\n",
       "      <td>...</td>\n",
       "      <td>...</td>\n",
       "    </tr>\n",
       "    <tr>\n",
       "      <th>2194346</th>\n",
       "      <td>10931</td>\n",
       "      <td>0.025862</td>\n",
       "      <td>1.0</td>\n",
       "      <td>0.183639</td>\n",
       "      <td>0.250000</td>\n",
       "      <td>1.0</td>\n",
       "      <td>0.666667</td>\n",
       "      <td>0.069086</td>\n",
       "      <td>0.747221</td>\n",
       "      <td>0.117801</td>\n",
       "      <td>0.004092</td>\n",
       "    </tr>\n",
       "    <tr>\n",
       "      <th>2194347</th>\n",
       "      <td>10931</td>\n",
       "      <td>0.026525</td>\n",
       "      <td>1.0</td>\n",
       "      <td>0.125209</td>\n",
       "      <td>0.277778</td>\n",
       "      <td>0.0</td>\n",
       "      <td>0.666667</td>\n",
       "      <td>0.055519</td>\n",
       "      <td>0.771965</td>\n",
       "      <td>0.105554</td>\n",
       "      <td>0.002722</td>\n",
       "    </tr>\n",
       "    <tr>\n",
       "      <th>2194348</th>\n",
       "      <td>10931</td>\n",
       "      <td>0.027188</td>\n",
       "      <td>0.0</td>\n",
       "      <td>0.200334</td>\n",
       "      <td>0.000000</td>\n",
       "      <td>1.0</td>\n",
       "      <td>0.666667</td>\n",
       "      <td>0.073436</td>\n",
       "      <td>0.743398</td>\n",
       "      <td>0.127721</td>\n",
       "      <td>0.004325</td>\n",
       "    </tr>\n",
       "    <tr>\n",
       "      <th>2194349</th>\n",
       "      <td>10931</td>\n",
       "      <td>0.027188</td>\n",
       "      <td>0.0</td>\n",
       "      <td>0.190317</td>\n",
       "      <td>0.000000</td>\n",
       "      <td>0.0</td>\n",
       "      <td>0.666667</td>\n",
       "      <td>0.073436</td>\n",
       "      <td>0.743398</td>\n",
       "      <td>0.127721</td>\n",
       "      <td>0.004325</td>\n",
       "    </tr>\n",
       "    <tr>\n",
       "      <th>2194350</th>\n",
       "      <td>10931</td>\n",
       "      <td>0.027188</td>\n",
       "      <td>1.0</td>\n",
       "      <td>0.150250</td>\n",
       "      <td>0.181818</td>\n",
       "      <td>0.0</td>\n",
       "      <td>0.666667</td>\n",
       "      <td>0.073436</td>\n",
       "      <td>0.743398</td>\n",
       "      <td>0.127721</td>\n",
       "      <td>0.004325</td>\n",
       "    </tr>\n",
       "  </tbody>\n",
       "</table>\n",
       "<p>2194351 rows × 11 columns</p>\n",
       "</div>"
      ],
      "text/plain": [
       "         user_id  level_id  f_success  f_duration  f_reststep  f_help  \\\n",
       "0          10932  0.000000        1.0    0.210351    0.500000     0.0   \n",
       "1          10932  0.000663        1.0    0.113523    0.703704     0.0   \n",
       "2          10932  0.001326        1.0    0.110184    0.560000     0.0   \n",
       "3          10932  0.001989        1.0    0.095159    0.700000     0.0   \n",
       "4          10932  0.002653        1.0    0.136895    0.666667     0.0   \n",
       "...          ...       ...        ...         ...         ...     ...   \n",
       "2194346    10931  0.025862        1.0    0.183639    0.250000     1.0   \n",
       "2194347    10931  0.026525        1.0    0.125209    0.277778     0.0   \n",
       "2194348    10931  0.027188        0.0    0.200334    0.000000     1.0   \n",
       "2194349    10931  0.027188        0.0    0.190317    0.000000     0.0   \n",
       "2194350    10931  0.027188        1.0    0.150250    0.181818     0.0   \n",
       "\n",
       "              day  f_avg_duration  f_avg_passrate  f_avg_win_duration  \\\n",
       "0        0.000000        0.000000        0.944467            0.000000   \n",
       "1        0.000000        0.010069        0.991836            0.041896   \n",
       "2        0.000000        0.017945        0.991232            0.071780   \n",
       "3        0.000000        0.008852        0.993843            0.038183   \n",
       "4        0.000000        0.029972        0.954170            0.099259   \n",
       "...           ...             ...             ...                 ...   \n",
       "2194346  0.666667        0.069086        0.747221            0.117801   \n",
       "2194347  0.666667        0.055519        0.771965            0.105554   \n",
       "2194348  0.666667        0.073436        0.743398            0.127721   \n",
       "2194349  0.666667        0.073436        0.743398            0.127721   \n",
       "2194350  0.666667        0.073436        0.743398            0.127721   \n",
       "\n",
       "         f_avg_retrytimes  \n",
       "0                0.000176  \n",
       "1                0.000047  \n",
       "2                0.000046  \n",
       "3                0.000049  \n",
       "4                0.000279  \n",
       "...                   ...  \n",
       "2194346          0.004092  \n",
       "2194347          0.002722  \n",
       "2194348          0.004325  \n",
       "2194349          0.004325  \n",
       "2194350          0.004325  \n",
       "\n",
       "[2194351 rows x 11 columns]"
      ]
     },
     "execution_count": 503,
     "metadata": {},
     "output_type": "execute_result"
    }
   ],
   "source": [
    "scaler = MinMaxScaler()\n",
    "\n",
    "merged_seq_df_normalized = pd.DataFrame(scaler.fit_transform(merged_seq_df), columns=merged_seq_df.columns)\n",
    "merged_seq_df_normalized['user_id'] = merged_seq_df['user_id']\n",
    "merged_seq_df_normalized"
   ]
  },
  {
   "cell_type": "markdown",
   "metadata": {},
   "source": [
    "padding"
   ]
  },
  {
   "cell_type": "code",
   "execution_count": 428,
   "metadata": {},
   "outputs": [
    {
     "data": {
      "text/plain": [
       "4122"
      ]
     },
     "execution_count": 428,
     "metadata": {},
     "output_type": "execute_result"
    }
   ],
   "source": [
    "try_num_list = []\n",
    "for i in range(1,13590):\n",
    "    df = merged_seq_df[(merged_seq_df['user_id']==i)]\n",
    "    try_num_list.append(len(df))\n",
    "max_try_num = max(try_num_list)\n",
    "max_try_num"
   ]
  },
  {
   "cell_type": "code",
   "execution_count": 507,
   "metadata": {},
   "outputs": [],
   "source": [
    "def create_padding_seq(df,max_len):\n",
    "    train_seq = []\n",
    "    dev_seq = []\n",
    "    test_seq = []\n",
    "    feature_names = df.columns[1:]\n",
    "\n",
    "    for i in tqdm(range(1,2774)):\n",
    "        test_seq.append(df[(df['user_id']==i)][feature_names].values)\n",
    "\n",
    "    for i in tqdm(range(10932,13590)):\n",
    "        dev_seq.append(df[(df['user_id']==i)][feature_names].values)\n",
    "\n",
    "    for i in tqdm(range(2774,10932)):\n",
    "        train_seq.append(df[(df['user_id']==i)][feature_names].values)\n",
    "    \n",
    "    padded_train_seq = pad_sequences(train_seq, padding='post',dtype='float32',maxlen=max_len)\n",
    "    padded_dev_seq = pad_sequences(dev_seq, padding='post',dtype='float32',maxlen=max_len)\n",
    "    padded_test_seq = pad_sequences(test_seq, padding='post',dtype='float32',maxlen=max_len)\n",
    "    \n",
    "    return padded_train_seq, padded_dev_seq, padded_test_seq"
   ]
  },
  {
   "cell_type": "code",
   "execution_count": 527,
   "metadata": {},
   "outputs": [
    {
     "name": "stderr",
     "output_type": "stream",
     "text": [
      "100%|██████████████████████████████████████| 2773/2773 [00:15<00:00, 178.95it/s]\n",
      "100%|██████████████████████████████████████| 2658/2658 [00:10<00:00, 256.60it/s]\n",
      "100%|██████████████████████████████████████| 8158/8158 [00:40<00:00, 201.77it/s]\n"
     ]
    }
   ],
   "source": [
    "padded_train_seq, padded_dev_seq, padded_test_seq = create_padding_seq(merged_seq_df_normalized,max_try_num)"
   ]
  },
  {
   "cell_type": "code",
   "execution_count": 509,
   "metadata": {},
   "outputs": [
    {
     "data": {
      "text/plain": [
       "((8158, 4122, 10), (2658, 4122, 10), (2773, 4122, 10))"
      ]
     },
     "execution_count": 509,
     "metadata": {},
     "output_type": "execute_result"
    }
   ],
   "source": [
    "padded_train_seq.shape,padded_dev_seq.shape,padded_test_seq.shape"
   ]
  },
  {
   "cell_type": "code",
   "execution_count": 510,
   "metadata": {},
   "outputs": [],
   "source": [
    "train_y = train_df['label'].values \n",
    "dev_y =  dev_df['label'].values"
   ]
  },
  {
   "cell_type": "code",
   "execution_count": 511,
   "metadata": {},
   "outputs": [
    {
     "data": {
      "text/plain": [
       "((8158,), (2658,))"
      ]
     },
     "execution_count": 511,
     "metadata": {},
     "output_type": "execute_result"
    }
   ],
   "source": [
    "train_y.shape,dev_y.shape"
   ]
  },
  {
   "cell_type": "code",
   "execution_count": 512,
   "metadata": {},
   "outputs": [],
   "source": [
    "train_y_c = to_categorical(train_y, 2)\n",
    "dev_y_c = to_categorical(dev_y, 2)"
   ]
  },
  {
   "cell_type": "code",
   "execution_count": 513,
   "metadata": {},
   "outputs": [
    {
     "data": {
      "text/plain": [
       "((8158, 2), (2658, 2))"
      ]
     },
     "execution_count": 513,
     "metadata": {},
     "output_type": "execute_result"
    }
   ],
   "source": [
    "train_y_c.shape,dev_y_c.shape"
   ]
  },
  {
   "cell_type": "markdown",
   "metadata": {},
   "source": [
    "用RNN训练"
   ]
  },
  {
   "cell_type": "code",
   "execution_count": 524,
   "metadata": {},
   "outputs": [],
   "source": [
    "def train_rnn(padded_train_seq,padded_dev_seq):\n",
    "    sequence_length = padded_train_seq.shape[1]\n",
    "    input_dim = padded_train_seq.shape[2]\n",
    "    num_classes = 2\n",
    "    batch_size = 128\n",
    "    epochs = 5\n",
    "\n",
    "    model = tf.keras.Sequential([\n",
    "        tf.keras.layers.SimpleRNN(units=32, activation='relu', input_shape=(sequence_length, input_dim)),\n",
    "        tf.keras.layers.Dense(units=2, activation='softmax')\n",
    "    ])\n",
    "\n",
    "    model.compile(optimizer='adam', loss='binary_crossentropy',metrics = ['accuracy'])\n",
    "\n",
    "    model.fit(padded_train_seq, train_y_c, batch_size=batch_size, epochs=epochs)\n",
    "\n",
    "    pre = model.predict(padded_dev_seq)\n",
    "\n",
    "    print('AUC:',roc_auc_score(dev_y, pre[:,1]))\n",
    "    \n",
    "    return model"
   ]
  },
  {
   "cell_type": "code",
   "execution_count": 528,
   "metadata": {},
   "outputs": [
    {
     "name": "stdout",
     "output_type": "stream",
     "text": [
      "Epoch 1/5\n",
      "64/64 [==============================] - 59s 897ms/step - loss: 0.6710 - accuracy: 0.6654\n",
      "Epoch 2/5\n",
      "64/64 [==============================] - 59s 923ms/step - loss: 0.6387 - accuracy: 0.6654\n",
      "Epoch 3/5\n",
      "64/64 [==============================] - 59s 927ms/step - loss: 0.6379 - accuracy: 0.6654\n",
      "Epoch 4/5\n",
      "64/64 [==============================] - 58s 895ms/step - loss: 0.6381 - accuracy: 0.6654\n",
      "Epoch 5/5\n",
      "64/64 [==============================] - 52s 801ms/step - loss: 0.6377 - accuracy: 0.6654\n",
      "84/84 [==============================] - 23s 265ms/step\n",
      "AUC: 0.5126293620507663\n"
     ]
    }
   ],
   "source": [
    "rnn_model1 = train_rnn(padded_train_seq, padded_dev_seq)"
   ]
  },
  {
   "cell_type": "markdown",
   "metadata": {},
   "source": [
    "可以看到模型效果非常差"
   ]
  },
  {
   "cell_type": "markdown",
   "metadata": {},
   "source": [
    "## 1.2 处理时间序列数据后建模"
   ]
  },
  {
   "cell_type": "markdown",
   "metadata": {},
   "source": [
    "新增特征\n",
    "\n",
    "* `level_arrive`: 当前通关到哪里\n",
    "* `time_take`: 当前闯关所花时间\n",
    "* `f_success_num`: 当前通关次数\n",
    "* `f_fail_num`: 当前通关失败次数\n",
    "* `f_help_take`: 当前用的help次数"
   ]
  },
  {
   "cell_type": "code",
   "execution_count": 468,
   "metadata": {},
   "outputs": [
    {
     "name": "stderr",
     "output_type": "stream",
     "text": [
      "100%|███████████████████████████████| 2194351/2194351 [08:37<00:00, 4237.73it/s]\n"
     ]
    }
   ],
   "source": [
    "level_arrive = [] \n",
    "time_take = [] \n",
    "f_success_num = [] \n",
    "f_fail_num = [] \n",
    "f_help_take = [] \n",
    "\n",
    "user_id_dict = {}\n",
    "for i in tqdm(range(len(merged_seq_df))):\n",
    "    info = merged_seq_df.iloc[i]\n",
    "    user = info['user_id']\n",
    "    level_id = info['level_id']\n",
    "    f_success = info['f_success']\n",
    "    f_duration = info['f_duration']\n",
    "    f_help = info['f_help']\n",
    "    if user not in user_id_dict:\n",
    "        user_id_dict[user] = 1\n",
    "        if user_id_dict:\n",
    "            assert len(level_arrive) == len(f_success_num)\n",
    "            level_arrive.extend(level_arrive_u)\n",
    "            time_take.extend(time_take_u)\n",
    "            f_success_num.extend(f_success_num_u)\n",
    "            f_fail_num.extend(f_fail_num_u)\n",
    "            f_help_take.extend(f_help_take_u)\n",
    "        level_arrive_u = [] \n",
    "        time_take_u = [] \n",
    "        f_success_num_u = [] \n",
    "        f_fail_num_u = []\n",
    "        f_help_take_u = [] \n",
    "    \n",
    "    if f_success == 1:\n",
    "        try:\n",
    "            f_success_num_u.append(f_success_num[-1]+1)\n",
    "        except:\n",
    "            f_success_num_u.append(1)\n",
    "        try:\n",
    "            f_fail_num_u.append(f_fail_num[-1])\n",
    "        except:\n",
    "            f_fail_num_u.append(0)\n",
    "        level_arrive_u.append(level_id)\n",
    "    else:\n",
    "        try:\n",
    "            f_success_num_u.append(f_success_num[-1])\n",
    "        except:\n",
    "            f_success_num_u.append(0)\n",
    "        try:\n",
    "            level_arrive_u.append(level_arrive_u[-1])\n",
    "        except:\n",
    "            level_arrive_u.append(0)\n",
    "        try:\n",
    "            f_fail_num_u.append(f_fail_num[-1]+1)\n",
    "        except:\n",
    "            f_fail_num_u.append(1)\n",
    "    try:\n",
    "        time_take_u.append(time_take_u[-1] + f_duration)\n",
    "    except:\n",
    "        time_take_u.append(f_duration)\n",
    "    \n",
    "    try:\n",
    "        f_help_take_u.append(time_take_u[-1] + f_help)\n",
    "    except:\n",
    "        f_help_take_u.append(f_help)"
   ]
  },
  {
   "cell_type": "code",
   "execution_count": 519,
   "metadata": {},
   "outputs": [
    {
     "data": {
      "text/plain": [
       "(2194351, 2194351, 2194351, 2194351, 2194351)"
      ]
     },
     "execution_count": 519,
     "metadata": {},
     "output_type": "execute_result"
    }
   ],
   "source": [
    "len(f_help_take), len(time_take), len(f_fail_num), len(f_success_num), len(level_arrive)"
   ]
  },
  {
   "cell_type": "code",
   "execution_count": 520,
   "metadata": {},
   "outputs": [],
   "source": [
    "t = pd.DataFrame({'user_id': merged_seq_df['user_id'],\n",
    "              'level_arrive': level_arrive,\n",
    "              'f_success_num': f_success_num,\n",
    "              'f_fail_num': f_fail_num,\n",
    "              'time_take': time_take,\n",
    "              'f_help_take': f_help_take\n",
    "             })"
   ]
  },
  {
   "cell_type": "code",
   "execution_count": 521,
   "metadata": {
    "scrolled": true
   },
   "outputs": [
    {
     "data": {
      "text/html": [
       "<div>\n",
       "<style scoped>\n",
       "    .dataframe tbody tr th:only-of-type {\n",
       "        vertical-align: middle;\n",
       "    }\n",
       "\n",
       "    .dataframe tbody tr th {\n",
       "        vertical-align: top;\n",
       "    }\n",
       "\n",
       "    .dataframe thead th {\n",
       "        text-align: right;\n",
       "    }\n",
       "</style>\n",
       "<table border=\"1\" class=\"dataframe\">\n",
       "  <thead>\n",
       "    <tr style=\"text-align: right;\">\n",
       "      <th></th>\n",
       "      <th>user_id</th>\n",
       "      <th>level_arrive</th>\n",
       "      <th>f_success_num</th>\n",
       "      <th>f_fail_num</th>\n",
       "      <th>time_take</th>\n",
       "      <th>f_help_take</th>\n",
       "    </tr>\n",
       "  </thead>\n",
       "  <tbody>\n",
       "    <tr>\n",
       "      <th>0</th>\n",
       "      <td>10932</td>\n",
       "      <td>0.000663</td>\n",
       "      <td>0.000215</td>\n",
       "      <td>0.000000</td>\n",
       "      <td>0.000047</td>\n",
       "      <td>0.000047</td>\n",
       "    </tr>\n",
       "    <tr>\n",
       "      <th>1</th>\n",
       "      <td>10932</td>\n",
       "      <td>0.001326</td>\n",
       "      <td>0.000215</td>\n",
       "      <td>0.000000</td>\n",
       "      <td>0.000165</td>\n",
       "      <td>0.000165</td>\n",
       "    </tr>\n",
       "    <tr>\n",
       "      <th>2</th>\n",
       "      <td>10932</td>\n",
       "      <td>0.001989</td>\n",
       "      <td>0.000215</td>\n",
       "      <td>0.000000</td>\n",
       "      <td>0.000279</td>\n",
       "      <td>0.000279</td>\n",
       "    </tr>\n",
       "    <tr>\n",
       "      <th>3</th>\n",
       "      <td>10932</td>\n",
       "      <td>0.002653</td>\n",
       "      <td>0.000215</td>\n",
       "      <td>0.000000</td>\n",
       "      <td>0.000327</td>\n",
       "      <td>0.000327</td>\n",
       "    </tr>\n",
       "    <tr>\n",
       "      <th>4</th>\n",
       "      <td>10932</td>\n",
       "      <td>0.002653</td>\n",
       "      <td>0.000000</td>\n",
       "      <td>0.000112</td>\n",
       "      <td>0.000569</td>\n",
       "      <td>0.000569</td>\n",
       "    </tr>\n",
       "    <tr>\n",
       "      <th>...</th>\n",
       "      <td>...</td>\n",
       "      <td>...</td>\n",
       "      <td>...</td>\n",
       "      <td>...</td>\n",
       "      <td>...</td>\n",
       "      <td>...</td>\n",
       "    </tr>\n",
       "    <tr>\n",
       "      <th>2194346</th>\n",
       "      <td>10931</td>\n",
       "      <td>0.021883</td>\n",
       "      <td>1.000000</td>\n",
       "      <td>0.999888</td>\n",
       "      <td>0.009880</td>\n",
       "      <td>0.009880</td>\n",
       "    </tr>\n",
       "    <tr>\n",
       "      <th>2194347</th>\n",
       "      <td>10931</td>\n",
       "      <td>0.022546</td>\n",
       "      <td>1.000000</td>\n",
       "      <td>0.999888</td>\n",
       "      <td>0.010761</td>\n",
       "      <td>0.010763</td>\n",
       "    </tr>\n",
       "    <tr>\n",
       "      <th>2194348</th>\n",
       "      <td>10931</td>\n",
       "      <td>0.023210</td>\n",
       "      <td>1.000000</td>\n",
       "      <td>0.999888</td>\n",
       "      <td>0.011064</td>\n",
       "      <td>0.011066</td>\n",
       "    </tr>\n",
       "    <tr>\n",
       "      <th>2194349</th>\n",
       "      <td>10931</td>\n",
       "      <td>0.023873</td>\n",
       "      <td>1.000000</td>\n",
       "      <td>0.999888</td>\n",
       "      <td>0.011237</td>\n",
       "      <td>0.011237</td>\n",
       "    </tr>\n",
       "    <tr>\n",
       "      <th>2194350</th>\n",
       "      <td>10931</td>\n",
       "      <td>0.025862</td>\n",
       "      <td>1.000000</td>\n",
       "      <td>0.999888</td>\n",
       "      <td>0.011446</td>\n",
       "      <td>0.011448</td>\n",
       "    </tr>\n",
       "  </tbody>\n",
       "</table>\n",
       "<p>2194351 rows × 6 columns</p>\n",
       "</div>"
      ],
      "text/plain": [
       "         user_id  level_arrive  f_success_num  f_fail_num  time_take  \\\n",
       "0          10932      0.000663       0.000215    0.000000   0.000047   \n",
       "1          10932      0.001326       0.000215    0.000000   0.000165   \n",
       "2          10932      0.001989       0.000215    0.000000   0.000279   \n",
       "3          10932      0.002653       0.000215    0.000000   0.000327   \n",
       "4          10932      0.002653       0.000000    0.000112   0.000569   \n",
       "...          ...           ...            ...         ...        ...   \n",
       "2194346    10931      0.021883       1.000000    0.999888   0.009880   \n",
       "2194347    10931      0.022546       1.000000    0.999888   0.010761   \n",
       "2194348    10931      0.023210       1.000000    0.999888   0.011064   \n",
       "2194349    10931      0.023873       1.000000    0.999888   0.011237   \n",
       "2194350    10931      0.025862       1.000000    0.999888   0.011446   \n",
       "\n",
       "         f_help_take  \n",
       "0           0.000047  \n",
       "1           0.000165  \n",
       "2           0.000279  \n",
       "3           0.000327  \n",
       "4           0.000569  \n",
       "...              ...  \n",
       "2194346     0.009880  \n",
       "2194347     0.010763  \n",
       "2194348     0.011066  \n",
       "2194349     0.011237  \n",
       "2194350     0.011448  \n",
       "\n",
       "[2194351 rows x 6 columns]"
      ]
     },
     "execution_count": 521,
     "metadata": {},
     "output_type": "execute_result"
    }
   ],
   "source": [
    "scaler = MinMaxScaler()\n",
    "\n",
    "t_normalized = pd.DataFrame(scaler.fit_transform(t), columns=t.columns)\n",
    "t_normalized['user_id'] = t['user_id']\n",
    "t_normalized"
   ]
  },
  {
   "cell_type": "code",
   "execution_count": 522,
   "metadata": {},
   "outputs": [
    {
     "name": "stderr",
     "output_type": "stream",
     "text": [
      "100%|██████████████████████████████████████| 2773/2773 [00:12<00:00, 226.69it/s]\n",
      "100%|██████████████████████████████████████| 2658/2658 [00:11<00:00, 231.63it/s]\n",
      "100%|██████████████████████████████████████| 8158/8158 [00:45<00:00, 178.90it/s]\n"
     ]
    }
   ],
   "source": [
    "padded_train_seq, padded_dev_seq, padded_test_seq = create_padding_seq(t_normalized,max_try_num)"
   ]
  },
  {
   "cell_type": "code",
   "execution_count": 523,
   "metadata": {},
   "outputs": [
    {
     "data": {
      "text/plain": [
       "((8158, 4122, 5), (2658, 4122, 5), (2773, 4122, 5))"
      ]
     },
     "execution_count": 523,
     "metadata": {},
     "output_type": "execute_result"
    }
   ],
   "source": [
    "padded_train_seq.shape,padded_dev_seq.shape,padded_test_seq.shape"
   ]
  },
  {
   "cell_type": "code",
   "execution_count": 526,
   "metadata": {
    "scrolled": true
   },
   "outputs": [
    {
     "name": "stdout",
     "output_type": "stream",
     "text": [
      "Epoch 1/5\n",
      "64/64 [==============================] - 83s 1s/step - loss: 0.6882 - accuracy: 0.6652\n",
      "Epoch 2/5\n",
      "64/64 [==============================] - 75s 1s/step - loss: 0.6572 - accuracy: 0.6654\n",
      "Epoch 3/5\n",
      "64/64 [==============================] - 71s 1s/step - loss: 0.6386 - accuracy: 0.6654\n",
      "Epoch 4/5\n",
      "64/64 [==============================] - 70s 1s/step - loss: 0.6381 - accuracy: 0.6654\n",
      "Epoch 5/5\n",
      "64/64 [==============================] - 64s 1s/step - loss: 0.6376 - accuracy: 0.6654\n",
      "84/84 [==============================] - 23s 272ms/step\n",
      "AUC: 0.48637730669205215\n"
     ]
    }
   ],
   "source": [
    "rnn_model2 = train_rnn(padded_train_seq, padded_dev_seq)"
   ]
  },
  {
   "cell_type": "markdown",
   "metadata": {},
   "source": [
    "可以看到结果依旧差强人意。"
   ]
  },
  {
   "cell_type": "code",
   "execution_count": 532,
   "metadata": {},
   "outputs": [
    {
     "name": "stdout",
     "output_type": "stream",
     "text": [
      "Epoch 1/2\n",
      "64/64 [==============================] - 57s 865ms/step - loss: 0.6535 - accuracy: 0.6392\n",
      "Epoch 2/2\n",
      "64/64 [==============================] - 56s 876ms/step - loss: 0.6379 - accuracy: 0.6652\n",
      "Epoch 1/2\n",
      "64/64 [==============================] - 59s 898ms/step - loss: 0.6310 - accuracy: 0.6752\n",
      "Epoch 2/2\n",
      "64/64 [==============================] - 66s 1s/step - loss: 0.6378 - accuracy: 0.6654\n",
      "Epoch 1/2\n",
      "64/64 [==============================] - 67s 1000ms/step - loss: 0.6432 - accuracy: 0.6573\n",
      "Epoch 2/2\n",
      "64/64 [==============================] - 68s 1s/step - loss: 0.6380 - accuracy: 0.6652\n",
      "Epoch 1/2\n",
      "64/64 [==============================] - 66s 996ms/step - loss: 0.6394 - accuracy: 0.6649\n",
      "Epoch 2/2\n",
      "64/64 [==============================] - 70s 1s/step - loss: 0.6380 - accuracy: 0.6654\n",
      "Epoch 1/2\n",
      "64/64 [==============================] - 70s 1s/step - loss: 0.6460 - accuracy: 0.6461\n",
      "Epoch 2/2\n",
      "64/64 [==============================] - 64s 998ms/step - loss: 0.6381 - accuracy: 0.6652\n",
      "84/84 [==============================] - 26s 308ms/step\n",
      "84/84 [==============================] - 28s 326ms/step\n",
      "84/84 [==============================] - 23s 267ms/step\n",
      "84/84 [==============================] - 19s 221ms/step\n",
      "84/84 [==============================] - 26s 236ms/step\n"
     ]
    },
    {
     "data": {
      "text/plain": [
       "0.4335162915801516"
      ]
     },
     "execution_count": 532,
     "metadata": {},
     "output_type": "execute_result"
    }
   ],
   "source": [
    "sequence_length = padded_train_seq.shape[1]\n",
    "input_dim = padded_train_seq.shape[2]\n",
    "\n",
    "def build_rnn_model():\n",
    "    model = keras.models.Sequential()\n",
    "    model.add(keras.layers.SimpleRNN(32, input_shape=(sequence_length, input_dim)))\n",
    "    model.add(keras.layers.Dense(2, activation='softmax'))\n",
    "    model.compile(optimizer='adam', loss='categorical_crossentropy', metrics=['accuracy'])\n",
    "    return model\n",
    "\n",
    "num_models = 5\n",
    "\n",
    "models = []\n",
    "for i in range(num_models):\n",
    "    model = build_rnn_model()\n",
    "    model.fit(padded_train_seq, train_y_c, epochs=2, batch_size=128)\n",
    "    models.append(model)\n",
    "\n",
    "ensemble_predictions = np.zeros_like(dev_y_c)\n",
    "for model in models:\n",
    "    predictions = model.predict(padded_dev_seq)\n",
    "    ensemble_predictions += predictions\n",
    "ensemble_predictions /= num_models\n",
    "\n",
    "roc_auc_score(dev_y, ensemble_predictions[:,1])"
   ]
  },
  {
   "cell_type": "markdown",
   "metadata": {},
   "source": [
    "因为以上RNN模型的分类能力几乎为0，所以集成结果也不好。\n",
    "\n",
    "LSTM，GRU也尝试了，效果比RNN略好一点点，但仍然很差。"
   ]
  },
  {
   "cell_type": "markdown",
   "metadata": {},
   "source": [
    "# 2. 利用若干机器学习方法"
   ]
  },
  {
   "cell_type": "code",
   "execution_count": 539,
   "metadata": {},
   "outputs": [
    {
     "data": {
      "text/html": [
       "<div>\n",
       "<style scoped>\n",
       "    .dataframe tbody tr th:only-of-type {\n",
       "        vertical-align: middle;\n",
       "    }\n",
       "\n",
       "    .dataframe tbody tr th {\n",
       "        vertical-align: top;\n",
       "    }\n",
       "\n",
       "    .dataframe thead th {\n",
       "        text-align: right;\n",
       "    }\n",
       "</style>\n",
       "<table border=\"1\" class=\"dataframe\">\n",
       "  <thead>\n",
       "    <tr style=\"text-align: right;\">\n",
       "      <th></th>\n",
       "      <th>user_id</th>\n",
       "      <th>level_id</th>\n",
       "      <th>f_success</th>\n",
       "      <th>f_duration</th>\n",
       "      <th>f_reststep</th>\n",
       "      <th>f_help</th>\n",
       "      <th>time</th>\n",
       "      <th>day</th>\n",
       "    </tr>\n",
       "  </thead>\n",
       "  <tbody>\n",
       "    <tr>\n",
       "      <th>0</th>\n",
       "      <td>10932</td>\n",
       "      <td>1</td>\n",
       "      <td>1</td>\n",
       "      <td>127.0</td>\n",
       "      <td>0.500000</td>\n",
       "      <td>0</td>\n",
       "      <td>2020-02-01 00:05:51</td>\n",
       "      <td>1</td>\n",
       "    </tr>\n",
       "    <tr>\n",
       "      <th>1</th>\n",
       "      <td>10932</td>\n",
       "      <td>2</td>\n",
       "      <td>1</td>\n",
       "      <td>69.0</td>\n",
       "      <td>0.703704</td>\n",
       "      <td>0</td>\n",
       "      <td>2020-02-01 00:08:01</td>\n",
       "      <td>1</td>\n",
       "    </tr>\n",
       "    <tr>\n",
       "      <th>2</th>\n",
       "      <td>10932</td>\n",
       "      <td>3</td>\n",
       "      <td>1</td>\n",
       "      <td>67.0</td>\n",
       "      <td>0.560000</td>\n",
       "      <td>0</td>\n",
       "      <td>2020-02-01 00:09:50</td>\n",
       "      <td>1</td>\n",
       "    </tr>\n",
       "    <tr>\n",
       "      <th>3</th>\n",
       "      <td>10932</td>\n",
       "      <td>4</td>\n",
       "      <td>1</td>\n",
       "      <td>58.0</td>\n",
       "      <td>0.700000</td>\n",
       "      <td>0</td>\n",
       "      <td>2020-02-01 00:11:16</td>\n",
       "      <td>1</td>\n",
       "    </tr>\n",
       "    <tr>\n",
       "      <th>4</th>\n",
       "      <td>10932</td>\n",
       "      <td>5</td>\n",
       "      <td>1</td>\n",
       "      <td>83.0</td>\n",
       "      <td>0.666667</td>\n",
       "      <td>0</td>\n",
       "      <td>2020-02-01 00:13:12</td>\n",
       "      <td>1</td>\n",
       "    </tr>\n",
       "    <tr>\n",
       "      <th>...</th>\n",
       "      <td>...</td>\n",
       "      <td>...</td>\n",
       "      <td>...</td>\n",
       "      <td>...</td>\n",
       "      <td>...</td>\n",
       "      <td>...</td>\n",
       "      <td>...</td>\n",
       "      <td>...</td>\n",
       "    </tr>\n",
       "    <tr>\n",
       "      <th>2194346</th>\n",
       "      <td>10931</td>\n",
       "      <td>40</td>\n",
       "      <td>1</td>\n",
       "      <td>111.0</td>\n",
       "      <td>0.250000</td>\n",
       "      <td>1</td>\n",
       "      <td>2020-02-03 16:26:37</td>\n",
       "      <td>3</td>\n",
       "    </tr>\n",
       "    <tr>\n",
       "      <th>2194347</th>\n",
       "      <td>10931</td>\n",
       "      <td>41</td>\n",
       "      <td>1</td>\n",
       "      <td>76.0</td>\n",
       "      <td>0.277778</td>\n",
       "      <td>0</td>\n",
       "      <td>2020-02-03 16:28:06</td>\n",
       "      <td>3</td>\n",
       "    </tr>\n",
       "    <tr>\n",
       "      <th>2194348</th>\n",
       "      <td>10931</td>\n",
       "      <td>42</td>\n",
       "      <td>0</td>\n",
       "      <td>121.0</td>\n",
       "      <td>0.000000</td>\n",
       "      <td>1</td>\n",
       "      <td>2020-02-03 16:30:17</td>\n",
       "      <td>3</td>\n",
       "    </tr>\n",
       "    <tr>\n",
       "      <th>2194349</th>\n",
       "      <td>10931</td>\n",
       "      <td>42</td>\n",
       "      <td>0</td>\n",
       "      <td>115.0</td>\n",
       "      <td>0.000000</td>\n",
       "      <td>0</td>\n",
       "      <td>2020-02-03 16:33:40</td>\n",
       "      <td>3</td>\n",
       "    </tr>\n",
       "    <tr>\n",
       "      <th>2194350</th>\n",
       "      <td>10931</td>\n",
       "      <td>42</td>\n",
       "      <td>1</td>\n",
       "      <td>91.0</td>\n",
       "      <td>0.181818</td>\n",
       "      <td>0</td>\n",
       "      <td>2020-02-03 16:35:18</td>\n",
       "      <td>3</td>\n",
       "    </tr>\n",
       "  </tbody>\n",
       "</table>\n",
       "<p>2194351 rows × 8 columns</p>\n",
       "</div>"
      ],
      "text/plain": [
       "         user_id  level_id  f_success  f_duration  f_reststep  f_help  \\\n",
       "0          10932         1          1       127.0    0.500000       0   \n",
       "1          10932         2          1        69.0    0.703704       0   \n",
       "2          10932         3          1        67.0    0.560000       0   \n",
       "3          10932         4          1        58.0    0.700000       0   \n",
       "4          10932         5          1        83.0    0.666667       0   \n",
       "...          ...       ...        ...         ...         ...     ...   \n",
       "2194346    10931        40          1       111.0    0.250000       1   \n",
       "2194347    10931        41          1        76.0    0.277778       0   \n",
       "2194348    10931        42          0       121.0    0.000000       1   \n",
       "2194349    10931        42          0       115.0    0.000000       0   \n",
       "2194350    10931        42          1        91.0    0.181818       0   \n",
       "\n",
       "                        time  day  \n",
       "0        2020-02-01 00:05:51    1  \n",
       "1        2020-02-01 00:08:01    1  \n",
       "2        2020-02-01 00:09:50    1  \n",
       "3        2020-02-01 00:11:16    1  \n",
       "4        2020-02-01 00:13:12    1  \n",
       "...                      ...  ...  \n",
       "2194346  2020-02-03 16:26:37    3  \n",
       "2194347  2020-02-03 16:28:06    3  \n",
       "2194348  2020-02-03 16:30:17    3  \n",
       "2194349  2020-02-03 16:33:40    3  \n",
       "2194350  2020-02-03 16:35:18    3  \n",
       "\n",
       "[2194351 rows x 8 columns]"
      ]
     },
     "execution_count": 539,
     "metadata": {},
     "output_type": "execute_result"
    }
   ],
   "source": [
    "seq_df"
   ]
  },
  {
   "cell_type": "markdown",
   "metadata": {},
   "source": [
    "## 2.1 特征提取"
   ]
  },
  {
   "cell_type": "markdown",
   "metadata": {},
   "source": [
    "* `max_level`: 一共闯过的关数\n",
    "\n",
    "* `last_try_num`: 记录的最后一关尝试次数\n",
    "\n",
    "* `max_try_num`: 关卡尝试次数的最大值\n",
    "\n",
    "* `help_num`: 额外帮助使用总次数\n",
    "\n",
    "* `all_time`: 花在游戏上的总时长\n",
    "\n",
    "* `last_past_or_not`: 最后尝试通过的关卡是否通过（通过：1，不通过：0）\n",
    "\n",
    "* `average_f_success_n`: 最后n次的平均通过率\n",
    "\n",
    "* `average_f_duration_n`: 最后n次的平均尝试时间\n",
    "\n",
    "* `average_f_reststep_n`: 最后n次的平均剩余步数与限定步数之比\n",
    "\n",
    "* `average_f_help_n`: 最后n次的额外帮助使用率\n",
    "\n",
    "* `average_f_success_all`: 平均通过率\n",
    "\n",
    "* `average_f_duration_all`: 平均尝试时间\n",
    "\n",
    "* `average_f_reststep_all`: 平均剩余步数与限定步数之比\n",
    "\n",
    "* `average_f_help_all`: 额外帮助使用率\n",
    "\n",
    "* `average_time_gap`: 平均两次尝试之间的间隔时间\n",
    "\n",
    "* `sign_in_day_num`: 四天中玩游戏的天数\n",
    "\n",
    "* `average_time_per_day`: 日均花在游戏上的时间（每天第一次尝试和最后一次尝试的时间差/分钟）\n",
    "\n",
    "* `patience_idx1`: 失败的关卡尝试中，若 f_duration > f_avg_duration 则 +1\n",
    "\n",
    "* `patience_idx2`: 每个关卡，若 重试次数 > f_avg_retrytimes 则 +1\n",
    "\n",
    "* `ability_idx1`: 成功的关卡中，若 f_duration < f_avg_win_duration 则 +1\n",
    "\n",
    "* `ability_idx2`: 成功的关卡中，若 重试次数 < f_avg_retrytimes 则 +1\n",
    "\n",
    "* `ability_idx3`: 若 通关率(给定一个关卡，成功次数/总次数) > 平均通关率 则 +1\n",
    "\n",
    "（声明：后五个特征提取思路借鉴 https://blog.csdn.net/weixin_48024605/article/details/135977107 ）"
   ]
  },
  {
   "cell_type": "code",
   "execution_count": 262,
   "metadata": {},
   "outputs": [],
   "source": [
    "user_id_list = list(set(seq_df['user_id'].values))"
   ]
  },
  {
   "cell_type": "markdown",
   "metadata": {},
   "source": [
    "* `max_level`: 一共闯过的关数\n",
    "\n",
    "* `last_try_num`: 记录的最后一关尝试次数\n",
    "\n",
    "* `max_try_num`: 关卡尝试次数的最大值\n",
    "\n",
    "* `help_num`: 额外帮助使用总次数\n",
    "\n",
    "* `all_time`: 花在游戏上的总时长\n",
    "\n",
    "* `last_past_or_not`: 最后尝试通过的关卡是否通过（通过：1，不通过：0）"
   ]
  },
  {
   "cell_type": "code",
   "execution_count": 540,
   "metadata": {},
   "outputs": [
    {
     "name": "stderr",
     "output_type": "stream",
     "text": [
      "100%|█████████████████████████████████████| 13589/13589 [12:22<00:00, 18.30it/s]\n"
     ]
    }
   ],
   "source": [
    "max_level_list = []\n",
    "last_try_num_list = []\n",
    "max_try_num_list = []\n",
    "help_num_list = []\n",
    "all_time_list = []\n",
    "last_past_or_not_list = []\n",
    "\n",
    "for i in tqdm(user_id_list):\n",
    "    df = seq_df[(seq_df['user_id']==i)]\n",
    "    \n",
    "    # max_level\n",
    "    try:\n",
    "        max_level = seq_df[(seq_df['user_id']==i) & (seq_df['f_success']==1)][-1:]['level_id'].values.item()\n",
    "        max_level_list.append(max_level)\n",
    "    except:\n",
    "        max_level_list.append(1) # 若一关都没有闯过，就假设闯过第一关，以方便后续的merge \n",
    "        \n",
    "    # last_try_num\n",
    "    last_level_id = df[-1:]['level_id'].values.item()\n",
    "    last_try_num_list.append(len(df[df['level_id']==last_level_id]))\n",
    "    \n",
    "    # max_try_num\n",
    "    level_list = list(set(df['level_id']))\n",
    "    try_num = []\n",
    "    for l in level_list:\n",
    "        try_num.append(len(df[df['level_id'] == l]))\n",
    "    max_try_num_list.append(max(try_num))\n",
    "    \n",
    "    # help_num\n",
    "    help_num_list.append(sum(df['f_help']))\n",
    "    \n",
    "    # all_time\n",
    "    all_time_list.append(sum(df['f_duration']))\n",
    "    \n",
    "    # last_past_or_not\n",
    "    last_past_or_not_list.append(int(df[-1:]['f_success']))"
   ]
  },
  {
   "cell_type": "markdown",
   "metadata": {},
   "source": [
    "* `average_f_success_n`: 最后n次的平均通过率"
   ]
  },
  {
   "cell_type": "markdown",
   "metadata": {},
   "source": [
    "* `average_f_duration_n`: 最后n次的平均尝试时间"
   ]
  },
  {
   "cell_type": "markdown",
   "metadata": {},
   "source": [
    "* `average_f_reststep_n`: 最后n次的平均剩余步数与限定步数之比"
   ]
  },
  {
   "cell_type": "markdown",
   "metadata": {},
   "source": [
    "* `average_f_help_n`: 最后n次的额外帮助使用率"
   ]
  },
  {
   "cell_type": "code",
   "execution_count": 547,
   "metadata": {},
   "outputs": [],
   "source": [
    "def average_n(n):\n",
    "    average_f_success_n = []\n",
    "    average_f_duration_n = []\n",
    "    average_f_reststep_n = []\n",
    "    average_f_help_n = []\n",
    "    for i in tqdm(user_id_list):\n",
    "        df = seq_df[(seq_df['user_id']==i)]\n",
    "        try:\n",
    "            average_f_success = df[-n:]['f_success'].values.mean()\n",
    "            average_f_duration = df[-n:]['f_duration'].values.mean()\n",
    "            average_f_reststep = df[-n:]['f_reststep'].values.mean()\n",
    "            average_f_help = df[-n:]['f_help'].values.mean()\n",
    "        except:\n",
    "            average_f_success = df['f_success'].values.mean()\n",
    "            average_f_duration = df['f_duration'].values.mean()\n",
    "            average_f_reststep = df['f_reststep'].values.mean()\n",
    "            average_f_help = df['f_help'].values.mean()\n",
    "        average_f_success_n.append(average_f_success)\n",
    "        average_f_duration_n.append(average_f_duration)\n",
    "        average_f_reststep_n.append(average_f_reststep)\n",
    "        average_f_help_n.append(average_f_help)\n",
    "    return average_f_success_n,average_f_duration_n,average_f_reststep_n,average_f_help_n"
   ]
  },
  {
   "cell_type": "code",
   "execution_count": 548,
   "metadata": {},
   "outputs": [
    {
     "name": "stderr",
     "output_type": "stream",
     "text": [
      "100%|████████████████████████████████████| 13589/13589 [01:34<00:00, 143.80it/s]\n"
     ]
    }
   ],
   "source": [
    "# n = 5\n",
    "average_f_success_5,average_f_duration_5,average_f_reststep_5,average_f_help_5 = average_n(5)"
   ]
  },
  {
   "cell_type": "code",
   "execution_count": 549,
   "metadata": {},
   "outputs": [
    {
     "name": "stderr",
     "output_type": "stream",
     "text": [
      "100%|████████████████████████████████████| 13589/13589 [01:21<00:00, 166.54it/s]\n"
     ]
    }
   ],
   "source": [
    "# n = 10\n",
    "average_f_success_10,average_f_duration_10,average_f_reststep_10,average_f_help_10 = average_n(10)"
   ]
  },
  {
   "cell_type": "code",
   "execution_count": 550,
   "metadata": {},
   "outputs": [
    {
     "data": {
      "text/plain": [
       "13589"
      ]
     },
     "execution_count": 550,
     "metadata": {},
     "output_type": "execute_result"
    }
   ],
   "source": [
    "len(average_f_success_5)"
   ]
  },
  {
   "cell_type": "markdown",
   "metadata": {},
   "source": [
    "* `average_f_success_all`: 平均通过率"
   ]
  },
  {
   "cell_type": "markdown",
   "metadata": {},
   "source": [
    "* `average_f_duration_all`: 平均尝试时间"
   ]
  },
  {
   "cell_type": "markdown",
   "metadata": {},
   "source": [
    "* `average_f_reststep_all`: 平均剩余步数与限定步数之比"
   ]
  },
  {
   "cell_type": "markdown",
   "metadata": {},
   "source": [
    "* `average_f_help_all`: 额外帮助使用率"
   ]
  },
  {
   "cell_type": "code",
   "execution_count": 551,
   "metadata": {},
   "outputs": [],
   "source": [
    "def average_all():\n",
    "    average_f_success_all = []\n",
    "    average_f_duration_all = []\n",
    "    average_f_reststep_all = []\n",
    "    average_f_help_all = []\n",
    "    for i in tqdm(user_id_list):\n",
    "        df = seq_df[(seq_df['user_id']==i)]\n",
    "        average_f_success = df['f_success'].values.mean()\n",
    "        average_f_duration = df['f_duration'].values.mean()\n",
    "        average_f_reststep = df['f_reststep'].values.mean()\n",
    "        average_f_help = df['f_help'].values.mean()\n",
    "\n",
    "        average_f_success_all.append(average_f_success)\n",
    "        average_f_duration_all.append(average_f_duration)\n",
    "        average_f_reststep_all.append(average_f_reststep)\n",
    "        average_f_help_all.append(average_f_help)\n",
    "    return average_f_success_all,average_f_duration_all,average_f_reststep_all,average_f_help_all"
   ]
  },
  {
   "cell_type": "code",
   "execution_count": 552,
   "metadata": {},
   "outputs": [
    {
     "name": "stderr",
     "output_type": "stream",
     "text": [
      "100%|████████████████████████████████████| 13589/13589 [01:04<00:00, 212.19it/s]\n"
     ]
    }
   ],
   "source": [
    "average_f_success_all,average_f_duration_all,average_f_reststep_all,average_f_help_all = average_all()"
   ]
  },
  {
   "cell_type": "code",
   "execution_count": 553,
   "metadata": {},
   "outputs": [
    {
     "data": {
      "text/plain": [
       "13589"
      ]
     },
     "execution_count": 553,
     "metadata": {},
     "output_type": "execute_result"
    }
   ],
   "source": [
    "len(average_f_success_all)"
   ]
  },
  {
   "cell_type": "markdown",
   "metadata": {},
   "source": [
    "* `average_time_gap`: 平均两次尝试之间的间隔时间"
   ]
  },
  {
   "cell_type": "markdown",
   "metadata": {},
   "source": [
    "* `sign_in_day_num`: 四天中玩游戏的天数"
   ]
  },
  {
   "cell_type": "code",
   "execution_count": 555,
   "metadata": {},
   "outputs": [
    {
     "name": "stderr",
     "output_type": "stream",
     "text": [
      "100%|████████████████████████████████████| 13589/13589 [01:43<00:00, 131.48it/s]\n"
     ]
    }
   ],
   "source": [
    "average_time_gap = []\n",
    "sign_in_day_num = []\n",
    "\n",
    "for i in tqdm(user_id_list):\n",
    "    df = seq_df[(seq_df['user_id'] == i)]\n",
    "    \n",
    "    # sign_in_day_num\n",
    "    sign_in_day_num.append(len(set(df['day'].values)))\n",
    "    \n",
    "    # average_time_gap\n",
    "    avg_time_gap = 0\n",
    "    count = 0\n",
    "    for j in range(1,5):\n",
    "        try:\n",
    "            time_list = list(df[df['day'] == j]['time'])\n",
    "            end_time = datetime.datetime.strptime(time_list[-1], \"%Y-%m-%d %H:%M:%S\")\n",
    "            start_time = datetime.datetime.strptime(time_list[0], \"%Y-%m-%d %H:%M:%S\")\n",
    "            time_gap = (end_time - start_time).total_seconds()/(len(time_list)-1)/60\n",
    "            avg_time_gap += time_gap\n",
    "            count += 1\n",
    "        except:\n",
    "            continue\n",
    "    if count == 0:\n",
    "        time_list = list(df['time'])\n",
    "        end_time = datetime.datetime.strptime(time_list[-1], \"%Y-%m-%d %H:%M:%S\")\n",
    "        start_time = datetime.datetime.strptime(time_list[0], \"%Y-%m-%d %H:%M:%S\")\n",
    "        time_gap = (end_time - start_time).total_seconds()/(len(time_list)-1)/60\n",
    "        average_time_gap.append(time_gap)\n",
    "    else:\n",
    "        average_time_gap.append(avg_time_gap/count)"
   ]
  },
  {
   "cell_type": "code",
   "execution_count": 556,
   "metadata": {},
   "outputs": [
    {
     "data": {
      "text/plain": [
       "13589"
      ]
     },
     "execution_count": 556,
     "metadata": {},
     "output_type": "execute_result"
    }
   ],
   "source": [
    "len(average_time_gap)"
   ]
  },
  {
   "cell_type": "code",
   "execution_count": 557,
   "metadata": {},
   "outputs": [
    {
     "data": {
      "text/plain": [
       "13589"
      ]
     },
     "execution_count": 557,
     "metadata": {},
     "output_type": "execute_result"
    }
   ],
   "source": [
    "len(sign_in_day_num)"
   ]
  },
  {
   "cell_type": "markdown",
   "metadata": {},
   "source": [
    "* `average_time_per_day`: 日均花在游戏上的时间（每天第一次尝试和最后一次尝试的时间差/分钟）"
   ]
  },
  {
   "cell_type": "code",
   "execution_count": 558,
   "metadata": {},
   "outputs": [
    {
     "name": "stderr",
     "output_type": "stream",
     "text": [
      "100%|████████████████████████████████████| 13589/13589 [01:54<00:00, 119.13it/s]\n"
     ]
    }
   ],
   "source": [
    "average_time_per_day = []\n",
    "for i in tqdm(user_id_list):\n",
    "    df = seq_df[(seq_df['user_id'] == i)]\n",
    "    avg_time_gap = 0\n",
    "    count = 0\n",
    "    for j in range(1,5):\n",
    "        try:\n",
    "            time_list = list(df[df['day'] == j]['time'])\n",
    "            end_time = datetime.strptime(time_list[-1], \"%Y-%m-%d %H:%M:%S\")\n",
    "            start_time = datetime.strptime(time_list[0], \"%Y-%m-%d %H:%M:%S\")\n",
    "            time_gap = (end_time - start_time).total_seconds()/60\n",
    "            avg_time_gap += time_gap\n",
    "            count += 1\n",
    "        except:\n",
    "            continue\n",
    "    if count == 0:\n",
    "        average_time_per_day.append(0)\n",
    "    else:\n",
    "        average_time_per_day.append(avg_time_gap/count)"
   ]
  },
  {
   "cell_type": "code",
   "execution_count": 559,
   "metadata": {},
   "outputs": [
    {
     "data": {
      "text/plain": [
       "13589"
      ]
     },
     "execution_count": 559,
     "metadata": {},
     "output_type": "execute_result"
    }
   ],
   "source": [
    "len(average_time_per_day)"
   ]
  },
  {
   "cell_type": "markdown",
   "metadata": {},
   "source": [
    "* `patience_idx1`: 失败的关卡尝试中，若 f_duration > f_avg_duration 则 +1\n",
    "\n",
    "\n",
    "* `patience_idx2`: 每个关卡，若 重试次数 > f_avg_retrytimes 则 +1\n",
    "\n",
    "\n",
    "* `ability_idx1`: 成功的关卡中，若 f_duration < f_avg_win_duration 则 +1\n",
    "\n",
    "\n",
    "* `ability_idx2`: 成功的关卡中，若 重试次数 < f_avg_retrytimes 则 +1\n",
    "\n",
    "\n",
    "* `ability_idx3`: 若 通关率(给定一个关卡，成功次数/总次数) > 平均通关率 则 +1"
   ]
  },
  {
   "cell_type": "code",
   "execution_count": 560,
   "metadata": {},
   "outputs": [
    {
     "name": "stderr",
     "output_type": "stream",
     "text": [
      "100%|█████████████████████████████████████| 13589/13589 [39:56<00:00,  5.67it/s]\n"
     ]
    }
   ],
   "source": [
    "patience_idx1_list = []\n",
    "patience_idx2_list = []\n",
    "ability_idx1_list = []\n",
    "ability_idx2_list = []\n",
    "ability_idx3_list = []\n",
    "for u in tqdm(user_id_list):\n",
    "    level_trynum_dict = {}\n",
    "    success_level_trynum_dict={}\n",
    "    t = seq_df[seq_df['user_id'] == u]\n",
    "    patience_idx1 = 0 # 失败的关卡尝试中，若f_duration > f_avg_duration, +1\n",
    "    patience_idx2 = 0 # 每个关卡，重试次数 > f_avg_retrytimes\n",
    "    ability_idx1 = 0 # 成功的关卡中，若f_duration < f_avg_win_duration, +1,\n",
    "    ability_idx2 = 0 # 成功的关卡中，若重试次数 < f_avg_retrytimes, +1,\n",
    "    ability_idx3 = 0 # 若通关率(给定一个关卡，成功次数/总次数)>平均通关率，+1\n",
    "    for i in range(1,len(t)):\n",
    "        level = t.iloc[i]['level_id']\n",
    "        level_trynum_dict[level] = level_trynum_dict.get(level,0) + 1\n",
    "        if t.iloc[i]['f_success'] == 0 and t.iloc[i]['f_duration'] > meta_df['f_avg_duration'][level-1]:\n",
    "            patience_idx1 += 1\n",
    "        if t.iloc[i]['f_success'] == 1:\n",
    "            success_level_trynum_dict[level] = success_level_trynum_dict.get(level,0) + 1\n",
    "            if t.iloc[i]['f_duration'] > meta_df['f_avg_win_duration'][level-1]:\n",
    "                ability_idx1 += 1\n",
    "    for k,v in level_trynum_dict.items():\n",
    "        if meta_df['f_avg_retrytimes'][k-1] < v-1:\n",
    "            patience_idx2 +=1\n",
    "    for k,v in success_level_trynum_dict.items():\n",
    "        if meta_df['f_avg_retrytimes'][k-1] > v-1:\n",
    "            ability_idx2 +=1\n",
    "        if v/level_trynum_dict[k] > meta_df['f_avg_retrytimes'][k-1]:\n",
    "            ability_idx3 += 1  \n",
    "    patience_idx1_list.append(patience_idx1)\n",
    "    patience_idx2_list.append(patience_idx2)\n",
    "    ability_idx1_list.append(ability_idx1)\n",
    "    ability_idx2_list.append(ability_idx2)\n",
    "    ability_idx3_list.append(ability_idx3)"
   ]
  },
  {
   "cell_type": "markdown",
   "metadata": {},
   "source": [
    "构造特征矩阵"
   ]
  },
  {
   "cell_type": "code",
   "execution_count": 567,
   "metadata": {},
   "outputs": [],
   "source": [
    "char = {'user_id': user_id_list,\n",
    "        'max_level': max_level_list,\n",
    "        'last_try_num': last_try_num_list,\n",
    "        'max_try_num': max_try_num_list,\n",
    "        'help_num': help_num_list,\n",
    "        'all_time': all_time_list,\n",
    "        'last_past_or_not': last_past_or_not_list,\n",
    "        'average_f_success_5': average_f_success_5,\n",
    "        'average_f_duration_5': average_f_duration_5,\n",
    "        'average_f_reststep_5': average_f_reststep_5,\n",
    "        'average_f_help_5': average_f_help_5,\n",
    "        'average_f_success_10': average_f_success_10,\n",
    "        'average_f_duration_10': average_f_duration_10,\n",
    "        'average_f_reststep_10': average_f_reststep_10,\n",
    "        'average_f_help_10': average_f_help_10,\n",
    "        'average_f_success_all': average_f_success_all,\n",
    "        'average_f_duration_all': average_f_duration_all,\n",
    "        'average_f_reststep_all': average_f_reststep_all,\n",
    "        'average_f_help_all': average_f_help_all,\n",
    "        'average_time_gap': average_time_gap,\n",
    "        'sign_in_day_num': sign_in_day_num,\n",
    "        'average_time_per_day': average_time_per_day,\n",
    "        'patience_idx1': patience_idx1_list,\n",
    "        'patience_idx2': patience_idx2_list,\n",
    "        'ability_idx1': ability_idx1_list,\n",
    "        'ability_idx2': ability_idx2_list,\n",
    "        'ability_idx3': ability_idx3_list,\n",
    "       }"
   ]
  },
  {
   "cell_type": "code",
   "execution_count": 568,
   "metadata": {},
   "outputs": [],
   "source": [
    "char_df = pd.DataFrame(char)"
   ]
  },
  {
   "cell_type": "code",
   "execution_count": 569,
   "metadata": {},
   "outputs": [
    {
     "data": {
      "text/html": [
       "<div>\n",
       "<style scoped>\n",
       "    .dataframe tbody tr th:only-of-type {\n",
       "        vertical-align: middle;\n",
       "    }\n",
       "\n",
       "    .dataframe tbody tr th {\n",
       "        vertical-align: top;\n",
       "    }\n",
       "\n",
       "    .dataframe thead th {\n",
       "        text-align: right;\n",
       "    }\n",
       "</style>\n",
       "<table border=\"1\" class=\"dataframe\">\n",
       "  <thead>\n",
       "    <tr style=\"text-align: right;\">\n",
       "      <th></th>\n",
       "      <th>user_id</th>\n",
       "      <th>max_level</th>\n",
       "      <th>last_try_num</th>\n",
       "      <th>max_try_num</th>\n",
       "      <th>help_num</th>\n",
       "      <th>all_time</th>\n",
       "      <th>last_past_or_not</th>\n",
       "      <th>average_f_success_5</th>\n",
       "      <th>average_f_duration_5</th>\n",
       "      <th>average_f_reststep_5</th>\n",
       "      <th>...</th>\n",
       "      <th>average_f_reststep_all</th>\n",
       "      <th>average_f_help_all</th>\n",
       "      <th>average_time_gap</th>\n",
       "      <th>sign_in_day_num</th>\n",
       "      <th>average_time_per_day</th>\n",
       "      <th>patience_idx1</th>\n",
       "      <th>patience_idx2</th>\n",
       "      <th>ability_idx1</th>\n",
       "      <th>ability_idx2</th>\n",
       "      <th>ability_idx3</th>\n",
       "    </tr>\n",
       "  </thead>\n",
       "  <tbody>\n",
       "    <tr>\n",
       "      <th>0</th>\n",
       "      <td>1</td>\n",
       "      <td>103</td>\n",
       "      <td>22</td>\n",
       "      <td>28</td>\n",
       "      <td>8</td>\n",
       "      <td>38860.0</td>\n",
       "      <td>0</td>\n",
       "      <td>0.0</td>\n",
       "      <td>117.2</td>\n",
       "      <td>0.000000</td>\n",
       "      <td>...</td>\n",
       "      <td>0.060526</td>\n",
       "      <td>0.020253</td>\n",
       "      <td>21.759966</td>\n",
       "      <td>4</td>\n",
       "      <td>0</td>\n",
       "      <td>4</td>\n",
       "      <td>67</td>\n",
       "      <td>28</td>\n",
       "      <td>102</td>\n",
       "      <td>58</td>\n",
       "    </tr>\n",
       "    <tr>\n",
       "      <th>1</th>\n",
       "      <td>2</td>\n",
       "      <td>145</td>\n",
       "      <td>12</td>\n",
       "      <td>12</td>\n",
       "      <td>20</td>\n",
       "      <td>20190.0</td>\n",
       "      <td>0</td>\n",
       "      <td>0.0</td>\n",
       "      <td>82.4</td>\n",
       "      <td>0.306667</td>\n",
       "      <td>...</td>\n",
       "      <td>0.150546</td>\n",
       "      <td>0.084388</td>\n",
       "      <td>18.038673</td>\n",
       "      <td>4</td>\n",
       "      <td>0</td>\n",
       "      <td>0</td>\n",
       "      <td>36</td>\n",
       "      <td>10</td>\n",
       "      <td>106</td>\n",
       "      <td>78</td>\n",
       "    </tr>\n",
       "    <tr>\n",
       "      <th>2</th>\n",
       "      <td>3</td>\n",
       "      <td>133</td>\n",
       "      <td>5</td>\n",
       "      <td>12</td>\n",
       "      <td>14</td>\n",
       "      <td>22291.0</td>\n",
       "      <td>0</td>\n",
       "      <td>0.0</td>\n",
       "      <td>146.6</td>\n",
       "      <td>0.082353</td>\n",
       "      <td>...</td>\n",
       "      <td>0.235325</td>\n",
       "      <td>0.060870</td>\n",
       "      <td>11.988616</td>\n",
       "      <td>2</td>\n",
       "      <td>0</td>\n",
       "      <td>1</td>\n",
       "      <td>32</td>\n",
       "      <td>30</td>\n",
       "      <td>127</td>\n",
       "      <td>102</td>\n",
       "    </tr>\n",
       "    <tr>\n",
       "      <th>3</th>\n",
       "      <td>4</td>\n",
       "      <td>55</td>\n",
       "      <td>1</td>\n",
       "      <td>10</td>\n",
       "      <td>8</td>\n",
       "      <td>13234.0</td>\n",
       "      <td>0</td>\n",
       "      <td>0.2</td>\n",
       "      <td>135.8</td>\n",
       "      <td>0.012903</td>\n",
       "      <td>...</td>\n",
       "      <td>0.143748</td>\n",
       "      <td>0.074766</td>\n",
       "      <td>62.988750</td>\n",
       "      <td>4</td>\n",
       "      <td>0</td>\n",
       "      <td>8</td>\n",
       "      <td>22</td>\n",
       "      <td>35</td>\n",
       "      <td>53</td>\n",
       "      <td>49</td>\n",
       "    </tr>\n",
       "    <tr>\n",
       "      <th>4</th>\n",
       "      <td>5</td>\n",
       "      <td>101</td>\n",
       "      <td>3</td>\n",
       "      <td>14</td>\n",
       "      <td>20</td>\n",
       "      <td>29454.0</td>\n",
       "      <td>0</td>\n",
       "      <td>0.2</td>\n",
       "      <td>128.4</td>\n",
       "      <td>0.028571</td>\n",
       "      <td>...</td>\n",
       "      <td>0.118816</td>\n",
       "      <td>0.084034</td>\n",
       "      <td>33.164074</td>\n",
       "      <td>4</td>\n",
       "      <td>0</td>\n",
       "      <td>3</td>\n",
       "      <td>44</td>\n",
       "      <td>62</td>\n",
       "      <td>97</td>\n",
       "      <td>68</td>\n",
       "    </tr>\n",
       "    <tr>\n",
       "      <th>...</th>\n",
       "      <td>...</td>\n",
       "      <td>...</td>\n",
       "      <td>...</td>\n",
       "      <td>...</td>\n",
       "      <td>...</td>\n",
       "      <td>...</td>\n",
       "      <td>...</td>\n",
       "      <td>...</td>\n",
       "      <td>...</td>\n",
       "      <td>...</td>\n",
       "      <td>...</td>\n",
       "      <td>...</td>\n",
       "      <td>...</td>\n",
       "      <td>...</td>\n",
       "      <td>...</td>\n",
       "      <td>...</td>\n",
       "      <td>...</td>\n",
       "      <td>...</td>\n",
       "      <td>...</td>\n",
       "      <td>...</td>\n",
       "      <td>...</td>\n",
       "    </tr>\n",
       "    <tr>\n",
       "      <th>13584</th>\n",
       "      <td>13585</td>\n",
       "      <td>104</td>\n",
       "      <td>10</td>\n",
       "      <td>19</td>\n",
       "      <td>12</td>\n",
       "      <td>27237.0</td>\n",
       "      <td>0</td>\n",
       "      <td>0.0</td>\n",
       "      <td>134.8</td>\n",
       "      <td>0.000000</td>\n",
       "      <td>...</td>\n",
       "      <td>0.119008</td>\n",
       "      <td>0.048387</td>\n",
       "      <td>5.354552</td>\n",
       "      <td>3</td>\n",
       "      <td>0</td>\n",
       "      <td>2</td>\n",
       "      <td>42</td>\n",
       "      <td>20</td>\n",
       "      <td>103</td>\n",
       "      <td>76</td>\n",
       "    </tr>\n",
       "    <tr>\n",
       "      <th>13585</th>\n",
       "      <td>13586</td>\n",
       "      <td>121</td>\n",
       "      <td>5</td>\n",
       "      <td>10</td>\n",
       "      <td>16</td>\n",
       "      <td>38920.0</td>\n",
       "      <td>0</td>\n",
       "      <td>0.4</td>\n",
       "      <td>89.8</td>\n",
       "      <td>0.228986</td>\n",
       "      <td>...</td>\n",
       "      <td>0.108392</td>\n",
       "      <td>0.051447</td>\n",
       "      <td>14.133672</td>\n",
       "      <td>3</td>\n",
       "      <td>0</td>\n",
       "      <td>1</td>\n",
       "      <td>50</td>\n",
       "      <td>88</td>\n",
       "      <td>128</td>\n",
       "      <td>81</td>\n",
       "    </tr>\n",
       "    <tr>\n",
       "      <th>13586</th>\n",
       "      <td>13587</td>\n",
       "      <td>110</td>\n",
       "      <td>3</td>\n",
       "      <td>3</td>\n",
       "      <td>0</td>\n",
       "      <td>2195.0</td>\n",
       "      <td>0</td>\n",
       "      <td>0.4</td>\n",
       "      <td>120.4</td>\n",
       "      <td>0.090182</td>\n",
       "      <td>...</td>\n",
       "      <td>0.228793</td>\n",
       "      <td>0.000000</td>\n",
       "      <td>97.124892</td>\n",
       "      <td>2</td>\n",
       "      <td>0</td>\n",
       "      <td>0</td>\n",
       "      <td>1</td>\n",
       "      <td>5</td>\n",
       "      <td>14</td>\n",
       "      <td>4</td>\n",
       "    </tr>\n",
       "    <tr>\n",
       "      <th>13587</th>\n",
       "      <td>13588</td>\n",
       "      <td>27</td>\n",
       "      <td>1</td>\n",
       "      <td>2</td>\n",
       "      <td>0</td>\n",
       "      <td>2118.0</td>\n",
       "      <td>1</td>\n",
       "      <td>1.0</td>\n",
       "      <td>109.0</td>\n",
       "      <td>0.175817</td>\n",
       "      <td>...</td>\n",
       "      <td>0.441202</td>\n",
       "      <td>0.000000</td>\n",
       "      <td>23.642308</td>\n",
       "      <td>2</td>\n",
       "      <td>0</td>\n",
       "      <td>0</td>\n",
       "      <td>0</td>\n",
       "      <td>7</td>\n",
       "      <td>27</td>\n",
       "      <td>27</td>\n",
       "    </tr>\n",
       "    <tr>\n",
       "      <th>13588</th>\n",
       "      <td>13589</td>\n",
       "      <td>18</td>\n",
       "      <td>2</td>\n",
       "      <td>2</td>\n",
       "      <td>0</td>\n",
       "      <td>1403.0</td>\n",
       "      <td>0</td>\n",
       "      <td>0.6</td>\n",
       "      <td>88.4</td>\n",
       "      <td>0.179583</td>\n",
       "      <td>...</td>\n",
       "      <td>0.421839</td>\n",
       "      <td>0.000000</td>\n",
       "      <td>122.194338</td>\n",
       "      <td>2</td>\n",
       "      <td>0</td>\n",
       "      <td>0</td>\n",
       "      <td>2</td>\n",
       "      <td>3</td>\n",
       "      <td>17</td>\n",
       "      <td>17</td>\n",
       "    </tr>\n",
       "  </tbody>\n",
       "</table>\n",
       "<p>13589 rows × 27 columns</p>\n",
       "</div>"
      ],
      "text/plain": [
       "       user_id  max_level  last_try_num  max_try_num  help_num  all_time  \\\n",
       "0            1        103            22           28         8   38860.0   \n",
       "1            2        145            12           12        20   20190.0   \n",
       "2            3        133             5           12        14   22291.0   \n",
       "3            4         55             1           10         8   13234.0   \n",
       "4            5        101             3           14        20   29454.0   \n",
       "...        ...        ...           ...          ...       ...       ...   \n",
       "13584    13585        104            10           19        12   27237.0   \n",
       "13585    13586        121             5           10        16   38920.0   \n",
       "13586    13587        110             3            3         0    2195.0   \n",
       "13587    13588         27             1            2         0    2118.0   \n",
       "13588    13589         18             2            2         0    1403.0   \n",
       "\n",
       "       last_past_or_not  average_f_success_5  average_f_duration_5  \\\n",
       "0                     0                  0.0                 117.2   \n",
       "1                     0                  0.0                  82.4   \n",
       "2                     0                  0.0                 146.6   \n",
       "3                     0                  0.2                 135.8   \n",
       "4                     0                  0.2                 128.4   \n",
       "...                 ...                  ...                   ...   \n",
       "13584                 0                  0.0                 134.8   \n",
       "13585                 0                  0.4                  89.8   \n",
       "13586                 0                  0.4                 120.4   \n",
       "13587                 1                  1.0                 109.0   \n",
       "13588                 0                  0.6                  88.4   \n",
       "\n",
       "       average_f_reststep_5  ...  average_f_reststep_all  average_f_help_all  \\\n",
       "0                  0.000000  ...                0.060526            0.020253   \n",
       "1                  0.306667  ...                0.150546            0.084388   \n",
       "2                  0.082353  ...                0.235325            0.060870   \n",
       "3                  0.012903  ...                0.143748            0.074766   \n",
       "4                  0.028571  ...                0.118816            0.084034   \n",
       "...                     ...  ...                     ...                 ...   \n",
       "13584              0.000000  ...                0.119008            0.048387   \n",
       "13585              0.228986  ...                0.108392            0.051447   \n",
       "13586              0.090182  ...                0.228793            0.000000   \n",
       "13587              0.175817  ...                0.441202            0.000000   \n",
       "13588              0.179583  ...                0.421839            0.000000   \n",
       "\n",
       "       average_time_gap  sign_in_day_num  average_time_per_day  patience_idx1  \\\n",
       "0             21.759966                4                     0              4   \n",
       "1             18.038673                4                     0              0   \n",
       "2             11.988616                2                     0              1   \n",
       "3             62.988750                4                     0              8   \n",
       "4             33.164074                4                     0              3   \n",
       "...                 ...              ...                   ...            ...   \n",
       "13584          5.354552                3                     0              2   \n",
       "13585         14.133672                3                     0              1   \n",
       "13586         97.124892                2                     0              0   \n",
       "13587         23.642308                2                     0              0   \n",
       "13588        122.194338                2                     0              0   \n",
       "\n",
       "       patience_idx2  ability_idx1  ability_idx2  ability_idx3  \n",
       "0                 67            28           102            58  \n",
       "1                 36            10           106            78  \n",
       "2                 32            30           127           102  \n",
       "3                 22            35            53            49  \n",
       "4                 44            62            97            68  \n",
       "...              ...           ...           ...           ...  \n",
       "13584             42            20           103            76  \n",
       "13585             50            88           128            81  \n",
       "13586              1             5            14             4  \n",
       "13587              0             7            27            27  \n",
       "13588              2             3            17            17  \n",
       "\n",
       "[13589 rows x 27 columns]"
      ]
     },
     "execution_count": 569,
     "metadata": {},
     "output_type": "execute_result"
    }
   ],
   "source": [
    "char_df"
   ]
  },
  {
   "cell_type": "code",
   "execution_count": 570,
   "metadata": {},
   "outputs": [],
   "source": [
    "char_df.to_csv('char_df.csv', index=False)"
   ]
  },
  {
   "cell_type": "code",
   "execution_count": 571,
   "metadata": {
    "scrolled": true
   },
   "outputs": [
    {
     "data": {
      "text/html": [
       "<div>\n",
       "<style scoped>\n",
       "    .dataframe tbody tr th:only-of-type {\n",
       "        vertical-align: middle;\n",
       "    }\n",
       "\n",
       "    .dataframe tbody tr th {\n",
       "        vertical-align: top;\n",
       "    }\n",
       "\n",
       "    .dataframe thead th {\n",
       "        text-align: right;\n",
       "    }\n",
       "</style>\n",
       "<table border=\"1\" class=\"dataframe\">\n",
       "  <thead>\n",
       "    <tr style=\"text-align: right;\">\n",
       "      <th></th>\n",
       "      <th>user_id</th>\n",
       "      <th>max_level</th>\n",
       "      <th>last_try_num</th>\n",
       "      <th>max_try_num</th>\n",
       "      <th>help_num</th>\n",
       "      <th>all_time</th>\n",
       "      <th>last_past_or_not</th>\n",
       "      <th>average_f_success_5</th>\n",
       "      <th>average_f_duration_5</th>\n",
       "      <th>average_f_reststep_5</th>\n",
       "      <th>...</th>\n",
       "      <th>average_f_reststep_all</th>\n",
       "      <th>average_f_help_all</th>\n",
       "      <th>average_time_gap</th>\n",
       "      <th>sign_in_day_num</th>\n",
       "      <th>average_time_per_day</th>\n",
       "      <th>patience_idx1</th>\n",
       "      <th>patience_idx2</th>\n",
       "      <th>ability_idx1</th>\n",
       "      <th>ability_idx2</th>\n",
       "      <th>ability_idx3</th>\n",
       "    </tr>\n",
       "  </thead>\n",
       "  <tbody>\n",
       "    <tr>\n",
       "      <th>count</th>\n",
       "      <td>13589.000000</td>\n",
       "      <td>13589.000000</td>\n",
       "      <td>13589.000000</td>\n",
       "      <td>13589.000000</td>\n",
       "      <td>13589.000000</td>\n",
       "      <td>13589.000000</td>\n",
       "      <td>13589.000000</td>\n",
       "      <td>13589.000000</td>\n",
       "      <td>13589.000000</td>\n",
       "      <td>13589.000000</td>\n",
       "      <td>...</td>\n",
       "      <td>13589.000000</td>\n",
       "      <td>13589.000000</td>\n",
       "      <td>13589.000000</td>\n",
       "      <td>13589.000000</td>\n",
       "      <td>13589.0</td>\n",
       "      <td>13589.000000</td>\n",
       "      <td>13589.000000</td>\n",
       "      <td>13589.000000</td>\n",
       "      <td>13589.000000</td>\n",
       "      <td>13589.000000</td>\n",
       "    </tr>\n",
       "    <tr>\n",
       "      <th>mean</th>\n",
       "      <td>6795.000000</td>\n",
       "      <td>92.673265</td>\n",
       "      <td>2.943263</td>\n",
       "      <td>8.820664</td>\n",
       "      <td>7.130252</td>\n",
       "      <td>17459.662668</td>\n",
       "      <td>0.342630</td>\n",
       "      <td>0.462769</td>\n",
       "      <td>117.414823</td>\n",
       "      <td>0.147651</td>\n",
       "      <td>...</td>\n",
       "      <td>0.248395</td>\n",
       "      <td>0.044088</td>\n",
       "      <td>20.535126</td>\n",
       "      <td>3.185738</td>\n",
       "      <td>0.0</td>\n",
       "      <td>2.761498</td>\n",
       "      <td>21.565457</td>\n",
       "      <td>30.981603</td>\n",
       "      <td>77.059239</td>\n",
       "      <td>57.592464</td>\n",
       "    </tr>\n",
       "    <tr>\n",
       "      <th>std</th>\n",
       "      <td>3922.950739</td>\n",
       "      <td>82.300501</td>\n",
       "      <td>3.765198</td>\n",
       "      <td>16.966460</td>\n",
       "      <td>11.537920</td>\n",
       "      <td>19144.372900</td>\n",
       "      <td>0.474606</td>\n",
       "      <td>0.322445</td>\n",
       "      <td>38.933120</td>\n",
       "      <td>0.159826</td>\n",
       "      <td>...</td>\n",
       "      <td>0.130065</td>\n",
       "      <td>0.039973</td>\n",
       "      <td>143.418764</td>\n",
       "      <td>0.848000</td>\n",
       "      <td>0.0</td>\n",
       "      <td>5.288373</td>\n",
       "      <td>20.470602</td>\n",
       "      <td>36.500962</td>\n",
       "      <td>54.286366</td>\n",
       "      <td>29.458946</td>\n",
       "    </tr>\n",
       "    <tr>\n",
       "      <th>min</th>\n",
       "      <td>1.000000</td>\n",
       "      <td>1.000000</td>\n",
       "      <td>1.000000</td>\n",
       "      <td>1.000000</td>\n",
       "      <td>0.000000</td>\n",
       "      <td>9.000000</td>\n",
       "      <td>0.000000</td>\n",
       "      <td>0.000000</td>\n",
       "      <td>3.600000</td>\n",
       "      <td>0.000000</td>\n",
       "      <td>...</td>\n",
       "      <td>0.026156</td>\n",
       "      <td>0.000000</td>\n",
       "      <td>0.000000</td>\n",
       "      <td>2.000000</td>\n",
       "      <td>0.0</td>\n",
       "      <td>0.000000</td>\n",
       "      <td>0.000000</td>\n",
       "      <td>0.000000</td>\n",
       "      <td>0.000000</td>\n",
       "      <td>0.000000</td>\n",
       "    </tr>\n",
       "    <tr>\n",
       "      <th>25%</th>\n",
       "      <td>3398.000000</td>\n",
       "      <td>38.000000</td>\n",
       "      <td>1.000000</td>\n",
       "      <td>3.000000</td>\n",
       "      <td>1.000000</td>\n",
       "      <td>4333.000000</td>\n",
       "      <td>0.000000</td>\n",
       "      <td>0.200000</td>\n",
       "      <td>91.600000</td>\n",
       "      <td>0.027273</td>\n",
       "      <td>...</td>\n",
       "      <td>0.150864</td>\n",
       "      <td>0.013423</td>\n",
       "      <td>4.506435</td>\n",
       "      <td>2.000000</td>\n",
       "      <td>0.0</td>\n",
       "      <td>0.000000</td>\n",
       "      <td>5.000000</td>\n",
       "      <td>10.000000</td>\n",
       "      <td>33.000000</td>\n",
       "      <td>33.000000</td>\n",
       "    </tr>\n",
       "    <tr>\n",
       "      <th>50%</th>\n",
       "      <td>6795.000000</td>\n",
       "      <td>76.000000</td>\n",
       "      <td>2.000000</td>\n",
       "      <td>6.000000</td>\n",
       "      <td>5.000000</td>\n",
       "      <td>11848.000000</td>\n",
       "      <td>0.000000</td>\n",
       "      <td>0.400000</td>\n",
       "      <td>111.800000</td>\n",
       "      <td>0.095238</td>\n",
       "      <td>...</td>\n",
       "      <td>0.220898</td>\n",
       "      <td>0.038462</td>\n",
       "      <td>8.981582</td>\n",
       "      <td>3.000000</td>\n",
       "      <td>0.0</td>\n",
       "      <td>2.000000</td>\n",
       "      <td>16.000000</td>\n",
       "      <td>21.000000</td>\n",
       "      <td>69.000000</td>\n",
       "      <td>63.000000</td>\n",
       "    </tr>\n",
       "    <tr>\n",
       "      <th>75%</th>\n",
       "      <td>10192.000000</td>\n",
       "      <td>133.000000</td>\n",
       "      <td>4.000000</td>\n",
       "      <td>10.000000</td>\n",
       "      <td>11.000000</td>\n",
       "      <td>24334.000000</td>\n",
       "      <td>1.000000</td>\n",
       "      <td>0.800000</td>\n",
       "      <td>137.200000</td>\n",
       "      <td>0.215343</td>\n",
       "      <td>...</td>\n",
       "      <td>0.319171</td>\n",
       "      <td>0.065217</td>\n",
       "      <td>16.173304</td>\n",
       "      <td>4.000000</td>\n",
       "      <td>0.0</td>\n",
       "      <td>4.000000</td>\n",
       "      <td>33.000000</td>\n",
       "      <td>42.000000</td>\n",
       "      <td>113.000000</td>\n",
       "      <td>82.000000</td>\n",
       "    </tr>\n",
       "    <tr>\n",
       "      <th>max</th>\n",
       "      <td>13589.000000</td>\n",
       "      <td>1508.000000</td>\n",
       "      <td>98.000000</td>\n",
       "      <td>937.000000</td>\n",
       "      <td>650.000000</td>\n",
       "      <td>534421.000000</td>\n",
       "      <td>1.000000</td>\n",
       "      <td>1.000000</td>\n",
       "      <td>554.000000</td>\n",
       "      <td>1.000000</td>\n",
       "      <td>...</td>\n",
       "      <td>1.000000</td>\n",
       "      <td>0.796875</td>\n",
       "      <td>5114.800000</td>\n",
       "      <td>4.000000</td>\n",
       "      <td>0.0</td>\n",
       "      <td>366.000000</td>\n",
       "      <td>168.000000</td>\n",
       "      <td>2199.000000</td>\n",
       "      <td>782.000000</td>\n",
       "      <td>132.000000</td>\n",
       "    </tr>\n",
       "  </tbody>\n",
       "</table>\n",
       "<p>8 rows × 27 columns</p>\n",
       "</div>"
      ],
      "text/plain": [
       "            user_id     max_level  last_try_num   max_try_num      help_num  \\\n",
       "count  13589.000000  13589.000000  13589.000000  13589.000000  13589.000000   \n",
       "mean    6795.000000     92.673265      2.943263      8.820664      7.130252   \n",
       "std     3922.950739     82.300501      3.765198     16.966460     11.537920   \n",
       "min        1.000000      1.000000      1.000000      1.000000      0.000000   \n",
       "25%     3398.000000     38.000000      1.000000      3.000000      1.000000   \n",
       "50%     6795.000000     76.000000      2.000000      6.000000      5.000000   \n",
       "75%    10192.000000    133.000000      4.000000     10.000000     11.000000   \n",
       "max    13589.000000   1508.000000     98.000000    937.000000    650.000000   \n",
       "\n",
       "            all_time  last_past_or_not  average_f_success_5  \\\n",
       "count   13589.000000      13589.000000         13589.000000   \n",
       "mean    17459.662668          0.342630             0.462769   \n",
       "std     19144.372900          0.474606             0.322445   \n",
       "min         9.000000          0.000000             0.000000   \n",
       "25%      4333.000000          0.000000             0.200000   \n",
       "50%     11848.000000          0.000000             0.400000   \n",
       "75%     24334.000000          1.000000             0.800000   \n",
       "max    534421.000000          1.000000             1.000000   \n",
       "\n",
       "       average_f_duration_5  average_f_reststep_5  ...  \\\n",
       "count          13589.000000          13589.000000  ...   \n",
       "mean             117.414823              0.147651  ...   \n",
       "std               38.933120              0.159826  ...   \n",
       "min                3.600000              0.000000  ...   \n",
       "25%               91.600000              0.027273  ...   \n",
       "50%              111.800000              0.095238  ...   \n",
       "75%              137.200000              0.215343  ...   \n",
       "max              554.000000              1.000000  ...   \n",
       "\n",
       "       average_f_reststep_all  average_f_help_all  average_time_gap  \\\n",
       "count            13589.000000        13589.000000      13589.000000   \n",
       "mean                 0.248395            0.044088         20.535126   \n",
       "std                  0.130065            0.039973        143.418764   \n",
       "min                  0.026156            0.000000          0.000000   \n",
       "25%                  0.150864            0.013423          4.506435   \n",
       "50%                  0.220898            0.038462          8.981582   \n",
       "75%                  0.319171            0.065217         16.173304   \n",
       "max                  1.000000            0.796875       5114.800000   \n",
       "\n",
       "       sign_in_day_num  average_time_per_day  patience_idx1  patience_idx2  \\\n",
       "count     13589.000000               13589.0   13589.000000   13589.000000   \n",
       "mean          3.185738                   0.0       2.761498      21.565457   \n",
       "std           0.848000                   0.0       5.288373      20.470602   \n",
       "min           2.000000                   0.0       0.000000       0.000000   \n",
       "25%           2.000000                   0.0       0.000000       5.000000   \n",
       "50%           3.000000                   0.0       2.000000      16.000000   \n",
       "75%           4.000000                   0.0       4.000000      33.000000   \n",
       "max           4.000000                   0.0     366.000000     168.000000   \n",
       "\n",
       "       ability_idx1  ability_idx2  ability_idx3  \n",
       "count  13589.000000  13589.000000  13589.000000  \n",
       "mean      30.981603     77.059239     57.592464  \n",
       "std       36.500962     54.286366     29.458946  \n",
       "min        0.000000      0.000000      0.000000  \n",
       "25%       10.000000     33.000000     33.000000  \n",
       "50%       21.000000     69.000000     63.000000  \n",
       "75%       42.000000    113.000000     82.000000  \n",
       "max     2199.000000    782.000000    132.000000  \n",
       "\n",
       "[8 rows x 27 columns]"
      ]
     },
     "execution_count": 571,
     "metadata": {},
     "output_type": "execute_result"
    }
   ],
   "source": [
    "char_df.describe()"
   ]
  },
  {
   "cell_type": "code",
   "execution_count": 572,
   "metadata": {
    "scrolled": true
   },
   "outputs": [
    {
     "data": {
      "text/html": [
       "<div>\n",
       "<style scoped>\n",
       "    .dataframe tbody tr th:only-of-type {\n",
       "        vertical-align: middle;\n",
       "    }\n",
       "\n",
       "    .dataframe tbody tr th {\n",
       "        vertical-align: top;\n",
       "    }\n",
       "\n",
       "    .dataframe thead th {\n",
       "        text-align: right;\n",
       "    }\n",
       "</style>\n",
       "<table border=\"1\" class=\"dataframe\">\n",
       "  <thead>\n",
       "    <tr style=\"text-align: right;\">\n",
       "      <th></th>\n",
       "      <th>user_id</th>\n",
       "      <th>max_level</th>\n",
       "      <th>last_try_num</th>\n",
       "      <th>max_try_num</th>\n",
       "      <th>help_num</th>\n",
       "      <th>all_time</th>\n",
       "      <th>last_past_or_not</th>\n",
       "      <th>average_f_success_5</th>\n",
       "      <th>average_f_duration_5</th>\n",
       "      <th>average_f_reststep_5</th>\n",
       "      <th>...</th>\n",
       "      <th>average_f_reststep_all</th>\n",
       "      <th>average_f_help_all</th>\n",
       "      <th>average_time_gap</th>\n",
       "      <th>sign_in_day_num</th>\n",
       "      <th>average_time_per_day</th>\n",
       "      <th>patience_idx1</th>\n",
       "      <th>patience_idx2</th>\n",
       "      <th>ability_idx1</th>\n",
       "      <th>ability_idx2</th>\n",
       "      <th>ability_idx3</th>\n",
       "    </tr>\n",
       "  </thead>\n",
       "  <tbody>\n",
       "    <tr>\n",
       "      <th>0</th>\n",
       "      <td>1</td>\n",
       "      <td>0.067684</td>\n",
       "      <td>0.216495</td>\n",
       "      <td>0.028846</td>\n",
       "      <td>0.012308</td>\n",
       "      <td>0.072699</td>\n",
       "      <td>0.0</td>\n",
       "      <td>0.0</td>\n",
       "      <td>0.206395</td>\n",
       "      <td>0.000000</td>\n",
       "      <td>...</td>\n",
       "      <td>0.035293</td>\n",
       "      <td>0.025416</td>\n",
       "      <td>0.004254</td>\n",
       "      <td>1.0</td>\n",
       "      <td>0.0</td>\n",
       "      <td>0.010929</td>\n",
       "      <td>0.398810</td>\n",
       "      <td>0.012733</td>\n",
       "      <td>0.130435</td>\n",
       "      <td>0.439394</td>\n",
       "    </tr>\n",
       "    <tr>\n",
       "      <th>1</th>\n",
       "      <td>2</td>\n",
       "      <td>0.095554</td>\n",
       "      <td>0.113402</td>\n",
       "      <td>0.011752</td>\n",
       "      <td>0.030769</td>\n",
       "      <td>0.037763</td>\n",
       "      <td>0.0</td>\n",
       "      <td>0.0</td>\n",
       "      <td>0.143169</td>\n",
       "      <td>0.306667</td>\n",
       "      <td>...</td>\n",
       "      <td>0.127731</td>\n",
       "      <td>0.105899</td>\n",
       "      <td>0.003527</td>\n",
       "      <td>1.0</td>\n",
       "      <td>0.0</td>\n",
       "      <td>0.000000</td>\n",
       "      <td>0.214286</td>\n",
       "      <td>0.004548</td>\n",
       "      <td>0.135550</td>\n",
       "      <td>0.590909</td>\n",
       "    </tr>\n",
       "    <tr>\n",
       "      <th>2</th>\n",
       "      <td>3</td>\n",
       "      <td>0.087591</td>\n",
       "      <td>0.041237</td>\n",
       "      <td>0.011752</td>\n",
       "      <td>0.021538</td>\n",
       "      <td>0.041694</td>\n",
       "      <td>0.0</td>\n",
       "      <td>0.0</td>\n",
       "      <td>0.259811</td>\n",
       "      <td>0.082353</td>\n",
       "      <td>...</td>\n",
       "      <td>0.214787</td>\n",
       "      <td>0.076385</td>\n",
       "      <td>0.002344</td>\n",
       "      <td>0.0</td>\n",
       "      <td>0.0</td>\n",
       "      <td>0.002732</td>\n",
       "      <td>0.190476</td>\n",
       "      <td>0.013643</td>\n",
       "      <td>0.162404</td>\n",
       "      <td>0.772727</td>\n",
       "    </tr>\n",
       "    <tr>\n",
       "      <th>3</th>\n",
       "      <td>4</td>\n",
       "      <td>0.035833</td>\n",
       "      <td>0.000000</td>\n",
       "      <td>0.009615</td>\n",
       "      <td>0.012308</td>\n",
       "      <td>0.024747</td>\n",
       "      <td>0.0</td>\n",
       "      <td>0.2</td>\n",
       "      <td>0.240189</td>\n",
       "      <td>0.012903</td>\n",
       "      <td>...</td>\n",
       "      <td>0.120750</td>\n",
       "      <td>0.093824</td>\n",
       "      <td>0.012315</td>\n",
       "      <td>1.0</td>\n",
       "      <td>0.0</td>\n",
       "      <td>0.021858</td>\n",
       "      <td>0.130952</td>\n",
       "      <td>0.015916</td>\n",
       "      <td>0.067775</td>\n",
       "      <td>0.371212</td>\n",
       "    </tr>\n",
       "    <tr>\n",
       "      <th>4</th>\n",
       "      <td>5</td>\n",
       "      <td>0.066357</td>\n",
       "      <td>0.020619</td>\n",
       "      <td>0.013889</td>\n",
       "      <td>0.030769</td>\n",
       "      <td>0.055098</td>\n",
       "      <td>0.0</td>\n",
       "      <td>0.2</td>\n",
       "      <td>0.226744</td>\n",
       "      <td>0.028571</td>\n",
       "      <td>...</td>\n",
       "      <td>0.095148</td>\n",
       "      <td>0.105454</td>\n",
       "      <td>0.006484</td>\n",
       "      <td>1.0</td>\n",
       "      <td>0.0</td>\n",
       "      <td>0.008197</td>\n",
       "      <td>0.261905</td>\n",
       "      <td>0.028195</td>\n",
       "      <td>0.124041</td>\n",
       "      <td>0.515152</td>\n",
       "    </tr>\n",
       "    <tr>\n",
       "      <th>...</th>\n",
       "      <td>...</td>\n",
       "      <td>...</td>\n",
       "      <td>...</td>\n",
       "      <td>...</td>\n",
       "      <td>...</td>\n",
       "      <td>...</td>\n",
       "      <td>...</td>\n",
       "      <td>...</td>\n",
       "      <td>...</td>\n",
       "      <td>...</td>\n",
       "      <td>...</td>\n",
       "      <td>...</td>\n",
       "      <td>...</td>\n",
       "      <td>...</td>\n",
       "      <td>...</td>\n",
       "      <td>...</td>\n",
       "      <td>...</td>\n",
       "      <td>...</td>\n",
       "      <td>...</td>\n",
       "      <td>...</td>\n",
       "      <td>...</td>\n",
       "    </tr>\n",
       "    <tr>\n",
       "      <th>13584</th>\n",
       "      <td>13585</td>\n",
       "      <td>0.068348</td>\n",
       "      <td>0.092784</td>\n",
       "      <td>0.019231</td>\n",
       "      <td>0.018462</td>\n",
       "      <td>0.050949</td>\n",
       "      <td>0.0</td>\n",
       "      <td>0.0</td>\n",
       "      <td>0.238372</td>\n",
       "      <td>0.000000</td>\n",
       "      <td>...</td>\n",
       "      <td>0.095345</td>\n",
       "      <td>0.060721</td>\n",
       "      <td>0.001047</td>\n",
       "      <td>0.5</td>\n",
       "      <td>0.0</td>\n",
       "      <td>0.005464</td>\n",
       "      <td>0.250000</td>\n",
       "      <td>0.009095</td>\n",
       "      <td>0.131714</td>\n",
       "      <td>0.575758</td>\n",
       "    </tr>\n",
       "    <tr>\n",
       "      <th>13585</th>\n",
       "      <td>13586</td>\n",
       "      <td>0.079628</td>\n",
       "      <td>0.041237</td>\n",
       "      <td>0.009615</td>\n",
       "      <td>0.024615</td>\n",
       "      <td>0.072811</td>\n",
       "      <td>0.0</td>\n",
       "      <td>0.4</td>\n",
       "      <td>0.156613</td>\n",
       "      <td>0.228986</td>\n",
       "      <td>...</td>\n",
       "      <td>0.084445</td>\n",
       "      <td>0.064561</td>\n",
       "      <td>0.002763</td>\n",
       "      <td>0.5</td>\n",
       "      <td>0.0</td>\n",
       "      <td>0.002732</td>\n",
       "      <td>0.297619</td>\n",
       "      <td>0.040018</td>\n",
       "      <td>0.163683</td>\n",
       "      <td>0.613636</td>\n",
       "    </tr>\n",
       "    <tr>\n",
       "      <th>13586</th>\n",
       "      <td>13587</td>\n",
       "      <td>0.072329</td>\n",
       "      <td>0.020619</td>\n",
       "      <td>0.002137</td>\n",
       "      <td>0.000000</td>\n",
       "      <td>0.004090</td>\n",
       "      <td>0.0</td>\n",
       "      <td>0.4</td>\n",
       "      <td>0.212209</td>\n",
       "      <td>0.090182</td>\n",
       "      <td>...</td>\n",
       "      <td>0.208079</td>\n",
       "      <td>0.000000</td>\n",
       "      <td>0.018989</td>\n",
       "      <td>0.0</td>\n",
       "      <td>0.0</td>\n",
       "      <td>0.000000</td>\n",
       "      <td>0.005952</td>\n",
       "      <td>0.002274</td>\n",
       "      <td>0.017903</td>\n",
       "      <td>0.030303</td>\n",
       "    </tr>\n",
       "    <tr>\n",
       "      <th>13587</th>\n",
       "      <td>13588</td>\n",
       "      <td>0.017253</td>\n",
       "      <td>0.000000</td>\n",
       "      <td>0.001068</td>\n",
       "      <td>0.000000</td>\n",
       "      <td>0.003946</td>\n",
       "      <td>1.0</td>\n",
       "      <td>1.0</td>\n",
       "      <td>0.191497</td>\n",
       "      <td>0.175817</td>\n",
       "      <td>...</td>\n",
       "      <td>0.426193</td>\n",
       "      <td>0.000000</td>\n",
       "      <td>0.004622</td>\n",
       "      <td>0.0</td>\n",
       "      <td>0.0</td>\n",
       "      <td>0.000000</td>\n",
       "      <td>0.000000</td>\n",
       "      <td>0.003183</td>\n",
       "      <td>0.034527</td>\n",
       "      <td>0.204545</td>\n",
       "    </tr>\n",
       "    <tr>\n",
       "      <th>13588</th>\n",
       "      <td>13589</td>\n",
       "      <td>0.011281</td>\n",
       "      <td>0.010309</td>\n",
       "      <td>0.001068</td>\n",
       "      <td>0.000000</td>\n",
       "      <td>0.002608</td>\n",
       "      <td>0.0</td>\n",
       "      <td>0.6</td>\n",
       "      <td>0.154070</td>\n",
       "      <td>0.179583</td>\n",
       "      <td>...</td>\n",
       "      <td>0.406310</td>\n",
       "      <td>0.000000</td>\n",
       "      <td>0.023890</td>\n",
       "      <td>0.0</td>\n",
       "      <td>0.0</td>\n",
       "      <td>0.000000</td>\n",
       "      <td>0.011905</td>\n",
       "      <td>0.001364</td>\n",
       "      <td>0.021739</td>\n",
       "      <td>0.128788</td>\n",
       "    </tr>\n",
       "  </tbody>\n",
       "</table>\n",
       "<p>13589 rows × 27 columns</p>\n",
       "</div>"
      ],
      "text/plain": [
       "       user_id  max_level  last_try_num  max_try_num  help_num  all_time  \\\n",
       "0            1   0.067684      0.216495     0.028846  0.012308  0.072699   \n",
       "1            2   0.095554      0.113402     0.011752  0.030769  0.037763   \n",
       "2            3   0.087591      0.041237     0.011752  0.021538  0.041694   \n",
       "3            4   0.035833      0.000000     0.009615  0.012308  0.024747   \n",
       "4            5   0.066357      0.020619     0.013889  0.030769  0.055098   \n",
       "...        ...        ...           ...          ...       ...       ...   \n",
       "13584    13585   0.068348      0.092784     0.019231  0.018462  0.050949   \n",
       "13585    13586   0.079628      0.041237     0.009615  0.024615  0.072811   \n",
       "13586    13587   0.072329      0.020619     0.002137  0.000000  0.004090   \n",
       "13587    13588   0.017253      0.000000     0.001068  0.000000  0.003946   \n",
       "13588    13589   0.011281      0.010309     0.001068  0.000000  0.002608   \n",
       "\n",
       "       last_past_or_not  average_f_success_5  average_f_duration_5  \\\n",
       "0                   0.0                  0.0              0.206395   \n",
       "1                   0.0                  0.0              0.143169   \n",
       "2                   0.0                  0.0              0.259811   \n",
       "3                   0.0                  0.2              0.240189   \n",
       "4                   0.0                  0.2              0.226744   \n",
       "...                 ...                  ...                   ...   \n",
       "13584               0.0                  0.0              0.238372   \n",
       "13585               0.0                  0.4              0.156613   \n",
       "13586               0.0                  0.4              0.212209   \n",
       "13587               1.0                  1.0              0.191497   \n",
       "13588               0.0                  0.6              0.154070   \n",
       "\n",
       "       average_f_reststep_5  ...  average_f_reststep_all  average_f_help_all  \\\n",
       "0                  0.000000  ...                0.035293            0.025416   \n",
       "1                  0.306667  ...                0.127731            0.105899   \n",
       "2                  0.082353  ...                0.214787            0.076385   \n",
       "3                  0.012903  ...                0.120750            0.093824   \n",
       "4                  0.028571  ...                0.095148            0.105454   \n",
       "...                     ...  ...                     ...                 ...   \n",
       "13584              0.000000  ...                0.095345            0.060721   \n",
       "13585              0.228986  ...                0.084445            0.064561   \n",
       "13586              0.090182  ...                0.208079            0.000000   \n",
       "13587              0.175817  ...                0.426193            0.000000   \n",
       "13588              0.179583  ...                0.406310            0.000000   \n",
       "\n",
       "       average_time_gap  sign_in_day_num  average_time_per_day  patience_idx1  \\\n",
       "0              0.004254              1.0                   0.0       0.010929   \n",
       "1              0.003527              1.0                   0.0       0.000000   \n",
       "2              0.002344              0.0                   0.0       0.002732   \n",
       "3              0.012315              1.0                   0.0       0.021858   \n",
       "4              0.006484              1.0                   0.0       0.008197   \n",
       "...                 ...              ...                   ...            ...   \n",
       "13584          0.001047              0.5                   0.0       0.005464   \n",
       "13585          0.002763              0.5                   0.0       0.002732   \n",
       "13586          0.018989              0.0                   0.0       0.000000   \n",
       "13587          0.004622              0.0                   0.0       0.000000   \n",
       "13588          0.023890              0.0                   0.0       0.000000   \n",
       "\n",
       "       patience_idx2  ability_idx1  ability_idx2  ability_idx3  \n",
       "0           0.398810      0.012733      0.130435      0.439394  \n",
       "1           0.214286      0.004548      0.135550      0.590909  \n",
       "2           0.190476      0.013643      0.162404      0.772727  \n",
       "3           0.130952      0.015916      0.067775      0.371212  \n",
       "4           0.261905      0.028195      0.124041      0.515152  \n",
       "...              ...           ...           ...           ...  \n",
       "13584       0.250000      0.009095      0.131714      0.575758  \n",
       "13585       0.297619      0.040018      0.163683      0.613636  \n",
       "13586       0.005952      0.002274      0.017903      0.030303  \n",
       "13587       0.000000      0.003183      0.034527      0.204545  \n",
       "13588       0.011905      0.001364      0.021739      0.128788  \n",
       "\n",
       "[13589 rows x 27 columns]"
      ]
     },
     "execution_count": 572,
     "metadata": {},
     "output_type": "execute_result"
    }
   ],
   "source": [
    "scaler = MinMaxScaler()\n",
    "\n",
    "char_df_normalized = pd.DataFrame(scaler.fit_transform(char_df), columns=char_df.columns)\n",
    "char_df_normalized['user_id'] = char_df['user_id']\n",
    "char_df_normalized"
   ]
  },
  {
   "cell_type": "markdown",
   "metadata": {},
   "source": [
    "划分数据集"
   ]
  },
  {
   "cell_type": "code",
   "execution_count": 573,
   "metadata": {
    "scrolled": true
   },
   "outputs": [],
   "source": [
    "char_df_test = char_df[:2773]\n",
    "char_df_normalized_test = char_df_normalized[:2773]"
   ]
  },
  {
   "cell_type": "code",
   "execution_count": 574,
   "metadata": {},
   "outputs": [],
   "source": [
    "char_df_train = char_df[2773:10931]\n",
    "char_df_normalized_train = char_df_normalized[2773:10931]"
   ]
  },
  {
   "cell_type": "code",
   "execution_count": 575,
   "metadata": {
    "scrolled": true
   },
   "outputs": [],
   "source": [
    "char_df_normalized_dev = char_df_normalized[10931:13589]\n",
    "char_df_dev = char_df[10931:13589]"
   ]
  },
  {
   "cell_type": "code",
   "execution_count": 577,
   "metadata": {},
   "outputs": [],
   "source": [
    "feature_names = char_df.columns[1:]\n",
    "\n",
    "train_x = char_df_train[feature_names].values\n",
    "dev_x = char_df_dev[feature_names].values\n",
    "test_x = char_df_test[feature_names].values\n",
    "\n",
    "train_x_normalized = char_df_normalized_train[feature_names].values\n",
    "dev_x_normalized = char_df_normalized_dev[feature_names].values\n",
    "test_x_normalized = char_df_normalized_test[feature_names].values"
   ]
  },
  {
   "cell_type": "markdown",
   "metadata": {},
   "source": [
    "## 2.2 decision tree"
   ]
  },
  {
   "cell_type": "code",
   "execution_count": 578,
   "metadata": {},
   "outputs": [],
   "source": [
    "from sklearn.tree import DecisionTreeClassifier\n",
    "from sklearn.metrics import accuracy_score, roc_auc_score\n",
    "from sklearn.model_selection import GridSearchCV"
   ]
  },
  {
   "cell_type": "code",
   "execution_count": 585,
   "metadata": {},
   "outputs": [],
   "source": [
    "def tree_param_search(x,y):\n",
    "    tree_clf = DecisionTreeClassifier(random_state=2024)\n",
    "\n",
    "    param_grid = {'max_depth': range(2,12,2),\n",
    "                  'criterion':['entropy', 'gini']\n",
    "                  }\n",
    "\n",
    "    grid_search = GridSearchCV(estimator=tree_clf, scoring='accuracy',param_grid=param_grid, cv=5)\n",
    "    grid_search.fit(x, y)\n",
    "    print(grid_search.best_params_)\n",
    "    return grid_search.best_estimator_"
   ]
  },
  {
   "cell_type": "code",
   "execution_count": 668,
   "metadata": {},
   "outputs": [
    {
     "name": "stdout",
     "output_type": "stream",
     "text": [
      "{'criterion': 'entropy', 'max_depth': 2}\n",
      ">> AUC_tree_raw: 0.7674\n",
      "{'criterion': 'entropy', 'max_depth': 2}\n",
      ">> AUC_tree_normalized: 0.7674\n"
     ]
    }
   ],
   "source": [
    "#raw\n",
    "best_tree_raw = tree_param_search(train_x,train_y)\n",
    "y_pred_dev = best_tree_raw.predict_proba(dev_x)\n",
    "AUC_tree_raw = roc_auc_score(dev_y, y_pred_dev[:,1])\n",
    "print('>> AUC_tree_raw: {:.4f}'.format(AUC_tree_raw))\n",
    "\n",
    "#normalized\n",
    "best_tree_normalized = tree_param_search(train_x_normalized,train_y)\n",
    "y_pred_dev_normalized = best_tree_normalized.predict_proba(dev_x_normalized)\n",
    "AUC_tree_normalized = roc_auc_score(dev_y, y_pred_dev_normalized[:,1])\n",
    "print('>> AUC_tree_normalized: {:.4f}'.format(AUC_tree_normalized))"
   ]
  },
  {
   "cell_type": "code",
   "execution_count": 587,
   "metadata": {},
   "outputs": [
    {
     "data": {
      "text/plain": [
       "True"
      ]
     },
     "execution_count": 587,
     "metadata": {},
     "output_type": "execute_result"
    }
   ],
   "source": [
    "import graphviz\n",
    "from pydotplus import graph_from_dot_data\n",
    "from sklearn.tree import export_graphviz\n",
    "dot_data = export_graphviz(best_tree_raw,filled=True,class_names=['yes','no',],\n",
    "                          feature_names=list(feature_names.values),out_file=None)\n",
    "graph = graph_from_dot_data(dot_data)\n",
    "graph.write_png('tree.png')"
   ]
  },
  {
   "cell_type": "code",
   "execution_count": 588,
   "metadata": {},
   "outputs": [
    {
     "data": {
      "image/png": "[encoded data removed]",
      "text/plain": [
       "<IPython.core.display.Image object>"
      ]
     },
     "execution_count": 588,
     "metadata": {},
     "output_type": "execute_result"
    }
   ],
   "source": [
    "from IPython.display import Image\n",
    "Image(filename='tree.png')"
   ]
  },
  {
   "cell_type": "markdown",
   "metadata": {},
   "source": [
    "因以上归一化后数据和原数据的表现相似，后续均用归一化数据。"
   ]
  },
  {
   "cell_type": "markdown",
   "metadata": {},
   "source": [
    "## 2.3 logistic regression"
   ]
  },
  {
   "cell_type": "code",
   "execution_count": 709,
   "metadata": {},
   "outputs": [
    {
     "name": "stdout",
     "output_type": "stream",
     "text": [
      ">> AUC_logistic: 0.7831\n"
     ]
    }
   ],
   "source": [
    "from sklearn.linear_model import LogisticRegression\n",
    "\n",
    "logistic = LogisticRegression(penalty='l2',solver='liblinear')\n",
    "logistic.fit(train_x_normalized,train_y)\n",
    "y_pred_logistic_dev = logistic.predict_proba(dev_x_normalized)\n",
    "AUC_logistic = roc_auc_score(dev_y, y_pred_logistic_dev[:,1])\n",
    "print('>> AUC_logistic: {:.4f}'.format(AUC_logistic))"
   ]
  },
  {
   "cell_type": "markdown",
   "metadata": {},
   "source": [
    "## 2.4 贝叶斯"
   ]
  },
  {
   "cell_type": "code",
   "execution_count": 605,
   "metadata": {},
   "outputs": [
    {
     "name": "stdout",
     "output_type": "stream",
     "text": [
      ">> AUC_MNB: 0.7670\n",
      ">> AUC_BNB: 0.7238\n",
      ">> AUC_CNB: 0.7670\n"
     ]
    }
   ],
   "source": [
    "from sklearn.naive_bayes import MultinomialNB, BernoulliNB, ComplementNB\n",
    "\n",
    "MNB = MultinomialNB() # 多项式朴素贝叶斯模型\n",
    "BNB = BernoulliNB() # 伯努利朴素贝叶斯模型\n",
    "CNB = ComplementNB() # 补码朴素贝叶斯模型\n",
    "\n",
    "MNB.fit(train_x_normalized, train_y)\n",
    "y_pred_MNB_dev = MNB.predict_proba(dev_x_normalized)\n",
    "AUC_MNB = roc_auc_score(dev_y, y_pred_MNB_dev[:,1])\n",
    "print('>> AUC_MNB: {:.4f}'.format(AUC_MNB))\n",
    "\n",
    "BNB.fit(train_x_normalized, train_y)\n",
    "y_pred_BNB_dev = BNB.predict_proba(dev_x_normalized)\n",
    "AUC_BNB = roc_auc_score(dev_y, y_pred_BNB_dev[:,1])\n",
    "print('>> AUC_BNB: {:.4f}'.format(AUC_BNB))\n",
    "\n",
    "CNB.fit(train_x_normalized, train_y)\n",
    "y_pred_CNB_dev = CNB.predict_proba(dev_x_normalized)\n",
    "AUC_CNB = roc_auc_score(dev_y, y_pred_CNB_dev[:,1])\n",
    "print('>> AUC_CNB: {:.4f}'.format(AUC_CNB))"
   ]
  },
  {
   "cell_type": "markdown",
   "metadata": {},
   "source": [
    "## 2.5 KNN"
   ]
  },
  {
   "cell_type": "code",
   "execution_count": 357,
   "metadata": {},
   "outputs": [],
   "source": [
    "from sklearn.neighbors import KNeighborsClassifier"
   ]
  },
  {
   "cell_type": "code",
   "execution_count": 612,
   "metadata": {},
   "outputs": [],
   "source": [
    "def knn_param_search(x,y):\n",
    "    knn_clf = KNeighborsClassifier()\n",
    "\n",
    "    param_grid = {'n_neighbors': range(10,101,5),\n",
    "                  'weights':['uniform', 'distance']\n",
    "                  }\n",
    "\n",
    "    grid_search = GridSearchCV(estimator=knn_clf, scoring='accuracy',param_grid=param_grid, cv=5)\n",
    "    grid_search.fit(x, y)\n",
    "    print(grid_search.best_params_)\n",
    "    return grid_search.best_estimator_"
   ]
  },
  {
   "cell_type": "code",
   "execution_count": 613,
   "metadata": {},
   "outputs": [
    {
     "name": "stdout",
     "output_type": "stream",
     "text": [
      "{'n_neighbors': 85, 'weights': 'uniform'}\n",
      ">> AUC_knn: 0.7796\n"
     ]
    }
   ],
   "source": [
    "best_knn = knn_param_search(train_x_normalized,train_y)\n",
    "y_pred_dev = best_knn.predict_proba(dev_x_normalized)\n",
    "AUC_knn = roc_auc_score(dev_y, y_pred_dev[:,1])\n",
    "print('>> AUC_knn: {:.4f}'.format(AUC_knn))"
   ]
  },
  {
   "cell_type": "markdown",
   "metadata": {},
   "source": [
    "## 2.6 SVM"
   ]
  },
  {
   "cell_type": "code",
   "execution_count": 677,
   "metadata": {},
   "outputs": [],
   "source": [
    "from sklearn.svm import SVC, LinearSVC\n",
    "from sklearn.calibration import CalibratedClassifierCV"
   ]
  },
  {
   "cell_type": "code",
   "execution_count": 683,
   "metadata": {},
   "outputs": [
    {
     "name": "stdout",
     "output_type": "stream",
     "text": [
      ">> AUC_svm: 0.7587\n"
     ]
    }
   ],
   "source": [
    "# svm_clf = LinearSVC()\n",
    "svm_clf = SVC(probability=True)\n",
    "svm_clf.fit(train_x_normalized, train_y)\n",
    "y_pred_svm = svm_clf.predict_proba(dev_x_normalized)\n",
    "AUC_svm = roc_auc_score(dev_y, y_pred_svm[:,1])\n",
    "print('>> AUC_svm: {:.4f}'.format(AUC_svm))"
   ]
  },
  {
   "cell_type": "markdown",
   "metadata": {},
   "source": [
    "## 2.7 集成学习"
   ]
  },
  {
   "cell_type": "markdown",
   "metadata": {},
   "source": [
    "### 2.7.1 RandomForest"
   ]
  },
  {
   "cell_type": "code",
   "execution_count": 624,
   "metadata": {},
   "outputs": [],
   "source": [
    "from sklearn.ensemble import RandomForestClassifier"
   ]
  },
  {
   "cell_type": "code",
   "execution_count": 625,
   "metadata": {},
   "outputs": [],
   "source": [
    "def rfc_param_search(x,y):\n",
    "    rfc = RandomForestClassifier(n_estimators=50, random_state=2024)\n",
    "\n",
    "    param_grid = {'n_estimators':range(1,101,10)}\n",
    "\n",
    "    grid_search = GridSearchCV(estimator=rfc, scoring='accuracy',param_grid=param_grid, cv=5)\n",
    "    grid_search.fit(x, y)\n",
    "    print(grid_search.best_params_)\n",
    "    return grid_search.best_estimator_"
   ]
  },
  {
   "cell_type": "code",
   "execution_count": 626,
   "metadata": {},
   "outputs": [
    {
     "name": "stdout",
     "output_type": "stream",
     "text": [
      "{'n_estimators': 51}\n",
      ">> AUC_rfc: 0.7659\n"
     ]
    }
   ],
   "source": [
    "best_rfc = rfc_param_search(train_x_normalized, train_y)\n",
    "y_pred_rfc = best_rfc.predict_proba(dev_x_normalized)\n",
    "AUC_rfc = roc_auc_score(dev_y, y_pred_rfc[:,1])\n",
    "print('>> AUC_rfc: {:.4f}'.format(AUC_rfc))"
   ]
  },
  {
   "cell_type": "markdown",
   "metadata": {},
   "source": [
    "### 2.7.2 bagging"
   ]
  },
  {
   "cell_type": "code",
   "execution_count": 687,
   "metadata": {},
   "outputs": [],
   "source": [
    "def bagging_calib(num_model,base_model, train_X, train_y, num_sample_per, test_X):\n",
    "    predict_result_sum = np.zeros(test_X.shape[0])\n",
    "    for _ in range(num_model):\n",
    "        train_num = len(train_y)\n",
    "        sample_index = np.random.choice(train_num, int(num_sample_per*train_num), replace=True)\n",
    "        sample_X, sample_y = train_X[sample_index],train_y[sample_index]\n",
    "        X_train, X_calib, y_train, y_calib = train_test_split(\n",
    "                                             sample_X, sample_y, random_state=42)\n",
    "        \n",
    "        base_clf = base_model\n",
    "        base_clf.fit(X_train, y_train)\n",
    "        calibrated_clf = CalibratedClassifierCV(\n",
    "                       base_estimator=base_clf,\n",
    "                       cv=\"prefit\"\n",
    "                     )\n",
    "        calibrated_clf.fit(X_calib, y_calib)\n",
    "        \n",
    "        predict_result = calibrated_clf.predict_proba(test_X)[:,1]\n",
    "        predict_result_sum += predict_result\n",
    "    predict_result_sum /= num_model\n",
    "    return predict_result_sum"
   ]
  },
  {
   "cell_type": "markdown",
   "metadata": {},
   "source": [
    "bagging + svm"
   ]
  },
  {
   "cell_type": "code",
   "execution_count": 703,
   "metadata": {
    "scrolled": true
   },
   "outputs": [
    {
     "name": "stdout",
     "output_type": "stream",
     "text": [
      ">> AUC_bagging_svm: 0.7841\n"
     ]
    }
   ],
   "source": [
    "predict_bagging_svm_calib = bagging_calib(70,LinearSVC(),train_x_normalized,train_y,0.5,dev_x_normalized)\n",
    "AUC_bagging_svm = roc_auc_score(dev_y,predict_bagging_svm_calib)\n",
    "print('>> AUC_bagging_svm: {:.4f}'.format(AUC_bagging_svm))"
   ]
  },
  {
   "cell_type": "markdown",
   "metadata": {},
   "source": [
    "bagging + dc"
   ]
  },
  {
   "cell_type": "code",
   "execution_count": 699,
   "metadata": {},
   "outputs": [
    {
     "name": "stdout",
     "output_type": "stream",
     "text": [
      ">> AUC_bagging_dc: 0.7845\n"
     ]
    }
   ],
   "source": [
    "predict_bagging_dc_calib = bagging_calib(60,DecisionTreeClassifier(max_depth=2),train_x_normalized,train_y,0.5,dev_x_normalized)\n",
    "AUC_bagging_dc = roc_auc_score(dev_y,predict_bagging_dc_calib)\n",
    "print('>> AUC_bagging_dc: {:.4f}'.format(AUC_bagging_dc))"
   ]
  },
  {
   "cell_type": "markdown",
   "metadata": {},
   "source": [
    "bagging + knn"
   ]
  },
  {
   "cell_type": "code",
   "execution_count": 705,
   "metadata": {},
   "outputs": [
    {
     "name": "stdout",
     "output_type": "stream",
     "text": [
      ">> AUC_bagging_dc: 0.7838\n"
     ]
    }
   ],
   "source": [
    "predict_bagging_knn_calib = bagging_calib(70,KNeighborsClassifier(n_neighbors=85),train_x_normalized,train_y,0.5,dev_x_normalized)\n",
    "AUC_bagging_knn = roc_auc_score(dev_y,predict_bagging_knn_calib)\n",
    "print('>> AUC_bagging_dc: {:.4f}'.format(AUC_bagging_knn))"
   ]
  },
  {
   "cell_type": "markdown",
   "metadata": {},
   "source": [
    "bagging + bayes"
   ]
  },
  {
   "cell_type": "code",
   "execution_count": 718,
   "metadata": {},
   "outputs": [
    {
     "name": "stdout",
     "output_type": "stream",
     "text": [
      ">> AUC_bagging_dc: 0.7671\n"
     ]
    }
   ],
   "source": [
    "predict_bagging_bayes_calib = bagging_calib(100,MultinomialNB(),train_x_normalized,train_y,0.5,dev_x_normalized)\n",
    "AUC_bagging_bayes = roc_auc_score(dev_y,predict_bagging_bayes_calib)\n",
    "print('>> AUC_bagging_dc: {:.4f}'.format(AUC_bagging_bayes))"
   ]
  },
  {
   "cell_type": "markdown",
   "metadata": {},
   "source": [
    "### 2.7.3 averaging"
   ]
  },
  {
   "cell_type": "code",
   "execution_count": 728,
   "metadata": {},
   "outputs": [],
   "source": [
    "def avg(base_models, train_X, train_y, test_X):\n",
    "    num_model = len(base_models)\n",
    "    predict_result_sum = np.zeros(test_X.shape[0])\n",
    "    for base_model in base_models:\n",
    "        \n",
    "        base_model.fit(train_X, train_y)\n",
    "    \n",
    "        predict_result = base_model.predict_proba(test_X)[:,1]\n",
    "        predict_result_sum += predict_result\n",
    "    predict_result_sum /= num_model\n",
    "    return predict_result_sum"
   ]
  },
  {
   "cell_type": "code",
   "execution_count": 731,
   "metadata": {},
   "outputs": [],
   "source": [
    "base_models = [\n",
    "    LogisticRegression(penalty='l2',solver='liblinear'),\n",
    "    DecisionTreeClassifier(max_depth=3),\n",
    "    SVC(probability=True),\n",
    "    MultinomialNB(),\n",
    "    KNeighborsClassifier(n_neighbors=85)\n",
    "]"
   ]
  },
  {
   "cell_type": "code",
   "execution_count": 730,
   "metadata": {},
   "outputs": [
    {
     "name": "stdout",
     "output_type": "stream",
     "text": [
      ">> AUC_bagging_avg: 0.7842\n"
     ]
    }
   ],
   "source": [
    "predict_avg = avg(base_models, train_x_normalized, train_y, dev_x_normalized)\n",
    "AUC_bagging_avg = roc_auc_score(dev_y,predict_avg)\n",
    "print('>> AUC_bagging_avg: {:.4f}'.format(AUC_bagging_avg))"
   ]
  },
  {
   "cell_type": "markdown",
   "metadata": {},
   "source": [
    "### 2.7.4 adaboost"
   ]
  },
  {
   "cell_type": "code",
   "execution_count": 110,
   "metadata": {},
   "outputs": [],
   "source": [
    "from sklearn.ensemble import AdaBoostClassifier"
   ]
  },
  {
   "cell_type": "markdown",
   "metadata": {},
   "source": [
    "adaboost + dc"
   ]
  },
  {
   "cell_type": "code",
   "execution_count": 739,
   "metadata": {},
   "outputs": [
    {
     "name": "stdout",
     "output_type": "stream",
     "text": [
      ">> AUC_bagging_avg: 0.7842\n"
     ]
    }
   ],
   "source": [
    "tree_clf = DecisionTreeClassifier(max_depth=3, random_state=2024)\n",
    "ada_classifier_dc = AdaBoostClassifier(base_estimator=tree_clf, n_estimators=50, random_state=2024)\n",
    "\n",
    "ada_classifier_dc.fit(train_x_normalized, train_y)\n",
    "Y_pred_ada_avg = ada_classifier_dc.predict_proba(dev_x_normalized)\n",
    "print('>> AUC_bagging_avg: {:.4f}'.format(AUC_bagging_avg))"
   ]
  },
  {
   "cell_type": "markdown",
   "metadata": {},
   "source": [
    "adaboost + svm"
   ]
  },
  {
   "cell_type": "code",
   "execution_count": 740,
   "metadata": {},
   "outputs": [
    {
     "name": "stdout",
     "output_type": "stream",
     "text": [
      ">> AUC_bagging_svm: 0.7841\n"
     ]
    }
   ],
   "source": [
    "svm_clf = SVC(probability = True)\n",
    "ada_classifier_svm = AdaBoostClassifier(base_estimator=svm_clf, n_estimators=50, random_state=2024)\n",
    "\n",
    "ada_classifier_svm.fit(train_x_normalized, train_y)\n",
    "Y_pred_ada_svm = ada_classifier_dc.predict_proba(dev_x_normalized)\n",
    "print('>> AUC_bagging_svm: {:.4f}'.format(AUC_bagging_svm))"
   ]
  },
  {
   "cell_type": "markdown",
   "metadata": {},
   "source": [
    "### 2.7.3 stacking"
   ]
  },
  {
   "cell_type": "code",
   "execution_count": 724,
   "metadata": {},
   "outputs": [
    {
     "name": "stdout",
     "output_type": "stream",
     "text": [
      ">> AUC_stacking: 0.6957\n"
     ]
    }
   ],
   "source": [
    "base_models = [\n",
    "    LogisticRegression(penalty='l2',solver='liblinear'),\n",
    "    DecisionTreeClassifier(max_depth=3),\n",
    "    SVC(probability=True),\n",
    "    MultinomialNB(),\n",
    "    KNeighborsClassifier(n_neighbors=85)\n",
    "]\n",
    "\n",
    "X_train_meta = []\n",
    "X_dev_meta = []\n",
    "X_test_meta = []\n",
    "for model in base_models:\n",
    "    model.fit(train_x_normalized, train_y)\n",
    "    X_train_meta.append(model.predict_proba(train_x_normalized))\n",
    "    X_dev_meta.append(model.predict_proba(dev_x_normalized))\n",
    "    X_test_meta.append(model.predict_proba(test_x_normalized))\n",
    "\n",
    "X_train_meta = np.concatenate(X_train_meta, axis=1)\n",
    "X_dev_meta = np.concatenate(X_dev_meta, axis=1)\n",
    "X_test_meta = np.concatenate(X_test_meta, axis=1)\n",
    "\n",
    "meta_model = LogisticRegression(penalty='l2',solver='liblinear')\n",
    "meta_model.fit(X_train_meta, train_y)\n",
    "\n",
    "y_pred_dev = meta_model.predict(X_dev_meta)\n",
    "y_pred_test = meta_model.predict_proba(X_test_meta)\n",
    "AUC_stacking = roc_auc_score(dev_y, y_pred_dev)\n",
    "print('>> AUC_stacking: {:.4f}'.format(AUC_stacking))"
   ]
  },
  {
   "cell_type": "markdown",
   "metadata": {},
   "source": [
    "经过比较多个模型的结果，我们选择bagging+dc"
   ]
  },
  {
   "cell_type": "code",
   "execution_count": 741,
   "metadata": {},
   "outputs": [],
   "source": [
    "predict_bagging_dc_calib = bagging_calib(60,DecisionTreeClassifier(max_depth=2),train_x_normalized,train_y,0.5,test_x_normalized)"
   ]
  },
  {
   "cell_type": "code",
   "execution_count": 743,
   "metadata": {},
   "outputs": [
    {
     "name": "stdout",
     "output_type": "stream",
     "text": [
      "        ID  Prediction\n",
      "0        1    0.111493\n",
      "1        2    0.116875\n",
      "2        3    0.579939\n",
      "3        4    0.120322\n",
      "4        5    0.111493\n",
      "...    ...         ...\n",
      "2768  2769    0.383500\n",
      "2769  2770    0.113465\n",
      "2770  2771    0.135367\n",
      "2771  2772    0.586003\n",
      "2772  2773    0.579939\n",
      "\n",
      "[2773 rows x 2 columns]\n"
     ]
    }
   ],
   "source": [
    "pre_df = pd.DataFrame({'ID':range(1,2774),'Prediction':predict_bagging_dc_calib})\n",
    "print(pre_df)\n",
    "pre_df.to_csv('output_bagging_dc.csv', index=False)"
   ]
  }
 ],
 "metadata": {
  "kernelspec": {
   "display_name": "Python 3 (ipykernel)",
   "language": "python",
   "name": "python3"
  },
  "language_info": {
   "codemirror_mode": {
    "name": "ipython",
    "version": 3
   },
   "file_extension": ".py",
   "mimetype": "text/x-python",
   "name": "python",
   "nbconvert_exporter": "python",
   "pygments_lexer": "ipython3",
   "version": "3.9.7"
  }
 },
 "nbformat": 4,
 "nbformat_minor": 4
}
